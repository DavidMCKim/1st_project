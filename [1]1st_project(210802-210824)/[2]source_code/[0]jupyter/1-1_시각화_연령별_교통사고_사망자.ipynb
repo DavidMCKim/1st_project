{
 "cells": [
  {
   "cell_type": "code",
   "execution_count": 53,
   "id": "a795e258",
   "metadata": {},
   "outputs": [],
   "source": [
    "import pandas as pd\n",
    "import numpy as np\n",
    "import matplotlib.pyplot as plt\n",
    "from tqdm import tqdm_notebook\n",
    "\n",
    "# 전체 코드 출력\n",
    "from IPython.core.interactiveshell import InteractiveShell\n",
    "InteractiveShell.ast_node_interactivity=\"all\""
   ]
  },
  {
   "cell_type": "code",
   "execution_count": 54,
   "id": "a24fbbc0",
   "metadata": {},
   "outputs": [],
   "source": [
    "# 한글 문제\n",
    "# matplotlit의 기본 폰트에서 한글 지원되지 않기 때문에\n",
    "# matplotlib의 폰트 변경 필요\n",
    "import platform\n",
    "\n",
    "from matplotlib import font_manager, rc\n",
    "plt.rcParams['axes.unicode_minus'] = False\n",
    "\n",
    "if platform.system() == 'Darwin':  # 맥OS \n",
    "    rc('font', family='AppleGothic')\n",
    "elif platform.system() == 'Windows':  # 윈도우\n",
    "    path = \"c:/Windows/Fonts/malgun.ttf\"\n",
    "    font_name = font_manager.FontProperties(fname=path).get_name()\n",
    "    rc('font', family=font_name)\n",
    "else:\n",
    "    print('Unknown system...  sorry~~~')"
   ]
  },
  {
   "cell_type": "markdown",
   "id": "6fa5462f",
   "metadata": {},
   "source": [
    "## 1. 연령별 교통사고 사망자 시각화"
   ]
  },
  {
   "cell_type": "code",
   "execution_count": 55,
   "id": "f4eef9c1",
   "metadata": {},
   "outputs": [
    {
     "data": {
      "text/html": [
       "<div>\n",
       "<style scoped>\n",
       "    .dataframe tbody tr th:only-of-type {\n",
       "        vertical-align: middle;\n",
       "    }\n",
       "\n",
       "    .dataframe tbody tr th {\n",
       "        vertical-align: top;\n",
       "    }\n",
       "\n",
       "    .dataframe thead th {\n",
       "        text-align: right;\n",
       "    }\n",
       "</style>\n",
       "<table border=\"1\" class=\"dataframe\">\n",
       "  <thead>\n",
       "    <tr style=\"text-align: right;\">\n",
       "      <th></th>\n",
       "      <th>사망자수</th>\n",
       "      <th>부상자수</th>\n",
       "      <th>사상자수대비 사망자 비율</th>\n",
       "    </tr>\n",
       "    <tr>\n",
       "      <th>연령층별</th>\n",
       "      <th></th>\n",
       "      <th></th>\n",
       "      <th></th>\n",
       "    </tr>\n",
       "  </thead>\n",
       "  <tbody>\n",
       "    <tr>\n",
       "      <th>12세이하</th>\n",
       "      <td>28.0</td>\n",
       "      <td>14115.0</td>\n",
       "      <td>0.20</td>\n",
       "    </tr>\n",
       "    <tr>\n",
       "      <th>13-20세</th>\n",
       "      <td>108.0</td>\n",
       "      <td>19884.0</td>\n",
       "      <td>0.54</td>\n",
       "    </tr>\n",
       "    <tr>\n",
       "      <th>21-30세</th>\n",
       "      <td>247.0</td>\n",
       "      <td>58010.0</td>\n",
       "      <td>0.42</td>\n",
       "    </tr>\n",
       "    <tr>\n",
       "      <th>31-40세</th>\n",
       "      <td>231.0</td>\n",
       "      <td>59022.0</td>\n",
       "      <td>0.39</td>\n",
       "    </tr>\n",
       "    <tr>\n",
       "      <th>41-50세</th>\n",
       "      <td>324.0</td>\n",
       "      <td>60127.0</td>\n",
       "      <td>0.54</td>\n",
       "    </tr>\n",
       "    <tr>\n",
       "      <th>51-60세</th>\n",
       "      <td>614.0</td>\n",
       "      <td>64455.0</td>\n",
       "      <td>0.94</td>\n",
       "    </tr>\n",
       "    <tr>\n",
       "      <th>61-64세</th>\n",
       "      <td>271.0</td>\n",
       "      <td>21608.0</td>\n",
       "      <td>1.24</td>\n",
       "    </tr>\n",
       "    <tr>\n",
       "      <th>65세이상</th>\n",
       "      <td>1523.0</td>\n",
       "      <td>44390.0</td>\n",
       "      <td>3.32</td>\n",
       "    </tr>\n",
       "  </tbody>\n",
       "</table>\n",
       "</div>"
      ],
      "text/plain": [
       "          사망자수     부상자수  사상자수대비 사망자 비율\n",
       "연령층별                                  \n",
       "12세이하     28.0  14115.0           0.20\n",
       "13-20세   108.0  19884.0           0.54\n",
       "21-30세   247.0  58010.0           0.42\n",
       "31-40세   231.0  59022.0           0.39\n",
       "41-50세   324.0  60127.0           0.54\n",
       "51-60세   614.0  64455.0           0.94\n",
       "61-64세   271.0  21608.0           1.24\n",
       "65세이상   1523.0  44390.0           3.32"
      ]
     },
     "execution_count": 55,
     "metadata": {},
     "output_type": "execute_result"
    }
   ],
   "source": [
    "data=pd.read_csv('../[0]data/0-1_전국_연령층별_교통사고_사상자(결과).csv',index_col=0)\n",
    "data"
   ]
  },
  {
   "cell_type": "code",
   "execution_count": 56,
   "id": "4605ca36",
   "metadata": {},
   "outputs": [
    {
     "data": {
      "text/plain": [
       "<Figure size 720x432 with 0 Axes>"
      ]
     },
     "execution_count": 56,
     "metadata": {},
     "output_type": "execute_result"
    },
    {
     "data": {
      "text/plain": [
       "<BarContainer object of 8 artists>"
      ]
     },
     "execution_count": 56,
     "metadata": {},
     "output_type": "execute_result"
    },
    {
     "data": {
      "text/plain": [
       "Text(0.5, 1.0, '<연령대별 사상자수 대비 사망자 비율>')"
      ]
     },
     "execution_count": 56,
     "metadata": {},
     "output_type": "execute_result"
    },
    {
     "data": {
      "image/png": "[encoded data removed]",
      "text/plain": [
       "<Figure size 720x432 with 1 Axes>"
      ]
     },
     "metadata": {
      "needs_background": "light"
     },
     "output_type": "display_data"
    }
   ],
   "source": [
    "plt.figure(figsize=(10,6))\n",
    "plt.bar(data.index,data['사상자수대비 사망자 비율'],color=['silver','silver','silver','silver','silver','silver','silver','#FF5252'],alpha=0.7,width=0.7)\n",
    "plt.title('<연령대별 사상자수 대비 사망자 비율>',fontsize=20,pad=30,fontweight=\"bold\")\n",
    "plt.grid(True,axis='y')\n",
    "\n",
    "plt.savefig('../[0]data/1-1-1_시각화_연령대별_사상자수_대비_사망자_비율(결과).png')"
   ]
  },
  {
   "cell_type": "code",
   "execution_count": 57,
   "id": "252a9854",
   "metadata": {},
   "outputs": [
    {
     "data": {
      "text/html": [
       "<div>\n",
       "<style scoped>\n",
       "    .dataframe tbody tr th:only-of-type {\n",
       "        vertical-align: middle;\n",
       "    }\n",
       "\n",
       "    .dataframe tbody tr th {\n",
       "        vertical-align: top;\n",
       "    }\n",
       "\n",
       "    .dataframe thead th {\n",
       "        text-align: right;\n",
       "    }\n",
       "</style>\n",
       "<table border=\"1\" class=\"dataframe\">\n",
       "  <thead>\n",
       "    <tr style=\"text-align: right;\">\n",
       "      <th></th>\n",
       "      <th>사망자수</th>\n",
       "      <th>부상자수</th>\n",
       "      <th>사상자수대비 사망자 비율</th>\n",
       "    </tr>\n",
       "    <tr>\n",
       "      <th>연령층별</th>\n",
       "      <th></th>\n",
       "      <th></th>\n",
       "      <th></th>\n",
       "    </tr>\n",
       "  </thead>\n",
       "  <tbody>\n",
       "    <tr>\n",
       "      <th>12세이하</th>\n",
       "      <td>28.0</td>\n",
       "      <td>14115.0</td>\n",
       "      <td>0.20</td>\n",
       "    </tr>\n",
       "    <tr>\n",
       "      <th>13-20세</th>\n",
       "      <td>108.0</td>\n",
       "      <td>19884.0</td>\n",
       "      <td>0.54</td>\n",
       "    </tr>\n",
       "    <tr>\n",
       "      <th>21-30세</th>\n",
       "      <td>247.0</td>\n",
       "      <td>58010.0</td>\n",
       "      <td>0.42</td>\n",
       "    </tr>\n",
       "    <tr>\n",
       "      <th>31-40세</th>\n",
       "      <td>231.0</td>\n",
       "      <td>59022.0</td>\n",
       "      <td>0.39</td>\n",
       "    </tr>\n",
       "    <tr>\n",
       "      <th>41-50세</th>\n",
       "      <td>324.0</td>\n",
       "      <td>60127.0</td>\n",
       "      <td>0.54</td>\n",
       "    </tr>\n",
       "    <tr>\n",
       "      <th>51-60세</th>\n",
       "      <td>614.0</td>\n",
       "      <td>64455.0</td>\n",
       "      <td>0.94</td>\n",
       "    </tr>\n",
       "    <tr>\n",
       "      <th>61-64세</th>\n",
       "      <td>271.0</td>\n",
       "      <td>21608.0</td>\n",
       "      <td>1.24</td>\n",
       "    </tr>\n",
       "    <tr>\n",
       "      <th>65세이상</th>\n",
       "      <td>1523.0</td>\n",
       "      <td>44390.0</td>\n",
       "      <td>3.32</td>\n",
       "    </tr>\n",
       "  </tbody>\n",
       "</table>\n",
       "</div>"
      ],
      "text/plain": [
       "          사망자수     부상자수  사상자수대비 사망자 비율\n",
       "연령층별                                  \n",
       "12세이하     28.0  14115.0           0.20\n",
       "13-20세   108.0  19884.0           0.54\n",
       "21-30세   247.0  58010.0           0.42\n",
       "31-40세   231.0  59022.0           0.39\n",
       "41-50세   324.0  60127.0           0.54\n",
       "51-60세   614.0  64455.0           0.94\n",
       "61-64세   271.0  21608.0           1.24\n",
       "65세이상   1523.0  44390.0           3.32"
      ]
     },
     "execution_count": 57,
     "metadata": {},
     "output_type": "execute_result"
    }
   ],
   "source": [
    "data"
   ]
  },
  {
   "cell_type": "code",
   "execution_count": 58,
   "id": "fa7d97ee",
   "metadata": {},
   "outputs": [
    {
     "data": {
      "text/html": [
       "<div>\n",
       "<style scoped>\n",
       "    .dataframe tbody tr th:only-of-type {\n",
       "        vertical-align: middle;\n",
       "    }\n",
       "\n",
       "    .dataframe tbody tr th {\n",
       "        vertical-align: top;\n",
       "    }\n",
       "\n",
       "    .dataframe thead th {\n",
       "        text-align: right;\n",
       "    }\n",
       "</style>\n",
       "<table border=\"1\" class=\"dataframe\">\n",
       "  <thead>\n",
       "    <tr style=\"text-align: right;\">\n",
       "      <th>연령층별</th>\n",
       "      <th>12세이하</th>\n",
       "      <th>13-20세</th>\n",
       "      <th>21-30세</th>\n",
       "      <th>31-40세</th>\n",
       "      <th>41-50세</th>\n",
       "      <th>51-60세</th>\n",
       "      <th>61-64세</th>\n",
       "      <th>65세이상</th>\n",
       "    </tr>\n",
       "  </thead>\n",
       "  <tbody>\n",
       "    <tr>\n",
       "      <th>사망자수</th>\n",
       "      <td>28.0</td>\n",
       "      <td>108.00</td>\n",
       "      <td>247.00</td>\n",
       "      <td>231.00</td>\n",
       "      <td>324.00</td>\n",
       "      <td>614.00</td>\n",
       "      <td>271.00</td>\n",
       "      <td>1523.00</td>\n",
       "    </tr>\n",
       "    <tr>\n",
       "      <th>부상자수</th>\n",
       "      <td>14115.0</td>\n",
       "      <td>19884.00</td>\n",
       "      <td>58010.00</td>\n",
       "      <td>59022.00</td>\n",
       "      <td>60127.00</td>\n",
       "      <td>64455.00</td>\n",
       "      <td>21608.00</td>\n",
       "      <td>44390.00</td>\n",
       "    </tr>\n",
       "    <tr>\n",
       "      <th>사상자수대비 사망자 비율</th>\n",
       "      <td>0.2</td>\n",
       "      <td>0.54</td>\n",
       "      <td>0.42</td>\n",
       "      <td>0.39</td>\n",
       "      <td>0.54</td>\n",
       "      <td>0.94</td>\n",
       "      <td>1.24</td>\n",
       "      <td>3.32</td>\n",
       "    </tr>\n",
       "  </tbody>\n",
       "</table>\n",
       "</div>"
      ],
      "text/plain": [
       "연령층별             12세이하    13-20세    21-30세    31-40세    41-50세    51-60세  \\\n",
       "사망자수              28.0    108.00    247.00    231.00    324.00    614.00   \n",
       "부상자수           14115.0  19884.00  58010.00  59022.00  60127.00  64455.00   \n",
       "사상자수대비 사망자 비율      0.2      0.54      0.42      0.39      0.54      0.94   \n",
       "\n",
       "연령층별             61-64세     65세이상  \n",
       "사망자수             271.00   1523.00  \n",
       "부상자수           21608.00  44390.00  \n",
       "사상자수대비 사망자 비율      1.24      3.32  "
      ]
     },
     "execution_count": 58,
     "metadata": {},
     "output_type": "execute_result"
    }
   ],
   "source": [
    "# ~20 : 유아.청소년 / 21~64 : 청,장년층 / 65~ : 노인\n",
    "data.T"
   ]
  },
  {
   "cell_type": "code",
   "execution_count": 59,
   "id": "3749eedd",
   "metadata": {},
   "outputs": [],
   "source": [
    "new_data = data.T"
   ]
  },
  {
   "cell_type": "code",
   "execution_count": 60,
   "id": "2304ee68",
   "metadata": {},
   "outputs": [],
   "source": [
    "new_data['유아/청소년층']=new_data['12세이하']+new_data['13-20세']\n",
    "new_data['청/장년층'] = new_data['21-30세']+new_data['31-40세']+new_data['41-50세']+new_data['51-60세']+new_data['61-64세']\n",
    "new_data['노인층'] = new_data['65세이상']"
   ]
  },
  {
   "cell_type": "code",
   "execution_count": 61,
   "id": "8be09f87",
   "metadata": {},
   "outputs": [
    {
     "data": {
      "text/html": [
       "<div>\n",
       "<style scoped>\n",
       "    .dataframe tbody tr th:only-of-type {\n",
       "        vertical-align: middle;\n",
       "    }\n",
       "\n",
       "    .dataframe tbody tr th {\n",
       "        vertical-align: top;\n",
       "    }\n",
       "\n",
       "    .dataframe thead th {\n",
       "        text-align: right;\n",
       "    }\n",
       "</style>\n",
       "<table border=\"1\" class=\"dataframe\">\n",
       "  <thead>\n",
       "    <tr style=\"text-align: right;\">\n",
       "      <th></th>\n",
       "      <th>사망자수</th>\n",
       "      <th>부상자수</th>\n",
       "      <th>사상자수대비 사망자 비율</th>\n",
       "    </tr>\n",
       "    <tr>\n",
       "      <th>연령층별</th>\n",
       "      <th></th>\n",
       "      <th></th>\n",
       "      <th></th>\n",
       "    </tr>\n",
       "  </thead>\n",
       "  <tbody>\n",
       "    <tr>\n",
       "      <th>12세이하</th>\n",
       "      <td>28.0</td>\n",
       "      <td>14115.0</td>\n",
       "      <td>0.20</td>\n",
       "    </tr>\n",
       "    <tr>\n",
       "      <th>13-20세</th>\n",
       "      <td>108.0</td>\n",
       "      <td>19884.0</td>\n",
       "      <td>0.54</td>\n",
       "    </tr>\n",
       "    <tr>\n",
       "      <th>21-30세</th>\n",
       "      <td>247.0</td>\n",
       "      <td>58010.0</td>\n",
       "      <td>0.42</td>\n",
       "    </tr>\n",
       "    <tr>\n",
       "      <th>31-40세</th>\n",
       "      <td>231.0</td>\n",
       "      <td>59022.0</td>\n",
       "      <td>0.39</td>\n",
       "    </tr>\n",
       "    <tr>\n",
       "      <th>41-50세</th>\n",
       "      <td>324.0</td>\n",
       "      <td>60127.0</td>\n",
       "      <td>0.54</td>\n",
       "    </tr>\n",
       "    <tr>\n",
       "      <th>51-60세</th>\n",
       "      <td>614.0</td>\n",
       "      <td>64455.0</td>\n",
       "      <td>0.94</td>\n",
       "    </tr>\n",
       "    <tr>\n",
       "      <th>61-64세</th>\n",
       "      <td>271.0</td>\n",
       "      <td>21608.0</td>\n",
       "      <td>1.24</td>\n",
       "    </tr>\n",
       "    <tr>\n",
       "      <th>65세이상</th>\n",
       "      <td>1523.0</td>\n",
       "      <td>44390.0</td>\n",
       "      <td>3.32</td>\n",
       "    </tr>\n",
       "    <tr>\n",
       "      <th>유아/청소년층</th>\n",
       "      <td>136.0</td>\n",
       "      <td>33999.0</td>\n",
       "      <td>0.74</td>\n",
       "    </tr>\n",
       "    <tr>\n",
       "      <th>청/장년층</th>\n",
       "      <td>1687.0</td>\n",
       "      <td>263222.0</td>\n",
       "      <td>3.53</td>\n",
       "    </tr>\n",
       "    <tr>\n",
       "      <th>노인층</th>\n",
       "      <td>1523.0</td>\n",
       "      <td>44390.0</td>\n",
       "      <td>3.32</td>\n",
       "    </tr>\n",
       "  </tbody>\n",
       "</table>\n",
       "</div>"
      ],
      "text/plain": [
       "           사망자수      부상자수  사상자수대비 사망자 비율\n",
       "연령층별                                    \n",
       "12세이하      28.0   14115.0           0.20\n",
       "13-20세    108.0   19884.0           0.54\n",
       "21-30세    247.0   58010.0           0.42\n",
       "31-40세    231.0   59022.0           0.39\n",
       "41-50세    324.0   60127.0           0.54\n",
       "51-60세    614.0   64455.0           0.94\n",
       "61-64세    271.0   21608.0           1.24\n",
       "65세이상    1523.0   44390.0           3.32\n",
       "유아/청소년층   136.0   33999.0           0.74\n",
       "청/장년층    1687.0  263222.0           3.53\n",
       "노인층      1523.0   44390.0           3.32"
      ]
     },
     "execution_count": 61,
     "metadata": {},
     "output_type": "execute_result"
    }
   ],
   "source": [
    "data = new_data.T\n",
    "data"
   ]
  },
  {
   "cell_type": "code",
   "execution_count": 62,
   "id": "d2b386a3",
   "metadata": {},
   "outputs": [],
   "source": [
    "data[\"사상자수대비 사망자 비율\"]=((data['사망자수']/(data[\"사망자수\"]+data[\"부상자수\"]))*100).round(2)"
   ]
  },
  {
   "cell_type": "code",
   "execution_count": 63,
   "id": "8c955d25",
   "metadata": {
    "scrolled": false
   },
   "outputs": [
    {
     "data": {
      "text/html": [
       "<div>\n",
       "<style scoped>\n",
       "    .dataframe tbody tr th:only-of-type {\n",
       "        vertical-align: middle;\n",
       "    }\n",
       "\n",
       "    .dataframe tbody tr th {\n",
       "        vertical-align: top;\n",
       "    }\n",
       "\n",
       "    .dataframe thead th {\n",
       "        text-align: right;\n",
       "    }\n",
       "</style>\n",
       "<table border=\"1\" class=\"dataframe\">\n",
       "  <thead>\n",
       "    <tr style=\"text-align: right;\">\n",
       "      <th></th>\n",
       "      <th>사망자수</th>\n",
       "      <th>부상자수</th>\n",
       "      <th>사상자수대비 사망자 비율</th>\n",
       "    </tr>\n",
       "    <tr>\n",
       "      <th>연령층별</th>\n",
       "      <th></th>\n",
       "      <th></th>\n",
       "      <th></th>\n",
       "    </tr>\n",
       "  </thead>\n",
       "  <tbody>\n",
       "    <tr>\n",
       "      <th>12세이하</th>\n",
       "      <td>28.0</td>\n",
       "      <td>14115.0</td>\n",
       "      <td>0.20</td>\n",
       "    </tr>\n",
       "    <tr>\n",
       "      <th>13-20세</th>\n",
       "      <td>108.0</td>\n",
       "      <td>19884.0</td>\n",
       "      <td>0.54</td>\n",
       "    </tr>\n",
       "    <tr>\n",
       "      <th>21-30세</th>\n",
       "      <td>247.0</td>\n",
       "      <td>58010.0</td>\n",
       "      <td>0.42</td>\n",
       "    </tr>\n",
       "    <tr>\n",
       "      <th>31-40세</th>\n",
       "      <td>231.0</td>\n",
       "      <td>59022.0</td>\n",
       "      <td>0.39</td>\n",
       "    </tr>\n",
       "    <tr>\n",
       "      <th>41-50세</th>\n",
       "      <td>324.0</td>\n",
       "      <td>60127.0</td>\n",
       "      <td>0.54</td>\n",
       "    </tr>\n",
       "    <tr>\n",
       "      <th>51-60세</th>\n",
       "      <td>614.0</td>\n",
       "      <td>64455.0</td>\n",
       "      <td>0.94</td>\n",
       "    </tr>\n",
       "    <tr>\n",
       "      <th>61-64세</th>\n",
       "      <td>271.0</td>\n",
       "      <td>21608.0</td>\n",
       "      <td>1.24</td>\n",
       "    </tr>\n",
       "    <tr>\n",
       "      <th>65세이상</th>\n",
       "      <td>1523.0</td>\n",
       "      <td>44390.0</td>\n",
       "      <td>3.32</td>\n",
       "    </tr>\n",
       "    <tr>\n",
       "      <th>유아/청소년층</th>\n",
       "      <td>136.0</td>\n",
       "      <td>33999.0</td>\n",
       "      <td>0.40</td>\n",
       "    </tr>\n",
       "    <tr>\n",
       "      <th>청/장년층</th>\n",
       "      <td>1687.0</td>\n",
       "      <td>263222.0</td>\n",
       "      <td>0.64</td>\n",
       "    </tr>\n",
       "    <tr>\n",
       "      <th>노인층</th>\n",
       "      <td>1523.0</td>\n",
       "      <td>44390.0</td>\n",
       "      <td>3.32</td>\n",
       "    </tr>\n",
       "  </tbody>\n",
       "</table>\n",
       "</div>"
      ],
      "text/plain": [
       "           사망자수      부상자수  사상자수대비 사망자 비율\n",
       "연령층별                                    \n",
       "12세이하      28.0   14115.0           0.20\n",
       "13-20세    108.0   19884.0           0.54\n",
       "21-30세    247.0   58010.0           0.42\n",
       "31-40세    231.0   59022.0           0.39\n",
       "41-50세    324.0   60127.0           0.54\n",
       "51-60세    614.0   64455.0           0.94\n",
       "61-64세    271.0   21608.0           1.24\n",
       "65세이상    1523.0   44390.0           3.32\n",
       "유아/청소년층   136.0   33999.0           0.40\n",
       "청/장년층    1687.0  263222.0           0.64\n",
       "노인층      1523.0   44390.0           3.32"
      ]
     },
     "execution_count": 63,
     "metadata": {},
     "output_type": "execute_result"
    }
   ],
   "source": [
    "data"
   ]
  },
  {
   "cell_type": "code",
   "execution_count": 64,
   "id": "5f152b83",
   "metadata": {},
   "outputs": [],
   "source": [
    "per_data = data.iloc[[8,9,10]]"
   ]
  },
  {
   "cell_type": "code",
   "execution_count": 65,
   "id": "e306e8a3",
   "metadata": {
    "scrolled": false
   },
   "outputs": [
    {
     "data": {
      "text/plain": [
       "<Figure size 720x720 with 0 Axes>"
      ]
     },
     "execution_count": 65,
     "metadata": {},
     "output_type": "execute_result"
    },
    {
     "data": {
      "text/plain": [
       "<BarContainer object of 3 artists>"
      ]
     },
     "execution_count": 65,
     "metadata": {},
     "output_type": "execute_result"
    },
    {
     "data": {
      "text/plain": [
       "Text(0.5, 1.0, '<연령층별 사상자수 대비 사망자 비율>')"
      ]
     },
     "execution_count": 65,
     "metadata": {},
     "output_type": "execute_result"
    },
    {
     "data": {
      "text/plain": [
       "Text(0.5, 0, '연령층')"
      ]
     },
     "execution_count": 65,
     "metadata": {},
     "output_type": "execute_result"
    },
    {
     "data": {
      "text/plain": [
       "Text(0, 0.5, '사상자수 대비 사망자 비율')"
      ]
     },
     "execution_count": 65,
     "metadata": {},
     "output_type": "execute_result"
    },
    {
     "data": {
      "image/png": "[encoded data removed]",
      "text/plain": [
       "<Figure size 720x720 with 1 Axes>"
      ]
     },
     "metadata": {
      "needs_background": "light"
     },
     "output_type": "display_data"
    }
   ],
   "source": [
    "plt.figure(figsize=(10,10))\n",
    "plt.bar(per_data.index,per_data['사상자수대비 사망자 비율'],color=('gray','gray','#FF5252'),alpha=0.7,width=0.6)\n",
    "plt.title('<연령층별 사상자수 대비 사망자 비율>',fontsize=20,pad=30,fontweight=\"bold\")\n",
    "\n",
    "plt.grid(True,axis='y')\n",
    "plt.xlabel('연령층',labelpad=20,fontsize=15)\n",
    "plt.ylabel('사상자수 대비 사망자 비율',labelpad=15,fontsize=15)\n",
    "\n",
    "plt.savefig('../[0]data/1-1-2_시각화_연령층별_사상자수_대비_사망자_비율(결과).png')"
   ]
  },
  {
   "cell_type": "code",
   "execution_count": 66,
   "id": "e3a0c328",
   "metadata": {},
   "outputs": [
    {
     "data": {
      "text/plain": [
       "<Figure size 720x720 with 0 Axes>"
      ]
     },
     "execution_count": 66,
     "metadata": {},
     "output_type": "execute_result"
    },
    {
     "data": {
      "text/plain": [
       "Text(0.5, 1.0, '<연령층별 교통사고 사망자 비율>')"
      ]
     },
     "execution_count": 66,
     "metadata": {},
     "output_type": "execute_result"
    },
    {
     "data": {
      "text/plain": [
       "([<matplotlib.patches.Wedge at 0x7fd562e4bd60>,\n",
       "  <matplotlib.patches.Wedge at 0x7fd562e586d0>,\n",
       "  <matplotlib.patches.Wedge at 0x7fd562e680a0>],\n",
       " [Text(-1.0979643756501203, -0.0668896838327244, '유아/청소년층'),\n",
       "  Text(1.1268723407565626, 0.6481965193040036, '노인층'),\n",
       "  Text(-0.7582752225926034, -0.7968805975816817, '청/장년층')],\n",
       " [Text(-0.5988896594455201, -0.03648528209057694, '9.2 %'),\n",
       "  Text(0.6934599020040384, 0.3988901657255407, '76.1 %'),\n",
       "  Text(-0.4136046668686927, -0.4346621441354627, '14.7 %')])"
      ]
     },
     "execution_count": 66,
     "metadata": {},
     "output_type": "execute_result"
    },
    {
     "data": {
      "text/plain": [
       "<matplotlib.legend.Legend at 0x7fd562e4bcd0>"
      ]
     },
     "execution_count": 66,
     "metadata": {},
     "output_type": "execute_result"
    },
    {
     "data": {
      "image/png": "[encoded data removed]",
      "text/plain": [
       "<Figure size 720x720 with 1 Axes>"
      ]
     },
     "metadata": {},
     "output_type": "display_data"
    }
   ],
   "source": [
    "labels=['유아/청소년층', '노인층', '청/장년층']\n",
    "size=[0.4,3.32,0.64]\n",
    "colors=['silver','gold','whitesmoke']\n",
    "explode=[0,0.2,0]\n",
    "\n",
    "plt.figure(figsize=(10,10))\n",
    "plt.title('<연령층별 교통사고 사망자 비율>',fontsize=20,pad=30,fontweight=\"bold\")\n",
    "wedgeprops={'width': 0.7, 'edgecolor': 'w', 'linewidth': 5}\n",
    "\n",
    "plt.pie(size, labels=labels, colors=colors, explode=explode,startangle=200, autopct='%1.1f %%',counterclock=False, shadow=True,\n",
    "       wedgeprops=wedgeprops,textprops = {'fontsize':15})\n",
    "plt.legend(labels=labels, loc='upper right')\n",
    "\n",
    "plt.savefig('../[0]data/1-1-3_시각화_연령층별_사상자수_대비_사망자_비율(결과).png')"
   ]
  }
 ],
 "metadata": {
  "kernelspec": {
   "display_name": "Python 3",
   "language": "python",
   "name": "python3"
  },
  "language_info": {
   "codemirror_mode": {
    "name": "ipython",
    "version": 3
   },
   "file_extension": ".py",
   "mimetype": "text/x-python",
   "name": "python",
   "nbconvert_exporter": "python",
   "pygments_lexer": "ipython3",
   "version": "3.8.8"
  }
 },
 "nbformat": 4,
 "nbformat_minor": 5
}
