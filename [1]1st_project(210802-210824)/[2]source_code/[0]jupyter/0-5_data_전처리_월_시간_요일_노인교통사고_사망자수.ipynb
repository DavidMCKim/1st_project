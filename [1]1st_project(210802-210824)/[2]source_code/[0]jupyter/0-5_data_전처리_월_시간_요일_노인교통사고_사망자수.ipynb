{
 "cells": [
  {
   "cell_type": "code",
   "execution_count": 1,
   "id": "c9093b90",
   "metadata": {
    "scrolled": true
   },
   "outputs": [],
   "source": [
    "import pandas as pd\n",
    "import numpy as np\n",
    "import matplotlib.pyplot as plt\n",
    "\n",
    "# 전체 코드 출력\n",
    "from IPython.core.interactiveshell import InteractiveShell\n",
    "InteractiveShell.ast_node_interactivity=\"all\""
   ]
  },
  {
   "cell_type": "code",
   "execution_count": 2,
   "id": "fbf9c474",
   "metadata": {
    "scrolled": true
   },
   "outputs": [],
   "source": [
    "# 한글 문제\n",
    "# matplotlit의 기본 폰트에서 한글 지원되지 않기 때문에\n",
    "# matplotlib의 폰트 변경 필요\n",
    "import platform\n",
    "\n",
    "from matplotlib import font_manager, rc\n",
    "plt.rcParams['axes.unicode_minus'] = False\n",
    "\n",
    "if platform.system() == 'Darwin':  # 맥OS \n",
    "    rc('font', family='AppleGothic')\n",
    "elif platform.system() == 'Windows':  # 윈도우\n",
    "    path = \"c:/Windows/Fonts/malgun.ttf\"\n",
    "    font_name = font_manager.FontProperties(fname=path).get_name()\n",
    "    rc('font', family=font_name)\n",
    "else:\n",
    "    print('Unknown system...  sorry~~~')"
   ]
  },
  {
   "cell_type": "markdown",
   "id": "62f16551",
   "metadata": {},
   "source": [
    "# 요일별 노인 교통사고 사망자수"
   ]
  },
  {
   "cell_type": "code",
   "execution_count": 3,
   "id": "93b47f6c",
   "metadata": {
    "scrolled": true
   },
   "outputs": [
    {
     "name": "stdout",
     "output_type": "stream",
     "text": [
      "<class 'pandas.core.frame.DataFrame'>\n",
      "RangeIndex: 56 entries, 0 to 55\n",
      "Data columns (total 10 columns):\n",
      " #   Column  Non-Null Count  Dtype \n",
      "---  ------  --------------  ----- \n",
      " 0   시도      56 non-null     object\n",
      " 1   기준년도    55 non-null     object\n",
      " 2   2019    55 non-null     object\n",
      " 3   2019.1  55 non-null     object\n",
      " 4   2019.2  55 non-null     object\n",
      " 5   2019.3  55 non-null     object\n",
      " 6   2019.4  55 non-null     object\n",
      " 7   2019.5  55 non-null     object\n",
      " 8   2019.6  55 non-null     object\n",
      " 9   2019.7  55 non-null     object\n",
      "dtypes: object(10)\n",
      "memory usage: 4.5+ KB\n"
     ]
    }
   ],
   "source": [
    "day_data = pd.read_excel('../[0]data/요일별_노인교통사고.xls')\n",
    "day_data.info()"
   ]
  },
  {
   "cell_type": "code",
   "execution_count": 4,
   "id": "32374c78",
   "metadata": {
    "scrolled": true
   },
   "outputs": [],
   "source": [
    "day_data.dropna(inplace=True)"
   ]
  },
  {
   "cell_type": "code",
   "execution_count": 5,
   "id": "87b0dc7a",
   "metadata": {
    "scrolled": true
   },
   "outputs": [
    {
     "data": {
      "text/html": [
       "<div>\n",
       "<style scoped>\n",
       "    .dataframe tbody tr th:only-of-type {\n",
       "        vertical-align: middle;\n",
       "    }\n",
       "\n",
       "    .dataframe tbody tr th {\n",
       "        vertical-align: top;\n",
       "    }\n",
       "\n",
       "    .dataframe thead th {\n",
       "        text-align: right;\n",
       "    }\n",
       "</style>\n",
       "<table border=\"1\" class=\"dataframe\">\n",
       "  <thead>\n",
       "    <tr style=\"text-align: right;\">\n",
       "      <th></th>\n",
       "      <th>시도</th>\n",
       "      <th>기준년도</th>\n",
       "      <th>2019</th>\n",
       "      <th>2019.1</th>\n",
       "      <th>2019.2</th>\n",
       "      <th>2019.3</th>\n",
       "      <th>2019.4</th>\n",
       "      <th>2019.5</th>\n",
       "      <th>2019.6</th>\n",
       "      <th>2019.7</th>\n",
       "    </tr>\n",
       "  </thead>\n",
       "  <tbody>\n",
       "    <tr>\n",
       "      <th>0</th>\n",
       "      <td>시도</td>\n",
       "      <td>기준년도</td>\n",
       "      <td>합계</td>\n",
       "      <td>일</td>\n",
       "      <td>월</td>\n",
       "      <td>화</td>\n",
       "      <td>수</td>\n",
       "      <td>목</td>\n",
       "      <td>금</td>\n",
       "      <td>토</td>\n",
       "    </tr>\n",
       "    <tr>\n",
       "      <th>1</th>\n",
       "      <td>합계</td>\n",
       "      <td>사고건수</td>\n",
       "      <td>40645</td>\n",
       "      <td>4010</td>\n",
       "      <td>6426</td>\n",
       "      <td>6245</td>\n",
       "      <td>6090</td>\n",
       "      <td>5942</td>\n",
       "      <td>6443</td>\n",
       "      <td>5489</td>\n",
       "    </tr>\n",
       "    <tr>\n",
       "      <th>2</th>\n",
       "      <td>합계</td>\n",
       "      <td>사망자수</td>\n",
       "      <td>1523</td>\n",
       "      <td>127</td>\n",
       "      <td>263</td>\n",
       "      <td>228</td>\n",
       "      <td>229</td>\n",
       "      <td>234</td>\n",
       "      <td>254</td>\n",
       "      <td>188</td>\n",
       "    </tr>\n",
       "    <tr>\n",
       "      <th>3</th>\n",
       "      <td>합계</td>\n",
       "      <td>부상자수</td>\n",
       "      <td>44390</td>\n",
       "      <td>4508</td>\n",
       "      <td>6961</td>\n",
       "      <td>6793</td>\n",
       "      <td>6589</td>\n",
       "      <td>6467</td>\n",
       "      <td>6971</td>\n",
       "      <td>6101</td>\n",
       "    </tr>\n",
       "    <tr>\n",
       "      <th>4</th>\n",
       "      <td>서울</td>\n",
       "      <td>사고건수</td>\n",
       "      <td>5912</td>\n",
       "      <td>591</td>\n",
       "      <td>932</td>\n",
       "      <td>894</td>\n",
       "      <td>908</td>\n",
       "      <td>873</td>\n",
       "      <td>941</td>\n",
       "      <td>773</td>\n",
       "    </tr>\n",
       "  </tbody>\n",
       "</table>\n",
       "</div>"
      ],
      "text/plain": [
       "   시도  기준년도   2019 2019.1 2019.2 2019.3 2019.4 2019.5 2019.6 2019.7\n",
       "0  시도  기준년도     합계      일      월      화      수      목      금      토\n",
       "1  합계  사고건수  40645   4010   6426   6245   6090   5942   6443   5489\n",
       "2  합계  사망자수   1523    127    263    228    229    234    254    188\n",
       "3  합계  부상자수  44390   4508   6961   6793   6589   6467   6971   6101\n",
       "4  서울  사고건수   5912    591    932    894    908    873    941    773"
      ]
     },
     "execution_count": 5,
     "metadata": {},
     "output_type": "execute_result"
    }
   ],
   "source": [
    "day_data.head()"
   ]
  },
  {
   "cell_type": "code",
   "execution_count": 6,
   "id": "48fee3a7",
   "metadata": {
    "scrolled": true
   },
   "outputs": [],
   "source": [
    "day_data.columns = day_data.iloc[0]"
   ]
  },
  {
   "cell_type": "code",
   "execution_count": 7,
   "id": "3b2b829d",
   "metadata": {
    "scrolled": true
   },
   "outputs": [
    {
     "data": {
      "text/html": [
       "<div>\n",
       "<style scoped>\n",
       "    .dataframe tbody tr th:only-of-type {\n",
       "        vertical-align: middle;\n",
       "    }\n",
       "\n",
       "    .dataframe tbody tr th {\n",
       "        vertical-align: top;\n",
       "    }\n",
       "\n",
       "    .dataframe thead th {\n",
       "        text-align: right;\n",
       "    }\n",
       "</style>\n",
       "<table border=\"1\" class=\"dataframe\">\n",
       "  <thead>\n",
       "    <tr style=\"text-align: right;\">\n",
       "      <th></th>\n",
       "      <th>시도</th>\n",
       "      <th>기준년도</th>\n",
       "      <th>합계</th>\n",
       "      <th>일</th>\n",
       "      <th>월</th>\n",
       "      <th>화</th>\n",
       "      <th>수</th>\n",
       "      <th>목</th>\n",
       "      <th>금</th>\n",
       "      <th>토</th>\n",
       "    </tr>\n",
       "  </thead>\n",
       "  <tbody>\n",
       "    <tr>\n",
       "      <th>0</th>\n",
       "      <td>시도</td>\n",
       "      <td>기준년도</td>\n",
       "      <td>합계</td>\n",
       "      <td>일</td>\n",
       "      <td>월</td>\n",
       "      <td>화</td>\n",
       "      <td>수</td>\n",
       "      <td>목</td>\n",
       "      <td>금</td>\n",
       "      <td>토</td>\n",
       "    </tr>\n",
       "    <tr>\n",
       "      <th>1</th>\n",
       "      <td>합계</td>\n",
       "      <td>사고건수</td>\n",
       "      <td>40645</td>\n",
       "      <td>4010</td>\n",
       "      <td>6426</td>\n",
       "      <td>6245</td>\n",
       "      <td>6090</td>\n",
       "      <td>5942</td>\n",
       "      <td>6443</td>\n",
       "      <td>5489</td>\n",
       "    </tr>\n",
       "    <tr>\n",
       "      <th>2</th>\n",
       "      <td>합계</td>\n",
       "      <td>사망자수</td>\n",
       "      <td>1523</td>\n",
       "      <td>127</td>\n",
       "      <td>263</td>\n",
       "      <td>228</td>\n",
       "      <td>229</td>\n",
       "      <td>234</td>\n",
       "      <td>254</td>\n",
       "      <td>188</td>\n",
       "    </tr>\n",
       "    <tr>\n",
       "      <th>3</th>\n",
       "      <td>합계</td>\n",
       "      <td>부상자수</td>\n",
       "      <td>44390</td>\n",
       "      <td>4508</td>\n",
       "      <td>6961</td>\n",
       "      <td>6793</td>\n",
       "      <td>6589</td>\n",
       "      <td>6467</td>\n",
       "      <td>6971</td>\n",
       "      <td>6101</td>\n",
       "    </tr>\n",
       "    <tr>\n",
       "      <th>4</th>\n",
       "      <td>서울</td>\n",
       "      <td>사고건수</td>\n",
       "      <td>5912</td>\n",
       "      <td>591</td>\n",
       "      <td>932</td>\n",
       "      <td>894</td>\n",
       "      <td>908</td>\n",
       "      <td>873</td>\n",
       "      <td>941</td>\n",
       "      <td>773</td>\n",
       "    </tr>\n",
       "  </tbody>\n",
       "</table>\n",
       "</div>"
      ],
      "text/plain": [
       "0  시도  기준년도     합계     일     월     화     수     목     금     토\n",
       "0  시도  기준년도     합계     일     월     화     수     목     금     토\n",
       "1  합계  사고건수  40645  4010  6426  6245  6090  5942  6443  5489\n",
       "2  합계  사망자수   1523   127   263   228   229   234   254   188\n",
       "3  합계  부상자수  44390  4508  6961  6793  6589  6467  6971  6101\n",
       "4  서울  사고건수   5912   591   932   894   908   873   941   773"
      ]
     },
     "execution_count": 7,
     "metadata": {},
     "output_type": "execute_result"
    }
   ],
   "source": [
    "day_data.head()"
   ]
  },
  {
   "cell_type": "code",
   "execution_count": 8,
   "id": "1cae35a4",
   "metadata": {
    "scrolled": true
   },
   "outputs": [],
   "source": [
    "day_data.drop(index=0,axis=0,inplace=True)"
   ]
  },
  {
   "cell_type": "code",
   "execution_count": 9,
   "id": "ff58806d",
   "metadata": {
    "scrolled": true
   },
   "outputs": [
    {
     "data": {
      "text/html": [
       "<div>\n",
       "<style scoped>\n",
       "    .dataframe tbody tr th:only-of-type {\n",
       "        vertical-align: middle;\n",
       "    }\n",
       "\n",
       "    .dataframe tbody tr th {\n",
       "        vertical-align: top;\n",
       "    }\n",
       "\n",
       "    .dataframe thead th {\n",
       "        text-align: right;\n",
       "    }\n",
       "</style>\n",
       "<table border=\"1\" class=\"dataframe\">\n",
       "  <thead>\n",
       "    <tr style=\"text-align: right;\">\n",
       "      <th></th>\n",
       "      <th>시도</th>\n",
       "      <th>기준년도</th>\n",
       "      <th>합계</th>\n",
       "      <th>일</th>\n",
       "      <th>월</th>\n",
       "      <th>화</th>\n",
       "      <th>수</th>\n",
       "      <th>목</th>\n",
       "      <th>금</th>\n",
       "      <th>토</th>\n",
       "    </tr>\n",
       "  </thead>\n",
       "  <tbody>\n",
       "    <tr>\n",
       "      <th>1</th>\n",
       "      <td>합계</td>\n",
       "      <td>사고건수</td>\n",
       "      <td>40645</td>\n",
       "      <td>4010</td>\n",
       "      <td>6426</td>\n",
       "      <td>6245</td>\n",
       "      <td>6090</td>\n",
       "      <td>5942</td>\n",
       "      <td>6443</td>\n",
       "      <td>5489</td>\n",
       "    </tr>\n",
       "    <tr>\n",
       "      <th>2</th>\n",
       "      <td>합계</td>\n",
       "      <td>사망자수</td>\n",
       "      <td>1523</td>\n",
       "      <td>127</td>\n",
       "      <td>263</td>\n",
       "      <td>228</td>\n",
       "      <td>229</td>\n",
       "      <td>234</td>\n",
       "      <td>254</td>\n",
       "      <td>188</td>\n",
       "    </tr>\n",
       "    <tr>\n",
       "      <th>3</th>\n",
       "      <td>합계</td>\n",
       "      <td>부상자수</td>\n",
       "      <td>44390</td>\n",
       "      <td>4508</td>\n",
       "      <td>6961</td>\n",
       "      <td>6793</td>\n",
       "      <td>6589</td>\n",
       "      <td>6467</td>\n",
       "      <td>6971</td>\n",
       "      <td>6101</td>\n",
       "    </tr>\n",
       "    <tr>\n",
       "      <th>4</th>\n",
       "      <td>서울</td>\n",
       "      <td>사고건수</td>\n",
       "      <td>5912</td>\n",
       "      <td>591</td>\n",
       "      <td>932</td>\n",
       "      <td>894</td>\n",
       "      <td>908</td>\n",
       "      <td>873</td>\n",
       "      <td>941</td>\n",
       "      <td>773</td>\n",
       "    </tr>\n",
       "    <tr>\n",
       "      <th>5</th>\n",
       "      <td>서울</td>\n",
       "      <td>사망자수</td>\n",
       "      <td>103</td>\n",
       "      <td>8</td>\n",
       "      <td>19</td>\n",
       "      <td>25</td>\n",
       "      <td>17</td>\n",
       "      <td>11</td>\n",
       "      <td>13</td>\n",
       "      <td>10</td>\n",
       "    </tr>\n",
       "  </tbody>\n",
       "</table>\n",
       "</div>"
      ],
      "text/plain": [
       "0  시도  기준년도     합계     일     월     화     수     목     금     토\n",
       "1  합계  사고건수  40645  4010  6426  6245  6090  5942  6443  5489\n",
       "2  합계  사망자수   1523   127   263   228   229   234   254   188\n",
       "3  합계  부상자수  44390  4508  6961  6793  6589  6467  6971  6101\n",
       "4  서울  사고건수   5912   591   932   894   908   873   941   773\n",
       "5  서울  사망자수    103     8    19    25    17    11    13    10"
      ]
     },
     "execution_count": 9,
     "metadata": {},
     "output_type": "execute_result"
    }
   ],
   "source": [
    "day_data.head()"
   ]
  },
  {
   "cell_type": "code",
   "execution_count": 10,
   "id": "bbde1864",
   "metadata": {
    "scrolled": true
   },
   "outputs": [],
   "source": [
    "day_data = day_data[4::3]"
   ]
  },
  {
   "cell_type": "code",
   "execution_count": 11,
   "id": "a496f286",
   "metadata": {
    "scrolled": true
   },
   "outputs": [
    {
     "data": {
      "text/html": [
       "<div>\n",
       "<style scoped>\n",
       "    .dataframe tbody tr th:only-of-type {\n",
       "        vertical-align: middle;\n",
       "    }\n",
       "\n",
       "    .dataframe tbody tr th {\n",
       "        vertical-align: top;\n",
       "    }\n",
       "\n",
       "    .dataframe thead th {\n",
       "        text-align: right;\n",
       "    }\n",
       "</style>\n",
       "<table border=\"1\" class=\"dataframe\">\n",
       "  <thead>\n",
       "    <tr style=\"text-align: right;\">\n",
       "      <th></th>\n",
       "      <th>시도</th>\n",
       "      <th>기준년도</th>\n",
       "      <th>합계</th>\n",
       "      <th>일</th>\n",
       "      <th>월</th>\n",
       "      <th>화</th>\n",
       "      <th>수</th>\n",
       "      <th>목</th>\n",
       "      <th>금</th>\n",
       "      <th>토</th>\n",
       "    </tr>\n",
       "  </thead>\n",
       "  <tbody>\n",
       "    <tr>\n",
       "      <th>5</th>\n",
       "      <td>서울</td>\n",
       "      <td>사망자수</td>\n",
       "      <td>103</td>\n",
       "      <td>8</td>\n",
       "      <td>19</td>\n",
       "      <td>25</td>\n",
       "      <td>17</td>\n",
       "      <td>11</td>\n",
       "      <td>13</td>\n",
       "      <td>10</td>\n",
       "    </tr>\n",
       "    <tr>\n",
       "      <th>8</th>\n",
       "      <td>부산</td>\n",
       "      <td>사망자수</td>\n",
       "      <td>53</td>\n",
       "      <td>7</td>\n",
       "      <td>6</td>\n",
       "      <td>9</td>\n",
       "      <td>5</td>\n",
       "      <td>10</td>\n",
       "      <td>8</td>\n",
       "      <td>8</td>\n",
       "    </tr>\n",
       "    <tr>\n",
       "      <th>11</th>\n",
       "      <td>대구</td>\n",
       "      <td>사망자수</td>\n",
       "      <td>44</td>\n",
       "      <td>5</td>\n",
       "      <td>12</td>\n",
       "      <td>5</td>\n",
       "      <td>7</td>\n",
       "      <td>1</td>\n",
       "      <td>6</td>\n",
       "      <td>8</td>\n",
       "    </tr>\n",
       "    <tr>\n",
       "      <th>14</th>\n",
       "      <td>인천</td>\n",
       "      <td>사망자수</td>\n",
       "      <td>50</td>\n",
       "      <td>4</td>\n",
       "      <td>10</td>\n",
       "      <td>8</td>\n",
       "      <td>9</td>\n",
       "      <td>7</td>\n",
       "      <td>6</td>\n",
       "      <td>6</td>\n",
       "    </tr>\n",
       "    <tr>\n",
       "      <th>17</th>\n",
       "      <td>광주</td>\n",
       "      <td>사망자수</td>\n",
       "      <td>25</td>\n",
       "      <td>3</td>\n",
       "      <td>3</td>\n",
       "      <td>2</td>\n",
       "      <td>6</td>\n",
       "      <td>3</td>\n",
       "      <td>7</td>\n",
       "      <td>1</td>\n",
       "    </tr>\n",
       "    <tr>\n",
       "      <th>20</th>\n",
       "      <td>대전</td>\n",
       "      <td>사망자수</td>\n",
       "      <td>34</td>\n",
       "      <td>2</td>\n",
       "      <td>7</td>\n",
       "      <td>4</td>\n",
       "      <td>5</td>\n",
       "      <td>7</td>\n",
       "      <td>7</td>\n",
       "      <td>2</td>\n",
       "    </tr>\n",
       "    <tr>\n",
       "      <th>23</th>\n",
       "      <td>울산</td>\n",
       "      <td>사망자수</td>\n",
       "      <td>17</td>\n",
       "      <td>4</td>\n",
       "      <td>2</td>\n",
       "      <td>3</td>\n",
       "      <td>4</td>\n",
       "      <td>3</td>\n",
       "      <td>0</td>\n",
       "      <td>1</td>\n",
       "    </tr>\n",
       "    <tr>\n",
       "      <th>26</th>\n",
       "      <td>세종</td>\n",
       "      <td>사망자수</td>\n",
       "      <td>8</td>\n",
       "      <td>2</td>\n",
       "      <td>2</td>\n",
       "      <td>1</td>\n",
       "      <td>1</td>\n",
       "      <td>0</td>\n",
       "      <td>0</td>\n",
       "      <td>2</td>\n",
       "    </tr>\n",
       "    <tr>\n",
       "      <th>29</th>\n",
       "      <td>경기</td>\n",
       "      <td>사망자수</td>\n",
       "      <td>222</td>\n",
       "      <td>13</td>\n",
       "      <td>37</td>\n",
       "      <td>26</td>\n",
       "      <td>27</td>\n",
       "      <td>45</td>\n",
       "      <td>41</td>\n",
       "      <td>33</td>\n",
       "    </tr>\n",
       "    <tr>\n",
       "      <th>32</th>\n",
       "      <td>강원</td>\n",
       "      <td>사망자수</td>\n",
       "      <td>77</td>\n",
       "      <td>3</td>\n",
       "      <td>16</td>\n",
       "      <td>18</td>\n",
       "      <td>9</td>\n",
       "      <td>12</td>\n",
       "      <td>12</td>\n",
       "      <td>7</td>\n",
       "    </tr>\n",
       "    <tr>\n",
       "      <th>35</th>\n",
       "      <td>충북</td>\n",
       "      <td>사망자수</td>\n",
       "      <td>86</td>\n",
       "      <td>9</td>\n",
       "      <td>15</td>\n",
       "      <td>11</td>\n",
       "      <td>11</td>\n",
       "      <td>10</td>\n",
       "      <td>15</td>\n",
       "      <td>15</td>\n",
       "    </tr>\n",
       "    <tr>\n",
       "      <th>38</th>\n",
       "      <td>충남</td>\n",
       "      <td>사망자수</td>\n",
       "      <td>149</td>\n",
       "      <td>14</td>\n",
       "      <td>31</td>\n",
       "      <td>25</td>\n",
       "      <td>20</td>\n",
       "      <td>23</td>\n",
       "      <td>23</td>\n",
       "      <td>13</td>\n",
       "    </tr>\n",
       "    <tr>\n",
       "      <th>41</th>\n",
       "      <td>전북</td>\n",
       "      <td>사망자수</td>\n",
       "      <td>135</td>\n",
       "      <td>10</td>\n",
       "      <td>18</td>\n",
       "      <td>25</td>\n",
       "      <td>25</td>\n",
       "      <td>15</td>\n",
       "      <td>21</td>\n",
       "      <td>21</td>\n",
       "    </tr>\n",
       "    <tr>\n",
       "      <th>44</th>\n",
       "      <td>전남</td>\n",
       "      <td>사망자수</td>\n",
       "      <td>177</td>\n",
       "      <td>16</td>\n",
       "      <td>32</td>\n",
       "      <td>15</td>\n",
       "      <td>29</td>\n",
       "      <td>30</td>\n",
       "      <td>29</td>\n",
       "      <td>26</td>\n",
       "    </tr>\n",
       "    <tr>\n",
       "      <th>47</th>\n",
       "      <td>경북</td>\n",
       "      <td>사망자수</td>\n",
       "      <td>186</td>\n",
       "      <td>17</td>\n",
       "      <td>25</td>\n",
       "      <td>30</td>\n",
       "      <td>29</td>\n",
       "      <td>27</td>\n",
       "      <td>36</td>\n",
       "      <td>22</td>\n",
       "    </tr>\n",
       "    <tr>\n",
       "      <th>50</th>\n",
       "      <td>경남</td>\n",
       "      <td>사망자수</td>\n",
       "      <td>126</td>\n",
       "      <td>8</td>\n",
       "      <td>20</td>\n",
       "      <td>15</td>\n",
       "      <td>22</td>\n",
       "      <td>25</td>\n",
       "      <td>23</td>\n",
       "      <td>13</td>\n",
       "    </tr>\n",
       "    <tr>\n",
       "      <th>53</th>\n",
       "      <td>제주</td>\n",
       "      <td>사망자수</td>\n",
       "      <td>31</td>\n",
       "      <td>2</td>\n",
       "      <td>8</td>\n",
       "      <td>6</td>\n",
       "      <td>3</td>\n",
       "      <td>5</td>\n",
       "      <td>7</td>\n",
       "      <td>0</td>\n",
       "    </tr>\n",
       "  </tbody>\n",
       "</table>\n",
       "</div>"
      ],
      "text/plain": [
       "0   시도  기준년도   합계   일   월   화   수   목   금   토\n",
       "5   서울  사망자수  103   8  19  25  17  11  13  10\n",
       "8   부산  사망자수   53   7   6   9   5  10   8   8\n",
       "11  대구  사망자수   44   5  12   5   7   1   6   8\n",
       "14  인천  사망자수   50   4  10   8   9   7   6   6\n",
       "17  광주  사망자수   25   3   3   2   6   3   7   1\n",
       "20  대전  사망자수   34   2   7   4   5   7   7   2\n",
       "23  울산  사망자수   17   4   2   3   4   3   0   1\n",
       "26  세종  사망자수    8   2   2   1   1   0   0   2\n",
       "29  경기  사망자수  222  13  37  26  27  45  41  33\n",
       "32  강원  사망자수   77   3  16  18   9  12  12   7\n",
       "35  충북  사망자수   86   9  15  11  11  10  15  15\n",
       "38  충남  사망자수  149  14  31  25  20  23  23  13\n",
       "41  전북  사망자수  135  10  18  25  25  15  21  21\n",
       "44  전남  사망자수  177  16  32  15  29  30  29  26\n",
       "47  경북  사망자수  186  17  25  30  29  27  36  22\n",
       "50  경남  사망자수  126   8  20  15  22  25  23  13\n",
       "53  제주  사망자수   31   2   8   6   3   5   7   0"
      ]
     },
     "execution_count": 11,
     "metadata": {},
     "output_type": "execute_result"
    }
   ],
   "source": [
    "day_data"
   ]
  },
  {
   "cell_type": "code",
   "execution_count": 12,
   "id": "b042ca82",
   "metadata": {
    "scrolled": true
   },
   "outputs": [],
   "source": [
    "day_data.index = day_data['시도']"
   ]
  },
  {
   "cell_type": "code",
   "execution_count": 13,
   "id": "b5a65a3f",
   "metadata": {
    "scrolled": true
   },
   "outputs": [],
   "source": [
    "del day_data['시도']"
   ]
  },
  {
   "cell_type": "code",
   "execution_count": 14,
   "id": "52ed9328",
   "metadata": {
    "scrolled": true
   },
   "outputs": [
    {
     "data": {
      "text/html": [
       "<div>\n",
       "<style scoped>\n",
       "    .dataframe tbody tr th:only-of-type {\n",
       "        vertical-align: middle;\n",
       "    }\n",
       "\n",
       "    .dataframe tbody tr th {\n",
       "        vertical-align: top;\n",
       "    }\n",
       "\n",
       "    .dataframe thead th {\n",
       "        text-align: right;\n",
       "    }\n",
       "</style>\n",
       "<table border=\"1\" class=\"dataframe\">\n",
       "  <thead>\n",
       "    <tr style=\"text-align: right;\">\n",
       "      <th></th>\n",
       "      <th>기준년도</th>\n",
       "      <th>합계</th>\n",
       "      <th>일</th>\n",
       "      <th>월</th>\n",
       "      <th>화</th>\n",
       "      <th>수</th>\n",
       "      <th>목</th>\n",
       "      <th>금</th>\n",
       "      <th>토</th>\n",
       "    </tr>\n",
       "    <tr>\n",
       "      <th>시도</th>\n",
       "      <th></th>\n",
       "      <th></th>\n",
       "      <th></th>\n",
       "      <th></th>\n",
       "      <th></th>\n",
       "      <th></th>\n",
       "      <th></th>\n",
       "      <th></th>\n",
       "      <th></th>\n",
       "    </tr>\n",
       "  </thead>\n",
       "  <tbody>\n",
       "    <tr>\n",
       "      <th>서울</th>\n",
       "      <td>사망자수</td>\n",
       "      <td>103</td>\n",
       "      <td>8</td>\n",
       "      <td>19</td>\n",
       "      <td>25</td>\n",
       "      <td>17</td>\n",
       "      <td>11</td>\n",
       "      <td>13</td>\n",
       "      <td>10</td>\n",
       "    </tr>\n",
       "    <tr>\n",
       "      <th>부산</th>\n",
       "      <td>사망자수</td>\n",
       "      <td>53</td>\n",
       "      <td>7</td>\n",
       "      <td>6</td>\n",
       "      <td>9</td>\n",
       "      <td>5</td>\n",
       "      <td>10</td>\n",
       "      <td>8</td>\n",
       "      <td>8</td>\n",
       "    </tr>\n",
       "    <tr>\n",
       "      <th>대구</th>\n",
       "      <td>사망자수</td>\n",
       "      <td>44</td>\n",
       "      <td>5</td>\n",
       "      <td>12</td>\n",
       "      <td>5</td>\n",
       "      <td>7</td>\n",
       "      <td>1</td>\n",
       "      <td>6</td>\n",
       "      <td>8</td>\n",
       "    </tr>\n",
       "    <tr>\n",
       "      <th>인천</th>\n",
       "      <td>사망자수</td>\n",
       "      <td>50</td>\n",
       "      <td>4</td>\n",
       "      <td>10</td>\n",
       "      <td>8</td>\n",
       "      <td>9</td>\n",
       "      <td>7</td>\n",
       "      <td>6</td>\n",
       "      <td>6</td>\n",
       "    </tr>\n",
       "    <tr>\n",
       "      <th>광주</th>\n",
       "      <td>사망자수</td>\n",
       "      <td>25</td>\n",
       "      <td>3</td>\n",
       "      <td>3</td>\n",
       "      <td>2</td>\n",
       "      <td>6</td>\n",
       "      <td>3</td>\n",
       "      <td>7</td>\n",
       "      <td>1</td>\n",
       "    </tr>\n",
       "    <tr>\n",
       "      <th>대전</th>\n",
       "      <td>사망자수</td>\n",
       "      <td>34</td>\n",
       "      <td>2</td>\n",
       "      <td>7</td>\n",
       "      <td>4</td>\n",
       "      <td>5</td>\n",
       "      <td>7</td>\n",
       "      <td>7</td>\n",
       "      <td>2</td>\n",
       "    </tr>\n",
       "    <tr>\n",
       "      <th>울산</th>\n",
       "      <td>사망자수</td>\n",
       "      <td>17</td>\n",
       "      <td>4</td>\n",
       "      <td>2</td>\n",
       "      <td>3</td>\n",
       "      <td>4</td>\n",
       "      <td>3</td>\n",
       "      <td>0</td>\n",
       "      <td>1</td>\n",
       "    </tr>\n",
       "    <tr>\n",
       "      <th>세종</th>\n",
       "      <td>사망자수</td>\n",
       "      <td>8</td>\n",
       "      <td>2</td>\n",
       "      <td>2</td>\n",
       "      <td>1</td>\n",
       "      <td>1</td>\n",
       "      <td>0</td>\n",
       "      <td>0</td>\n",
       "      <td>2</td>\n",
       "    </tr>\n",
       "    <tr>\n",
       "      <th>경기</th>\n",
       "      <td>사망자수</td>\n",
       "      <td>222</td>\n",
       "      <td>13</td>\n",
       "      <td>37</td>\n",
       "      <td>26</td>\n",
       "      <td>27</td>\n",
       "      <td>45</td>\n",
       "      <td>41</td>\n",
       "      <td>33</td>\n",
       "    </tr>\n",
       "    <tr>\n",
       "      <th>강원</th>\n",
       "      <td>사망자수</td>\n",
       "      <td>77</td>\n",
       "      <td>3</td>\n",
       "      <td>16</td>\n",
       "      <td>18</td>\n",
       "      <td>9</td>\n",
       "      <td>12</td>\n",
       "      <td>12</td>\n",
       "      <td>7</td>\n",
       "    </tr>\n",
       "    <tr>\n",
       "      <th>충북</th>\n",
       "      <td>사망자수</td>\n",
       "      <td>86</td>\n",
       "      <td>9</td>\n",
       "      <td>15</td>\n",
       "      <td>11</td>\n",
       "      <td>11</td>\n",
       "      <td>10</td>\n",
       "      <td>15</td>\n",
       "      <td>15</td>\n",
       "    </tr>\n",
       "    <tr>\n",
       "      <th>충남</th>\n",
       "      <td>사망자수</td>\n",
       "      <td>149</td>\n",
       "      <td>14</td>\n",
       "      <td>31</td>\n",
       "      <td>25</td>\n",
       "      <td>20</td>\n",
       "      <td>23</td>\n",
       "      <td>23</td>\n",
       "      <td>13</td>\n",
       "    </tr>\n",
       "    <tr>\n",
       "      <th>전북</th>\n",
       "      <td>사망자수</td>\n",
       "      <td>135</td>\n",
       "      <td>10</td>\n",
       "      <td>18</td>\n",
       "      <td>25</td>\n",
       "      <td>25</td>\n",
       "      <td>15</td>\n",
       "      <td>21</td>\n",
       "      <td>21</td>\n",
       "    </tr>\n",
       "    <tr>\n",
       "      <th>전남</th>\n",
       "      <td>사망자수</td>\n",
       "      <td>177</td>\n",
       "      <td>16</td>\n",
       "      <td>32</td>\n",
       "      <td>15</td>\n",
       "      <td>29</td>\n",
       "      <td>30</td>\n",
       "      <td>29</td>\n",
       "      <td>26</td>\n",
       "    </tr>\n",
       "    <tr>\n",
       "      <th>경북</th>\n",
       "      <td>사망자수</td>\n",
       "      <td>186</td>\n",
       "      <td>17</td>\n",
       "      <td>25</td>\n",
       "      <td>30</td>\n",
       "      <td>29</td>\n",
       "      <td>27</td>\n",
       "      <td>36</td>\n",
       "      <td>22</td>\n",
       "    </tr>\n",
       "    <tr>\n",
       "      <th>경남</th>\n",
       "      <td>사망자수</td>\n",
       "      <td>126</td>\n",
       "      <td>8</td>\n",
       "      <td>20</td>\n",
       "      <td>15</td>\n",
       "      <td>22</td>\n",
       "      <td>25</td>\n",
       "      <td>23</td>\n",
       "      <td>13</td>\n",
       "    </tr>\n",
       "    <tr>\n",
       "      <th>제주</th>\n",
       "      <td>사망자수</td>\n",
       "      <td>31</td>\n",
       "      <td>2</td>\n",
       "      <td>8</td>\n",
       "      <td>6</td>\n",
       "      <td>3</td>\n",
       "      <td>5</td>\n",
       "      <td>7</td>\n",
       "      <td>0</td>\n",
       "    </tr>\n",
       "  </tbody>\n",
       "</table>\n",
       "</div>"
      ],
      "text/plain": [
       "0   기준년도   합계   일   월   화   수   목   금   토\n",
       "시도                                       \n",
       "서울  사망자수  103   8  19  25  17  11  13  10\n",
       "부산  사망자수   53   7   6   9   5  10   8   8\n",
       "대구  사망자수   44   5  12   5   7   1   6   8\n",
       "인천  사망자수   50   4  10   8   9   7   6   6\n",
       "광주  사망자수   25   3   3   2   6   3   7   1\n",
       "대전  사망자수   34   2   7   4   5   7   7   2\n",
       "울산  사망자수   17   4   2   3   4   3   0   1\n",
       "세종  사망자수    8   2   2   1   1   0   0   2\n",
       "경기  사망자수  222  13  37  26  27  45  41  33\n",
       "강원  사망자수   77   3  16  18   9  12  12   7\n",
       "충북  사망자수   86   9  15  11  11  10  15  15\n",
       "충남  사망자수  149  14  31  25  20  23  23  13\n",
       "전북  사망자수  135  10  18  25  25  15  21  21\n",
       "전남  사망자수  177  16  32  15  29  30  29  26\n",
       "경북  사망자수  186  17  25  30  29  27  36  22\n",
       "경남  사망자수  126   8  20  15  22  25  23  13\n",
       "제주  사망자수   31   2   8   6   3   5   7   0"
      ]
     },
     "execution_count": 14,
     "metadata": {},
     "output_type": "execute_result"
    }
   ],
   "source": [
    "day_data"
   ]
  },
  {
   "cell_type": "code",
   "execution_count": 15,
   "id": "7228645b",
   "metadata": {
    "scrolled": true
   },
   "outputs": [
    {
     "data": {
      "text/html": [
       "<div>\n",
       "<style scoped>\n",
       "    .dataframe tbody tr th:only-of-type {\n",
       "        vertical-align: middle;\n",
       "    }\n",
       "\n",
       "    .dataframe tbody tr th {\n",
       "        vertical-align: top;\n",
       "    }\n",
       "\n",
       "    .dataframe thead th {\n",
       "        text-align: right;\n",
       "    }\n",
       "</style>\n",
       "<table border=\"1\" class=\"dataframe\">\n",
       "  <thead>\n",
       "    <tr style=\"text-align: right;\">\n",
       "      <th></th>\n",
       "      <th>기준년도</th>\n",
       "      <th>합계</th>\n",
       "      <th>일</th>\n",
       "      <th>월</th>\n",
       "      <th>화</th>\n",
       "      <th>수</th>\n",
       "      <th>목</th>\n",
       "      <th>금</th>\n",
       "      <th>토</th>\n",
       "    </tr>\n",
       "    <tr>\n",
       "      <th>시도</th>\n",
       "      <th></th>\n",
       "      <th></th>\n",
       "      <th></th>\n",
       "      <th></th>\n",
       "      <th></th>\n",
       "      <th></th>\n",
       "      <th></th>\n",
       "      <th></th>\n",
       "      <th></th>\n",
       "    </tr>\n",
       "  </thead>\n",
       "  <tbody>\n",
       "    <tr>\n",
       "      <th>제주</th>\n",
       "      <td>사망자수</td>\n",
       "      <td>31</td>\n",
       "      <td>2</td>\n",
       "      <td>8</td>\n",
       "      <td>6</td>\n",
       "      <td>3</td>\n",
       "      <td>5</td>\n",
       "      <td>7</td>\n",
       "      <td>0</td>\n",
       "    </tr>\n",
       "    <tr>\n",
       "      <th>전남</th>\n",
       "      <td>사망자수</td>\n",
       "      <td>177</td>\n",
       "      <td>16</td>\n",
       "      <td>32</td>\n",
       "      <td>15</td>\n",
       "      <td>29</td>\n",
       "      <td>30</td>\n",
       "      <td>29</td>\n",
       "      <td>26</td>\n",
       "    </tr>\n",
       "    <tr>\n",
       "      <th>충남</th>\n",
       "      <td>사망자수</td>\n",
       "      <td>149</td>\n",
       "      <td>14</td>\n",
       "      <td>31</td>\n",
       "      <td>25</td>\n",
       "      <td>20</td>\n",
       "      <td>23</td>\n",
       "      <td>23</td>\n",
       "      <td>13</td>\n",
       "    </tr>\n",
       "  </tbody>\n",
       "</table>\n",
       "</div>"
      ],
      "text/plain": [
       "0   기준년도   합계   일   월   화   수   목   금   토\n",
       "시도                                       \n",
       "제주  사망자수   31   2   8   6   3   5   7   0\n",
       "전남  사망자수  177  16  32  15  29  30  29  26\n",
       "충남  사망자수  149  14  31  25  20  23  23  13"
      ]
     },
     "execution_count": 15,
     "metadata": {},
     "output_type": "execute_result"
    }
   ],
   "source": [
    "Top3data_day = day_data.loc[['제주','전남','충남']]\n",
    "Top3data_day"
   ]
  },
  {
   "cell_type": "code",
   "execution_count": 16,
   "id": "800f5cc2",
   "metadata": {
    "scrolled": true
   },
   "outputs": [],
   "source": [
    "del Top3data_day['합계']"
   ]
  },
  {
   "cell_type": "code",
   "execution_count": 17,
   "id": "8eaf0596",
   "metadata": {
    "scrolled": true
   },
   "outputs": [],
   "source": [
    "del Top3data_day['기준년도']"
   ]
  },
  {
   "cell_type": "code",
   "execution_count": 18,
   "id": "012e6c7b",
   "metadata": {
    "scrolled": true
   },
   "outputs": [
    {
     "data": {
      "text/plain": [
       "Index(['일', '월', '화', '수', '목', '금', '토'], dtype='object', name=0)"
      ]
     },
     "execution_count": 18,
     "metadata": {},
     "output_type": "execute_result"
    },
    {
     "data": {
      "text/plain": [
       "array([2, 8, 6, 3, 5, 7, 0], dtype=object)"
      ]
     },
     "execution_count": 18,
     "metadata": {},
     "output_type": "execute_result"
    },
    {
     "data": {
      "text/plain": [
       "2"
      ]
     },
     "execution_count": 18,
     "metadata": {},
     "output_type": "execute_result"
    }
   ],
   "source": [
    "Top3data_day.T.index\n",
    "Top3data_day.T['제주'].values\n",
    "Top3data_day.T['제주'][0]"
   ]
  },
  {
   "cell_type": "code",
   "execution_count": 19,
   "id": "89d49685",
   "metadata": {
    "scrolled": true
   },
   "outputs": [
    {
     "data": {
      "text/plain": [
       "3"
      ]
     },
     "execution_count": 19,
     "metadata": {},
     "output_type": "execute_result"
    }
   ],
   "source": [
    "len(Top3data_day)"
   ]
  },
  {
   "cell_type": "code",
   "execution_count": 20,
   "id": "3e1d9c86",
   "metadata": {},
   "outputs": [
    {
     "data": {
      "text/html": [
       "<div>\n",
       "<style scoped>\n",
       "    .dataframe tbody tr th:only-of-type {\n",
       "        vertical-align: middle;\n",
       "    }\n",
       "\n",
       "    .dataframe tbody tr th {\n",
       "        vertical-align: top;\n",
       "    }\n",
       "\n",
       "    .dataframe thead th {\n",
       "        text-align: right;\n",
       "    }\n",
       "</style>\n",
       "<table border=\"1\" class=\"dataframe\">\n",
       "  <thead>\n",
       "    <tr style=\"text-align: right;\">\n",
       "      <th></th>\n",
       "      <th>일</th>\n",
       "      <th>월</th>\n",
       "      <th>화</th>\n",
       "      <th>수</th>\n",
       "      <th>목</th>\n",
       "      <th>금</th>\n",
       "      <th>토</th>\n",
       "    </tr>\n",
       "    <tr>\n",
       "      <th>시도</th>\n",
       "      <th></th>\n",
       "      <th></th>\n",
       "      <th></th>\n",
       "      <th></th>\n",
       "      <th></th>\n",
       "      <th></th>\n",
       "      <th></th>\n",
       "    </tr>\n",
       "  </thead>\n",
       "  <tbody>\n",
       "    <tr>\n",
       "      <th>제주</th>\n",
       "      <td>2</td>\n",
       "      <td>8</td>\n",
       "      <td>6</td>\n",
       "      <td>3</td>\n",
       "      <td>5</td>\n",
       "      <td>7</td>\n",
       "      <td>0</td>\n",
       "    </tr>\n",
       "    <tr>\n",
       "      <th>전남</th>\n",
       "      <td>16</td>\n",
       "      <td>32</td>\n",
       "      <td>15</td>\n",
       "      <td>29</td>\n",
       "      <td>30</td>\n",
       "      <td>29</td>\n",
       "      <td>26</td>\n",
       "    </tr>\n",
       "    <tr>\n",
       "      <th>충남</th>\n",
       "      <td>14</td>\n",
       "      <td>31</td>\n",
       "      <td>25</td>\n",
       "      <td>20</td>\n",
       "      <td>23</td>\n",
       "      <td>23</td>\n",
       "      <td>13</td>\n",
       "    </tr>\n",
       "  </tbody>\n",
       "</table>\n",
       "</div>"
      ],
      "text/plain": [
       "0    일   월   화   수   목   금   토\n",
       "시도                            \n",
       "제주   2   8   6   3   5   7   0\n",
       "전남  16  32  15  29  30  29  26\n",
       "충남  14  31  25  20  23  23  13"
      ]
     },
     "execution_count": 20,
     "metadata": {},
     "output_type": "execute_result"
    }
   ],
   "source": [
    "Top3data_day"
   ]
  },
  {
   "cell_type": "code",
   "execution_count": 21,
   "id": "f8e5cbfb",
   "metadata": {},
   "outputs": [],
   "source": [
    "Top3data_day.to_csv('../[0]data/0-5_요일_노인교통사고_사망자수_제주_전남_충남(결과).csv')"
   ]
  },
  {
   "cell_type": "code",
   "execution_count": 22,
   "id": "4156b789",
   "metadata": {
    "scrolled": true
   },
   "outputs": [
    {
     "data": {
      "text/html": [
       "<div>\n",
       "<style scoped>\n",
       "    .dataframe tbody tr th:only-of-type {\n",
       "        vertical-align: middle;\n",
       "    }\n",
       "\n",
       "    .dataframe tbody tr th {\n",
       "        vertical-align: top;\n",
       "    }\n",
       "\n",
       "    .dataframe thead th {\n",
       "        text-align: right;\n",
       "    }\n",
       "</style>\n",
       "<table border=\"1\" class=\"dataframe\">\n",
       "  <thead>\n",
       "    <tr style=\"text-align: right;\">\n",
       "      <th>시도</th>\n",
       "      <th>제주</th>\n",
       "      <th>전남</th>\n",
       "      <th>충남</th>\n",
       "    </tr>\n",
       "    <tr>\n",
       "      <th>0</th>\n",
       "      <th></th>\n",
       "      <th></th>\n",
       "      <th></th>\n",
       "    </tr>\n",
       "  </thead>\n",
       "  <tbody>\n",
       "    <tr>\n",
       "      <th>일</th>\n",
       "      <td>2</td>\n",
       "      <td>16</td>\n",
       "      <td>14</td>\n",
       "    </tr>\n",
       "    <tr>\n",
       "      <th>월</th>\n",
       "      <td>8</td>\n",
       "      <td>32</td>\n",
       "      <td>31</td>\n",
       "    </tr>\n",
       "    <tr>\n",
       "      <th>화</th>\n",
       "      <td>6</td>\n",
       "      <td>15</td>\n",
       "      <td>25</td>\n",
       "    </tr>\n",
       "    <tr>\n",
       "      <th>수</th>\n",
       "      <td>3</td>\n",
       "      <td>29</td>\n",
       "      <td>20</td>\n",
       "    </tr>\n",
       "    <tr>\n",
       "      <th>목</th>\n",
       "      <td>5</td>\n",
       "      <td>30</td>\n",
       "      <td>23</td>\n",
       "    </tr>\n",
       "    <tr>\n",
       "      <th>금</th>\n",
       "      <td>7</td>\n",
       "      <td>29</td>\n",
       "      <td>23</td>\n",
       "    </tr>\n",
       "    <tr>\n",
       "      <th>토</th>\n",
       "      <td>0</td>\n",
       "      <td>26</td>\n",
       "      <td>13</td>\n",
       "    </tr>\n",
       "  </tbody>\n",
       "</table>\n",
       "</div>"
      ],
      "text/plain": [
       "시도 제주  전남  충남\n",
       "0            \n",
       "일   2  16  14\n",
       "월   8  32  31\n",
       "화   6  15  25\n",
       "수   3  29  20\n",
       "목   5  30  23\n",
       "금   7  29  23\n",
       "토   0  26  13"
      ]
     },
     "execution_count": 22,
     "metadata": {},
     "output_type": "execute_result"
    }
   ],
   "source": [
    "Top3data_day.T"
   ]
  },
  {
   "cell_type": "code",
   "execution_count": 23,
   "id": "39d608c7",
   "metadata": {
    "scrolled": false
   },
   "outputs": [
    {
     "data": {
      "text/plain": [
       "<Figure size 720x576 with 0 Axes>"
      ]
     },
     "execution_count": 23,
     "metadata": {},
     "output_type": "execute_result"
    },
    {
     "data": {
      "text/plain": [
       "Text(0.5, 1.0, '<요일별 노인 교통사고 사망자수>')"
      ]
     },
     "execution_count": 23,
     "metadata": {},
     "output_type": "execute_result"
    },
    {
     "data": {
      "text/plain": [
       "<BarContainer object of 7 artists>"
      ]
     },
     "execution_count": 23,
     "metadata": {},
     "output_type": "execute_result"
    },
    {
     "data": {
      "text/plain": [
       "<BarContainer object of 7 artists>"
      ]
     },
     "execution_count": 23,
     "metadata": {},
     "output_type": "execute_result"
    },
    {
     "data": {
      "text/plain": [
       "<BarContainer object of 7 artists>"
      ]
     },
     "execution_count": 23,
     "metadata": {},
     "output_type": "execute_result"
    },
    {
     "data": {
      "text/plain": [
       "Text(0.1, 2, '2명')"
      ]
     },
     "execution_count": 23,
     "metadata": {},
     "output_type": "execute_result"
    },
    {
     "data": {
      "text/plain": [
       "Text(1.1, 8, '8명')"
      ]
     },
     "execution_count": 23,
     "metadata": {},
     "output_type": "execute_result"
    },
    {
     "data": {
      "text/plain": [
       "Text(2.1, 6, '6명')"
      ]
     },
     "execution_count": 23,
     "metadata": {},
     "output_type": "execute_result"
    },
    {
     "data": {
      "text/plain": [
       "Text(3.1, 3, '3명')"
      ]
     },
     "execution_count": 23,
     "metadata": {},
     "output_type": "execute_result"
    },
    {
     "data": {
      "text/plain": [
       "Text(4.1, 5, '5명')"
      ]
     },
     "execution_count": 23,
     "metadata": {},
     "output_type": "execute_result"
    },
    {
     "data": {
      "text/plain": [
       "Text(5.1, 7, '7명')"
      ]
     },
     "execution_count": 23,
     "metadata": {},
     "output_type": "execute_result"
    },
    {
     "data": {
      "text/plain": [
       "Text(6.1, 0, '0명')"
      ]
     },
     "execution_count": 23,
     "metadata": {},
     "output_type": "execute_result"
    },
    {
     "data": {
      "text/plain": [
       "Text(0.3, 16, '16명')"
      ]
     },
     "execution_count": 23,
     "metadata": {},
     "output_type": "execute_result"
    },
    {
     "data": {
      "text/plain": [
       "Text(1.3, 32, '32명')"
      ]
     },
     "execution_count": 23,
     "metadata": {},
     "output_type": "execute_result"
    },
    {
     "data": {
      "text/plain": [
       "Text(2.3, 15, '15명')"
      ]
     },
     "execution_count": 23,
     "metadata": {},
     "output_type": "execute_result"
    },
    {
     "data": {
      "text/plain": [
       "Text(3.3, 29, '29명')"
      ]
     },
     "execution_count": 23,
     "metadata": {},
     "output_type": "execute_result"
    },
    {
     "data": {
      "text/plain": [
       "Text(4.3, 30, '30명')"
      ]
     },
     "execution_count": 23,
     "metadata": {},
     "output_type": "execute_result"
    },
    {
     "data": {
      "text/plain": [
       "Text(5.3, 29, '29명')"
      ]
     },
     "execution_count": 23,
     "metadata": {},
     "output_type": "execute_result"
    },
    {
     "data": {
      "text/plain": [
       "Text(6.3, 26, '26명')"
      ]
     },
     "execution_count": 23,
     "metadata": {},
     "output_type": "execute_result"
    },
    {
     "data": {
      "text/plain": [
       "Text(0.5, 14, '14명')"
      ]
     },
     "execution_count": 23,
     "metadata": {},
     "output_type": "execute_result"
    },
    {
     "data": {
      "text/plain": [
       "Text(1.5, 31, '31명')"
      ]
     },
     "execution_count": 23,
     "metadata": {},
     "output_type": "execute_result"
    },
    {
     "data": {
      "text/plain": [
       "Text(2.5, 25, '25명')"
      ]
     },
     "execution_count": 23,
     "metadata": {},
     "output_type": "execute_result"
    },
    {
     "data": {
      "text/plain": [
       "Text(3.5, 20, '20명')"
      ]
     },
     "execution_count": 23,
     "metadata": {},
     "output_type": "execute_result"
    },
    {
     "data": {
      "text/plain": [
       "Text(4.5, 23, '23명')"
      ]
     },
     "execution_count": 23,
     "metadata": {},
     "output_type": "execute_result"
    },
    {
     "data": {
      "text/plain": [
       "Text(5.5, 23, '23명')"
      ]
     },
     "execution_count": 23,
     "metadata": {},
     "output_type": "execute_result"
    },
    {
     "data": {
      "text/plain": [
       "Text(6.5, 13, '13명')"
      ]
     },
     "execution_count": 23,
     "metadata": {},
     "output_type": "execute_result"
    },
    {
     "data": {
      "text/plain": [
       "Text(0.5, 0, '요일')"
      ]
     },
     "execution_count": 23,
     "metadata": {},
     "output_type": "execute_result"
    },
    {
     "data": {
      "text/plain": [
       "Text(0, 0.5, '')"
      ]
     },
     "execution_count": 23,
     "metadata": {},
     "output_type": "execute_result"
    },
    {
     "data": {
      "text/plain": [
       "([<matplotlib.axis.XTick at 0x7feeaa528a90>,\n",
       "  <matplotlib.axis.XTick at 0x7feeaa528a60>,\n",
       "  <matplotlib.axis.XTick at 0x7feeaa51a5b0>,\n",
       "  <matplotlib.axis.XTick at 0x7feeaa5c6d60>,\n",
       "  <matplotlib.axis.XTick at 0x7feeaa5c42b0>,\n",
       "  <matplotlib.axis.XTick at 0x7feeaa5c47c0>,\n",
       "  <matplotlib.axis.XTick at 0x7feeaa5c4cd0>],\n",
       " [Text(0.30000000000000004, 0, '일'),\n",
       "  Text(1.3, 0, '월'),\n",
       "  Text(2.3000000000000003, 0, '화'),\n",
       "  Text(3.3000000000000003, 0, '수'),\n",
       "  Text(4.3, 0, '목'),\n",
       "  Text(5.3, 0, '금'),\n",
       "  Text(6.3, 0, '토')])"
      ]
     },
     "execution_count": 23,
     "metadata": {},
     "output_type": "execute_result"
    },
    {
     "data": {
      "text/plain": [
       "<matplotlib.legend.Legend at 0x7feec0c73580>"
      ]
     },
     "execution_count": 23,
     "metadata": {},
     "output_type": "execute_result"
    },
    {
     "data": {
      "image/png": "[encoded data removed]",
      "text/plain": [
       "<Figure size 720x576 with 1 Axes>"
      ]
     },
     "metadata": {
      "needs_background": "light"
     },
     "output_type": "display_data"
    }
   ],
   "source": [
    "# 막대 그래프 bar(x, y, color = , alpha = )\n",
    "# 변수 kor19_data\n",
    "\n",
    "x = range(0,len(Top3data_day.columns))\n",
    "n_data=len(Top3data_day.T)\n",
    "index=np.arange(n_data)\n",
    "barWidth = 0.2\n",
    "\n",
    "plt.figure(figsize=(10,8))\n",
    "plt.title('<요일별 노인 교통사고 사망자수>',fontsize=20,pad=30,fontweight=\"bold\")\n",
    "\n",
    "plt.bar(index, Top3data_day.T['제주'], color='#5B85D9', align='edge', width=barWidth, label='제주',alpha=0.8)\n",
    "plt.bar(index+barWidth, Top3data_day.T['전남'], color='#F2C335',align='edge', width=barWidth, label='전남',alpha=0.8)\n",
    "plt.bar(index+barWidth+barWidth, Top3data_day.T['충남'], color='#F25050',align='edge', width=barWidth, label='충남',alpha=0.8)\n",
    "\n",
    "plt.grid(True, axis='y', alpha=0.4)\n",
    "\n",
    "for i, v in enumerate(x):\n",
    "    plt.text(v+0.1, Top3data_day.T['제주'].values[i], str(Top3data_day.T['제주'][i])+'명',                 \n",
    "             fontsize = 9, \n",
    "             color='black',\n",
    "             horizontalalignment='center',\n",
    "             verticalalignment='bottom')\n",
    "\n",
    "for i, v in enumerate(x):\n",
    "    plt.text(v+0.3, Top3data_day.T['전남'].values[i], str(Top3data_day.T['전남'][i])+'명',                 \n",
    "             fontsize = 9, \n",
    "             color='black',\n",
    "             horizontalalignment='center',\n",
    "             verticalalignment='bottom')\n",
    "\n",
    "for i, v in enumerate(x):\n",
    "    plt.text(v+0.5, Top3data_day.T['충남'].values[i], str(Top3data_day.T['충남'][i])+'명',                 \n",
    "             fontsize = 9, \n",
    "             color='black',\n",
    "             horizontalalignment='center',\n",
    "             verticalalignment='bottom')\n",
    "    \n",
    "    \n",
    "plt.xlabel('요일',labelpad=20,fontsize=15)\n",
    "plt.ylabel('',labelpad=15,fontsize=15)\n",
    "\n",
    "plt.xticks(index+barWidth+0.1, Top3data_day.T.index)\n",
    "plt.legend()\n",
    "\n",
    "\n",
    "plt.show()"
   ]
  },
  {
   "cell_type": "markdown",
   "id": "402ed825",
   "metadata": {},
   "source": [
    "# 월별 노인 교통사고 사망자수"
   ]
  },
  {
   "cell_type": "code",
   "execution_count": 24,
   "id": "9f0d2956",
   "metadata": {
    "scrolled": true
   },
   "outputs": [
    {
     "name": "stdout",
     "output_type": "stream",
     "text": [
      "<class 'pandas.core.frame.DataFrame'>\n",
      "RangeIndex: 56 entries, 0 to 55\n",
      "Data columns (total 15 columns):\n",
      " #   Column   Non-Null Count  Dtype \n",
      "---  ------   --------------  ----- \n",
      " 0   시도       56 non-null     object\n",
      " 1   기준년도     55 non-null     object\n",
      " 2   2019     55 non-null     object\n",
      " 3   2019.1   55 non-null     object\n",
      " 4   2019.2   55 non-null     object\n",
      " 5   2019.3   55 non-null     object\n",
      " 6   2019.4   55 non-null     object\n",
      " 7   2019.5   55 non-null     object\n",
      " 8   2019.6   55 non-null     object\n",
      " 9   2019.7   55 non-null     object\n",
      " 10  2019.8   55 non-null     object\n",
      " 11  2019.9   55 non-null     object\n",
      " 12  2019.10  55 non-null     object\n",
      " 13  2019.11  55 non-null     object\n",
      " 14  2019.12  55 non-null     object\n",
      "dtypes: object(15)\n",
      "memory usage: 6.7+ KB\n"
     ]
    }
   ],
   "source": [
    "month_data = pd.read_excel('../[0]data/월별_노인교통사고.xls')\n",
    "month_data.info()"
   ]
  },
  {
   "cell_type": "code",
   "execution_count": 25,
   "id": "cb30af5b",
   "metadata": {
    "scrolled": true
   },
   "outputs": [],
   "source": [
    "month_data.dropna(inplace=True)"
   ]
  },
  {
   "cell_type": "code",
   "execution_count": 26,
   "id": "a299f02b",
   "metadata": {
    "scrolled": true
   },
   "outputs": [],
   "source": [
    "month_data.columns = month_data.iloc[0]"
   ]
  },
  {
   "cell_type": "code",
   "execution_count": 27,
   "id": "2da3ec32",
   "metadata": {
    "scrolled": true
   },
   "outputs": [],
   "source": [
    "month_data.drop(index=0,axis=0,inplace=True)"
   ]
  },
  {
   "cell_type": "code",
   "execution_count": 28,
   "id": "6a60c2a3",
   "metadata": {
    "scrolled": true
   },
   "outputs": [],
   "source": [
    "month_data = month_data[4::3]"
   ]
  },
  {
   "cell_type": "code",
   "execution_count": 29,
   "id": "3ba27f94",
   "metadata": {
    "scrolled": true
   },
   "outputs": [
    {
     "data": {
      "text/html": [
       "<div>\n",
       "<style scoped>\n",
       "    .dataframe tbody tr th:only-of-type {\n",
       "        vertical-align: middle;\n",
       "    }\n",
       "\n",
       "    .dataframe tbody tr th {\n",
       "        vertical-align: top;\n",
       "    }\n",
       "\n",
       "    .dataframe thead th {\n",
       "        text-align: right;\n",
       "    }\n",
       "</style>\n",
       "<table border=\"1\" class=\"dataframe\">\n",
       "  <thead>\n",
       "    <tr style=\"text-align: right;\">\n",
       "      <th></th>\n",
       "      <th>시도</th>\n",
       "      <th>기준년도</th>\n",
       "      <th>합계</th>\n",
       "      <th>01월</th>\n",
       "      <th>02월</th>\n",
       "      <th>03월</th>\n",
       "      <th>04월</th>\n",
       "      <th>05월</th>\n",
       "      <th>06월</th>\n",
       "      <th>07월</th>\n",
       "      <th>08월</th>\n",
       "      <th>09월</th>\n",
       "      <th>10월</th>\n",
       "      <th>11월</th>\n",
       "      <th>12월</th>\n",
       "    </tr>\n",
       "  </thead>\n",
       "  <tbody>\n",
       "    <tr>\n",
       "      <th>5</th>\n",
       "      <td>서울</td>\n",
       "      <td>사망자수</td>\n",
       "      <td>103</td>\n",
       "      <td>10</td>\n",
       "      <td>6</td>\n",
       "      <td>9</td>\n",
       "      <td>5</td>\n",
       "      <td>9</td>\n",
       "      <td>4</td>\n",
       "      <td>9</td>\n",
       "      <td>9</td>\n",
       "      <td>12</td>\n",
       "      <td>17</td>\n",
       "      <td>5</td>\n",
       "      <td>8</td>\n",
       "    </tr>\n",
       "    <tr>\n",
       "      <th>8</th>\n",
       "      <td>부산</td>\n",
       "      <td>사망자수</td>\n",
       "      <td>53</td>\n",
       "      <td>7</td>\n",
       "      <td>4</td>\n",
       "      <td>2</td>\n",
       "      <td>2</td>\n",
       "      <td>6</td>\n",
       "      <td>3</td>\n",
       "      <td>4</td>\n",
       "      <td>4</td>\n",
       "      <td>2</td>\n",
       "      <td>5</td>\n",
       "      <td>8</td>\n",
       "      <td>6</td>\n",
       "    </tr>\n",
       "    <tr>\n",
       "      <th>11</th>\n",
       "      <td>대구</td>\n",
       "      <td>사망자수</td>\n",
       "      <td>44</td>\n",
       "      <td>6</td>\n",
       "      <td>4</td>\n",
       "      <td>3</td>\n",
       "      <td>2</td>\n",
       "      <td>4</td>\n",
       "      <td>2</td>\n",
       "      <td>4</td>\n",
       "      <td>4</td>\n",
       "      <td>2</td>\n",
       "      <td>2</td>\n",
       "      <td>8</td>\n",
       "      <td>3</td>\n",
       "    </tr>\n",
       "    <tr>\n",
       "      <th>14</th>\n",
       "      <td>인천</td>\n",
       "      <td>사망자수</td>\n",
       "      <td>50</td>\n",
       "      <td>8</td>\n",
       "      <td>2</td>\n",
       "      <td>3</td>\n",
       "      <td>5</td>\n",
       "      <td>6</td>\n",
       "      <td>4</td>\n",
       "      <td>3</td>\n",
       "      <td>1</td>\n",
       "      <td>4</td>\n",
       "      <td>7</td>\n",
       "      <td>4</td>\n",
       "      <td>3</td>\n",
       "    </tr>\n",
       "    <tr>\n",
       "      <th>17</th>\n",
       "      <td>광주</td>\n",
       "      <td>사망자수</td>\n",
       "      <td>25</td>\n",
       "      <td>1</td>\n",
       "      <td>1</td>\n",
       "      <td>1</td>\n",
       "      <td>1</td>\n",
       "      <td>1</td>\n",
       "      <td>6</td>\n",
       "      <td>2</td>\n",
       "      <td>5</td>\n",
       "      <td>1</td>\n",
       "      <td>1</td>\n",
       "      <td>4</td>\n",
       "      <td>1</td>\n",
       "    </tr>\n",
       "    <tr>\n",
       "      <th>20</th>\n",
       "      <td>대전</td>\n",
       "      <td>사망자수</td>\n",
       "      <td>34</td>\n",
       "      <td>3</td>\n",
       "      <td>3</td>\n",
       "      <td>4</td>\n",
       "      <td>3</td>\n",
       "      <td>3</td>\n",
       "      <td>1</td>\n",
       "      <td>6</td>\n",
       "      <td>3</td>\n",
       "      <td>3</td>\n",
       "      <td>1</td>\n",
       "      <td>1</td>\n",
       "      <td>3</td>\n",
       "    </tr>\n",
       "    <tr>\n",
       "      <th>23</th>\n",
       "      <td>울산</td>\n",
       "      <td>사망자수</td>\n",
       "      <td>17</td>\n",
       "      <td>2</td>\n",
       "      <td>1</td>\n",
       "      <td>3</td>\n",
       "      <td>0</td>\n",
       "      <td>0</td>\n",
       "      <td>2</td>\n",
       "      <td>0</td>\n",
       "      <td>0</td>\n",
       "      <td>2</td>\n",
       "      <td>4</td>\n",
       "      <td>0</td>\n",
       "      <td>3</td>\n",
       "    </tr>\n",
       "    <tr>\n",
       "      <th>26</th>\n",
       "      <td>세종</td>\n",
       "      <td>사망자수</td>\n",
       "      <td>8</td>\n",
       "      <td>0</td>\n",
       "      <td>0</td>\n",
       "      <td>2</td>\n",
       "      <td>1</td>\n",
       "      <td>0</td>\n",
       "      <td>2</td>\n",
       "      <td>1</td>\n",
       "      <td>1</td>\n",
       "      <td>0</td>\n",
       "      <td>0</td>\n",
       "      <td>1</td>\n",
       "      <td>0</td>\n",
       "    </tr>\n",
       "    <tr>\n",
       "      <th>29</th>\n",
       "      <td>경기</td>\n",
       "      <td>사망자수</td>\n",
       "      <td>222</td>\n",
       "      <td>27</td>\n",
       "      <td>19</td>\n",
       "      <td>16</td>\n",
       "      <td>23</td>\n",
       "      <td>24</td>\n",
       "      <td>18</td>\n",
       "      <td>10</td>\n",
       "      <td>12</td>\n",
       "      <td>20</td>\n",
       "      <td>17</td>\n",
       "      <td>17</td>\n",
       "      <td>19</td>\n",
       "    </tr>\n",
       "    <tr>\n",
       "      <th>32</th>\n",
       "      <td>강원</td>\n",
       "      <td>사망자수</td>\n",
       "      <td>77</td>\n",
       "      <td>6</td>\n",
       "      <td>4</td>\n",
       "      <td>5</td>\n",
       "      <td>9</td>\n",
       "      <td>8</td>\n",
       "      <td>1</td>\n",
       "      <td>8</td>\n",
       "      <td>2</td>\n",
       "      <td>15</td>\n",
       "      <td>7</td>\n",
       "      <td>6</td>\n",
       "      <td>6</td>\n",
       "    </tr>\n",
       "    <tr>\n",
       "      <th>35</th>\n",
       "      <td>충북</td>\n",
       "      <td>사망자수</td>\n",
       "      <td>86</td>\n",
       "      <td>7</td>\n",
       "      <td>6</td>\n",
       "      <td>3</td>\n",
       "      <td>11</td>\n",
       "      <td>10</td>\n",
       "      <td>10</td>\n",
       "      <td>7</td>\n",
       "      <td>8</td>\n",
       "      <td>5</td>\n",
       "      <td>7</td>\n",
       "      <td>7</td>\n",
       "      <td>5</td>\n",
       "    </tr>\n",
       "    <tr>\n",
       "      <th>38</th>\n",
       "      <td>충남</td>\n",
       "      <td>사망자수</td>\n",
       "      <td>149</td>\n",
       "      <td>13</td>\n",
       "      <td>8</td>\n",
       "      <td>7</td>\n",
       "      <td>11</td>\n",
       "      <td>10</td>\n",
       "      <td>13</td>\n",
       "      <td>11</td>\n",
       "      <td>13</td>\n",
       "      <td>11</td>\n",
       "      <td>21</td>\n",
       "      <td>17</td>\n",
       "      <td>14</td>\n",
       "    </tr>\n",
       "    <tr>\n",
       "      <th>41</th>\n",
       "      <td>전북</td>\n",
       "      <td>사망자수</td>\n",
       "      <td>135</td>\n",
       "      <td>7</td>\n",
       "      <td>8</td>\n",
       "      <td>8</td>\n",
       "      <td>12</td>\n",
       "      <td>13</td>\n",
       "      <td>12</td>\n",
       "      <td>9</td>\n",
       "      <td>9</td>\n",
       "      <td>14</td>\n",
       "      <td>19</td>\n",
       "      <td>16</td>\n",
       "      <td>8</td>\n",
       "    </tr>\n",
       "    <tr>\n",
       "      <th>44</th>\n",
       "      <td>전남</td>\n",
       "      <td>사망자수</td>\n",
       "      <td>177</td>\n",
       "      <td>12</td>\n",
       "      <td>14</td>\n",
       "      <td>9</td>\n",
       "      <td>20</td>\n",
       "      <td>15</td>\n",
       "      <td>12</td>\n",
       "      <td>12</td>\n",
       "      <td>15</td>\n",
       "      <td>12</td>\n",
       "      <td>21</td>\n",
       "      <td>18</td>\n",
       "      <td>17</td>\n",
       "    </tr>\n",
       "    <tr>\n",
       "      <th>47</th>\n",
       "      <td>경북</td>\n",
       "      <td>사망자수</td>\n",
       "      <td>186</td>\n",
       "      <td>17</td>\n",
       "      <td>10</td>\n",
       "      <td>16</td>\n",
       "      <td>14</td>\n",
       "      <td>21</td>\n",
       "      <td>21</td>\n",
       "      <td>14</td>\n",
       "      <td>11</td>\n",
       "      <td>13</td>\n",
       "      <td>15</td>\n",
       "      <td>18</td>\n",
       "      <td>16</td>\n",
       "    </tr>\n",
       "    <tr>\n",
       "      <th>50</th>\n",
       "      <td>경남</td>\n",
       "      <td>사망자수</td>\n",
       "      <td>126</td>\n",
       "      <td>10</td>\n",
       "      <td>6</td>\n",
       "      <td>8</td>\n",
       "      <td>13</td>\n",
       "      <td>7</td>\n",
       "      <td>10</td>\n",
       "      <td>7</td>\n",
       "      <td>11</td>\n",
       "      <td>11</td>\n",
       "      <td>11</td>\n",
       "      <td>16</td>\n",
       "      <td>16</td>\n",
       "    </tr>\n",
       "    <tr>\n",
       "      <th>53</th>\n",
       "      <td>제주</td>\n",
       "      <td>사망자수</td>\n",
       "      <td>31</td>\n",
       "      <td>5</td>\n",
       "      <td>1</td>\n",
       "      <td>6</td>\n",
       "      <td>1</td>\n",
       "      <td>1</td>\n",
       "      <td>3</td>\n",
       "      <td>2</td>\n",
       "      <td>4</td>\n",
       "      <td>2</td>\n",
       "      <td>2</td>\n",
       "      <td>3</td>\n",
       "      <td>1</td>\n",
       "    </tr>\n",
       "  </tbody>\n",
       "</table>\n",
       "</div>"
      ],
      "text/plain": [
       "0   시도  기준년도   합계 01월 02월 03월 04월 05월 06월 07월 08월 09월 10월 11월 12월\n",
       "5   서울  사망자수  103  10   6   9   5   9   4   9   9  12  17   5   8\n",
       "8   부산  사망자수   53   7   4   2   2   6   3   4   4   2   5   8   6\n",
       "11  대구  사망자수   44   6   4   3   2   4   2   4   4   2   2   8   3\n",
       "14  인천  사망자수   50   8   2   3   5   6   4   3   1   4   7   4   3\n",
       "17  광주  사망자수   25   1   1   1   1   1   6   2   5   1   1   4   1\n",
       "20  대전  사망자수   34   3   3   4   3   3   1   6   3   3   1   1   3\n",
       "23  울산  사망자수   17   2   1   3   0   0   2   0   0   2   4   0   3\n",
       "26  세종  사망자수    8   0   0   2   1   0   2   1   1   0   0   1   0\n",
       "29  경기  사망자수  222  27  19  16  23  24  18  10  12  20  17  17  19\n",
       "32  강원  사망자수   77   6   4   5   9   8   1   8   2  15   7   6   6\n",
       "35  충북  사망자수   86   7   6   3  11  10  10   7   8   5   7   7   5\n",
       "38  충남  사망자수  149  13   8   7  11  10  13  11  13  11  21  17  14\n",
       "41  전북  사망자수  135   7   8   8  12  13  12   9   9  14  19  16   8\n",
       "44  전남  사망자수  177  12  14   9  20  15  12  12  15  12  21  18  17\n",
       "47  경북  사망자수  186  17  10  16  14  21  21  14  11  13  15  18  16\n",
       "50  경남  사망자수  126  10   6   8  13   7  10   7  11  11  11  16  16\n",
       "53  제주  사망자수   31   5   1   6   1   1   3   2   4   2   2   3   1"
      ]
     },
     "execution_count": 29,
     "metadata": {},
     "output_type": "execute_result"
    }
   ],
   "source": [
    "month_data"
   ]
  },
  {
   "cell_type": "code",
   "execution_count": 30,
   "id": "b6dcde51",
   "metadata": {
    "scrolled": true
   },
   "outputs": [],
   "source": [
    "month_data.index = month_data['시도']"
   ]
  },
  {
   "cell_type": "code",
   "execution_count": 31,
   "id": "eaa11f5c",
   "metadata": {
    "scrolled": true
   },
   "outputs": [],
   "source": [
    "del month_data['시도']"
   ]
  },
  {
   "cell_type": "code",
   "execution_count": 32,
   "id": "aa662cab",
   "metadata": {
    "scrolled": true
   },
   "outputs": [
    {
     "data": {
      "text/html": [
       "<div>\n",
       "<style scoped>\n",
       "    .dataframe tbody tr th:only-of-type {\n",
       "        vertical-align: middle;\n",
       "    }\n",
       "\n",
       "    .dataframe tbody tr th {\n",
       "        vertical-align: top;\n",
       "    }\n",
       "\n",
       "    .dataframe thead th {\n",
       "        text-align: right;\n",
       "    }\n",
       "</style>\n",
       "<table border=\"1\" class=\"dataframe\">\n",
       "  <thead>\n",
       "    <tr style=\"text-align: right;\">\n",
       "      <th></th>\n",
       "      <th>기준년도</th>\n",
       "      <th>합계</th>\n",
       "      <th>01월</th>\n",
       "      <th>02월</th>\n",
       "      <th>03월</th>\n",
       "      <th>04월</th>\n",
       "      <th>05월</th>\n",
       "      <th>06월</th>\n",
       "      <th>07월</th>\n",
       "      <th>08월</th>\n",
       "      <th>09월</th>\n",
       "      <th>10월</th>\n",
       "      <th>11월</th>\n",
       "      <th>12월</th>\n",
       "    </tr>\n",
       "    <tr>\n",
       "      <th>시도</th>\n",
       "      <th></th>\n",
       "      <th></th>\n",
       "      <th></th>\n",
       "      <th></th>\n",
       "      <th></th>\n",
       "      <th></th>\n",
       "      <th></th>\n",
       "      <th></th>\n",
       "      <th></th>\n",
       "      <th></th>\n",
       "      <th></th>\n",
       "      <th></th>\n",
       "      <th></th>\n",
       "      <th></th>\n",
       "    </tr>\n",
       "  </thead>\n",
       "  <tbody>\n",
       "    <tr>\n",
       "      <th>제주</th>\n",
       "      <td>사망자수</td>\n",
       "      <td>31</td>\n",
       "      <td>5</td>\n",
       "      <td>1</td>\n",
       "      <td>6</td>\n",
       "      <td>1</td>\n",
       "      <td>1</td>\n",
       "      <td>3</td>\n",
       "      <td>2</td>\n",
       "      <td>4</td>\n",
       "      <td>2</td>\n",
       "      <td>2</td>\n",
       "      <td>3</td>\n",
       "      <td>1</td>\n",
       "    </tr>\n",
       "    <tr>\n",
       "      <th>전남</th>\n",
       "      <td>사망자수</td>\n",
       "      <td>177</td>\n",
       "      <td>12</td>\n",
       "      <td>14</td>\n",
       "      <td>9</td>\n",
       "      <td>20</td>\n",
       "      <td>15</td>\n",
       "      <td>12</td>\n",
       "      <td>12</td>\n",
       "      <td>15</td>\n",
       "      <td>12</td>\n",
       "      <td>21</td>\n",
       "      <td>18</td>\n",
       "      <td>17</td>\n",
       "    </tr>\n",
       "    <tr>\n",
       "      <th>충남</th>\n",
       "      <td>사망자수</td>\n",
       "      <td>149</td>\n",
       "      <td>13</td>\n",
       "      <td>8</td>\n",
       "      <td>7</td>\n",
       "      <td>11</td>\n",
       "      <td>10</td>\n",
       "      <td>13</td>\n",
       "      <td>11</td>\n",
       "      <td>13</td>\n",
       "      <td>11</td>\n",
       "      <td>21</td>\n",
       "      <td>17</td>\n",
       "      <td>14</td>\n",
       "    </tr>\n",
       "  </tbody>\n",
       "</table>\n",
       "</div>"
      ],
      "text/plain": [
       "0   기준년도   합계 01월 02월 03월 04월 05월 06월 07월 08월 09월 10월 11월 12월\n",
       "시도                                                           \n",
       "제주  사망자수   31   5   1   6   1   1   3   2   4   2   2   3   1\n",
       "전남  사망자수  177  12  14   9  20  15  12  12  15  12  21  18  17\n",
       "충남  사망자수  149  13   8   7  11  10  13  11  13  11  21  17  14"
      ]
     },
     "execution_count": 32,
     "metadata": {},
     "output_type": "execute_result"
    }
   ],
   "source": [
    "Top3data_month = month_data.loc[['제주','전남','충남']]\n",
    "Top3data_month"
   ]
  },
  {
   "cell_type": "code",
   "execution_count": 33,
   "id": "12de780c",
   "metadata": {
    "scrolled": true
   },
   "outputs": [],
   "source": [
    "del Top3data_month['기준년도']\n",
    "del Top3data_month['합계']"
   ]
  },
  {
   "cell_type": "code",
   "execution_count": 34,
   "id": "48af8df3",
   "metadata": {
    "scrolled": true
   },
   "outputs": [
    {
     "data": {
      "text/html": [
       "<div>\n",
       "<style scoped>\n",
       "    .dataframe tbody tr th:only-of-type {\n",
       "        vertical-align: middle;\n",
       "    }\n",
       "\n",
       "    .dataframe tbody tr th {\n",
       "        vertical-align: top;\n",
       "    }\n",
       "\n",
       "    .dataframe thead th {\n",
       "        text-align: right;\n",
       "    }\n",
       "</style>\n",
       "<table border=\"1\" class=\"dataframe\">\n",
       "  <thead>\n",
       "    <tr style=\"text-align: right;\">\n",
       "      <th></th>\n",
       "      <th>01월</th>\n",
       "      <th>02월</th>\n",
       "      <th>03월</th>\n",
       "      <th>04월</th>\n",
       "      <th>05월</th>\n",
       "      <th>06월</th>\n",
       "      <th>07월</th>\n",
       "      <th>08월</th>\n",
       "      <th>09월</th>\n",
       "      <th>10월</th>\n",
       "      <th>11월</th>\n",
       "      <th>12월</th>\n",
       "    </tr>\n",
       "    <tr>\n",
       "      <th>시도</th>\n",
       "      <th></th>\n",
       "      <th></th>\n",
       "      <th></th>\n",
       "      <th></th>\n",
       "      <th></th>\n",
       "      <th></th>\n",
       "      <th></th>\n",
       "      <th></th>\n",
       "      <th></th>\n",
       "      <th></th>\n",
       "      <th></th>\n",
       "      <th></th>\n",
       "    </tr>\n",
       "  </thead>\n",
       "  <tbody>\n",
       "    <tr>\n",
       "      <th>제주</th>\n",
       "      <td>5</td>\n",
       "      <td>1</td>\n",
       "      <td>6</td>\n",
       "      <td>1</td>\n",
       "      <td>1</td>\n",
       "      <td>3</td>\n",
       "      <td>2</td>\n",
       "      <td>4</td>\n",
       "      <td>2</td>\n",
       "      <td>2</td>\n",
       "      <td>3</td>\n",
       "      <td>1</td>\n",
       "    </tr>\n",
       "    <tr>\n",
       "      <th>전남</th>\n",
       "      <td>12</td>\n",
       "      <td>14</td>\n",
       "      <td>9</td>\n",
       "      <td>20</td>\n",
       "      <td>15</td>\n",
       "      <td>12</td>\n",
       "      <td>12</td>\n",
       "      <td>15</td>\n",
       "      <td>12</td>\n",
       "      <td>21</td>\n",
       "      <td>18</td>\n",
       "      <td>17</td>\n",
       "    </tr>\n",
       "    <tr>\n",
       "      <th>충남</th>\n",
       "      <td>13</td>\n",
       "      <td>8</td>\n",
       "      <td>7</td>\n",
       "      <td>11</td>\n",
       "      <td>10</td>\n",
       "      <td>13</td>\n",
       "      <td>11</td>\n",
       "      <td>13</td>\n",
       "      <td>11</td>\n",
       "      <td>21</td>\n",
       "      <td>17</td>\n",
       "      <td>14</td>\n",
       "    </tr>\n",
       "  </tbody>\n",
       "</table>\n",
       "</div>"
      ],
      "text/plain": [
       "0  01월 02월 03월 04월 05월 06월 07월 08월 09월 10월 11월 12월\n",
       "시도                                                \n",
       "제주   5   1   6   1   1   3   2   4   2   2   3   1\n",
       "전남  12  14   9  20  15  12  12  15  12  21  18  17\n",
       "충남  13   8   7  11  10  13  11  13  11  21  17  14"
      ]
     },
     "execution_count": 34,
     "metadata": {},
     "output_type": "execute_result"
    }
   ],
   "source": [
    "Top3data_month\n",
    "# Top3data_month.T['제주'].values"
   ]
  },
  {
   "cell_type": "code",
   "execution_count": 35,
   "id": "00940b9d",
   "metadata": {},
   "outputs": [],
   "source": [
    "Top3data_month.to_csv('../[0]data/0-5_요일_노인교통사고_사망자수_제주_전남_충남(결과).csv.csv')"
   ]
  },
  {
   "cell_type": "code",
   "execution_count": 36,
   "id": "54dfcf53",
   "metadata": {
    "scrolled": true
   },
   "outputs": [
    {
     "data": {
      "text/html": [
       "<div>\n",
       "<style scoped>\n",
       "    .dataframe tbody tr th:only-of-type {\n",
       "        vertical-align: middle;\n",
       "    }\n",
       "\n",
       "    .dataframe tbody tr th {\n",
       "        vertical-align: top;\n",
       "    }\n",
       "\n",
       "    .dataframe thead th {\n",
       "        text-align: right;\n",
       "    }\n",
       "</style>\n",
       "<table border=\"1\" class=\"dataframe\">\n",
       "  <thead>\n",
       "    <tr style=\"text-align: right;\">\n",
       "      <th>시도</th>\n",
       "      <th>제주</th>\n",
       "      <th>전남</th>\n",
       "      <th>충남</th>\n",
       "    </tr>\n",
       "    <tr>\n",
       "      <th>0</th>\n",
       "      <th></th>\n",
       "      <th></th>\n",
       "      <th></th>\n",
       "    </tr>\n",
       "  </thead>\n",
       "  <tbody>\n",
       "    <tr>\n",
       "      <th>01월</th>\n",
       "      <td>5</td>\n",
       "      <td>12</td>\n",
       "      <td>13</td>\n",
       "    </tr>\n",
       "    <tr>\n",
       "      <th>02월</th>\n",
       "      <td>1</td>\n",
       "      <td>14</td>\n",
       "      <td>8</td>\n",
       "    </tr>\n",
       "    <tr>\n",
       "      <th>03월</th>\n",
       "      <td>6</td>\n",
       "      <td>9</td>\n",
       "      <td>7</td>\n",
       "    </tr>\n",
       "    <tr>\n",
       "      <th>04월</th>\n",
       "      <td>1</td>\n",
       "      <td>20</td>\n",
       "      <td>11</td>\n",
       "    </tr>\n",
       "    <tr>\n",
       "      <th>05월</th>\n",
       "      <td>1</td>\n",
       "      <td>15</td>\n",
       "      <td>10</td>\n",
       "    </tr>\n",
       "    <tr>\n",
       "      <th>06월</th>\n",
       "      <td>3</td>\n",
       "      <td>12</td>\n",
       "      <td>13</td>\n",
       "    </tr>\n",
       "    <tr>\n",
       "      <th>07월</th>\n",
       "      <td>2</td>\n",
       "      <td>12</td>\n",
       "      <td>11</td>\n",
       "    </tr>\n",
       "    <tr>\n",
       "      <th>08월</th>\n",
       "      <td>4</td>\n",
       "      <td>15</td>\n",
       "      <td>13</td>\n",
       "    </tr>\n",
       "    <tr>\n",
       "      <th>09월</th>\n",
       "      <td>2</td>\n",
       "      <td>12</td>\n",
       "      <td>11</td>\n",
       "    </tr>\n",
       "    <tr>\n",
       "      <th>10월</th>\n",
       "      <td>2</td>\n",
       "      <td>21</td>\n",
       "      <td>21</td>\n",
       "    </tr>\n",
       "    <tr>\n",
       "      <th>11월</th>\n",
       "      <td>3</td>\n",
       "      <td>18</td>\n",
       "      <td>17</td>\n",
       "    </tr>\n",
       "    <tr>\n",
       "      <th>12월</th>\n",
       "      <td>1</td>\n",
       "      <td>17</td>\n",
       "      <td>14</td>\n",
       "    </tr>\n",
       "  </tbody>\n",
       "</table>\n",
       "</div>"
      ],
      "text/plain": [
       "시도  제주  전남  충남\n",
       "0             \n",
       "01월  5  12  13\n",
       "02월  1  14   8\n",
       "03월  6   9   7\n",
       "04월  1  20  11\n",
       "05월  1  15  10\n",
       "06월  3  12  13\n",
       "07월  2  12  11\n",
       "08월  4  15  13\n",
       "09월  2  12  11\n",
       "10월  2  21  21\n",
       "11월  3  18  17\n",
       "12월  1  17  14"
      ]
     },
     "execution_count": 36,
     "metadata": {},
     "output_type": "execute_result"
    }
   ],
   "source": [
    "Top3data_month.T"
   ]
  },
  {
   "cell_type": "code",
   "execution_count": 37,
   "id": "9942396e",
   "metadata": {
    "scrolled": true
   },
   "outputs": [
    {
     "data": {
      "text/plain": [
       "<Figure size 1080x576 with 0 Axes>"
      ]
     },
     "execution_count": 37,
     "metadata": {},
     "output_type": "execute_result"
    },
    {
     "data": {
      "text/plain": [
       "Text(0.5, 1.0, '<월별 노인 교통사고 사망자수>')"
      ]
     },
     "execution_count": 37,
     "metadata": {},
     "output_type": "execute_result"
    },
    {
     "data": {
      "text/plain": [
       "<BarContainer object of 12 artists>"
      ]
     },
     "execution_count": 37,
     "metadata": {},
     "output_type": "execute_result"
    },
    {
     "data": {
      "text/plain": [
       "<BarContainer object of 12 artists>"
      ]
     },
     "execution_count": 37,
     "metadata": {},
     "output_type": "execute_result"
    },
    {
     "data": {
      "text/plain": [
       "<BarContainer object of 12 artists>"
      ]
     },
     "execution_count": 37,
     "metadata": {},
     "output_type": "execute_result"
    },
    {
     "data": {
      "text/plain": [
       "Text(0.1, 5, '5명')"
      ]
     },
     "execution_count": 37,
     "metadata": {},
     "output_type": "execute_result"
    },
    {
     "data": {
      "text/plain": [
       "Text(1.1, 1, '1명')"
      ]
     },
     "execution_count": 37,
     "metadata": {},
     "output_type": "execute_result"
    },
    {
     "data": {
      "text/plain": [
       "Text(2.1, 6, '6명')"
      ]
     },
     "execution_count": 37,
     "metadata": {},
     "output_type": "execute_result"
    },
    {
     "data": {
      "text/plain": [
       "Text(3.1, 1, '1명')"
      ]
     },
     "execution_count": 37,
     "metadata": {},
     "output_type": "execute_result"
    },
    {
     "data": {
      "text/plain": [
       "Text(4.1, 1, '1명')"
      ]
     },
     "execution_count": 37,
     "metadata": {},
     "output_type": "execute_result"
    },
    {
     "data": {
      "text/plain": [
       "Text(5.1, 3, '3명')"
      ]
     },
     "execution_count": 37,
     "metadata": {},
     "output_type": "execute_result"
    },
    {
     "data": {
      "text/plain": [
       "Text(6.1, 2, '2명')"
      ]
     },
     "execution_count": 37,
     "metadata": {},
     "output_type": "execute_result"
    },
    {
     "data": {
      "text/plain": [
       "Text(7.1, 4, '4명')"
      ]
     },
     "execution_count": 37,
     "metadata": {},
     "output_type": "execute_result"
    },
    {
     "data": {
      "text/plain": [
       "Text(8.1, 2, '2명')"
      ]
     },
     "execution_count": 37,
     "metadata": {},
     "output_type": "execute_result"
    },
    {
     "data": {
      "text/plain": [
       "Text(9.1, 2, '2명')"
      ]
     },
     "execution_count": 37,
     "metadata": {},
     "output_type": "execute_result"
    },
    {
     "data": {
      "text/plain": [
       "Text(10.1, 3, '3명')"
      ]
     },
     "execution_count": 37,
     "metadata": {},
     "output_type": "execute_result"
    },
    {
     "data": {
      "text/plain": [
       "Text(11.1, 1, '1명')"
      ]
     },
     "execution_count": 37,
     "metadata": {},
     "output_type": "execute_result"
    },
    {
     "data": {
      "text/plain": [
       "Text(0.3, 12, '12명')"
      ]
     },
     "execution_count": 37,
     "metadata": {},
     "output_type": "execute_result"
    },
    {
     "data": {
      "text/plain": [
       "Text(1.3, 14, '14명')"
      ]
     },
     "execution_count": 37,
     "metadata": {},
     "output_type": "execute_result"
    },
    {
     "data": {
      "text/plain": [
       "Text(2.3, 9, '9명')"
      ]
     },
     "execution_count": 37,
     "metadata": {},
     "output_type": "execute_result"
    },
    {
     "data": {
      "text/plain": [
       "Text(3.3, 20, '20명')"
      ]
     },
     "execution_count": 37,
     "metadata": {},
     "output_type": "execute_result"
    },
    {
     "data": {
      "text/plain": [
       "Text(4.3, 15, '15명')"
      ]
     },
     "execution_count": 37,
     "metadata": {},
     "output_type": "execute_result"
    },
    {
     "data": {
      "text/plain": [
       "Text(5.3, 12, '12명')"
      ]
     },
     "execution_count": 37,
     "metadata": {},
     "output_type": "execute_result"
    },
    {
     "data": {
      "text/plain": [
       "Text(6.3, 12, '12명')"
      ]
     },
     "execution_count": 37,
     "metadata": {},
     "output_type": "execute_result"
    },
    {
     "data": {
      "text/plain": [
       "Text(7.3, 15, '15명')"
      ]
     },
     "execution_count": 37,
     "metadata": {},
     "output_type": "execute_result"
    },
    {
     "data": {
      "text/plain": [
       "Text(8.3, 12, '12명')"
      ]
     },
     "execution_count": 37,
     "metadata": {},
     "output_type": "execute_result"
    },
    {
     "data": {
      "text/plain": [
       "Text(9.3, 21, '21명')"
      ]
     },
     "execution_count": 37,
     "metadata": {},
     "output_type": "execute_result"
    },
    {
     "data": {
      "text/plain": [
       "Text(10.3, 18, '18명')"
      ]
     },
     "execution_count": 37,
     "metadata": {},
     "output_type": "execute_result"
    },
    {
     "data": {
      "text/plain": [
       "Text(11.3, 17, '17명')"
      ]
     },
     "execution_count": 37,
     "metadata": {},
     "output_type": "execute_result"
    },
    {
     "data": {
      "text/plain": [
       "Text(0.5, 13, '13명')"
      ]
     },
     "execution_count": 37,
     "metadata": {},
     "output_type": "execute_result"
    },
    {
     "data": {
      "text/plain": [
       "Text(1.5, 8, '8명')"
      ]
     },
     "execution_count": 37,
     "metadata": {},
     "output_type": "execute_result"
    },
    {
     "data": {
      "text/plain": [
       "Text(2.5, 7, '7명')"
      ]
     },
     "execution_count": 37,
     "metadata": {},
     "output_type": "execute_result"
    },
    {
     "data": {
      "text/plain": [
       "Text(3.5, 11, '11명')"
      ]
     },
     "execution_count": 37,
     "metadata": {},
     "output_type": "execute_result"
    },
    {
     "data": {
      "text/plain": [
       "Text(4.5, 10, '10명')"
      ]
     },
     "execution_count": 37,
     "metadata": {},
     "output_type": "execute_result"
    },
    {
     "data": {
      "text/plain": [
       "Text(5.5, 13, '13명')"
      ]
     },
     "execution_count": 37,
     "metadata": {},
     "output_type": "execute_result"
    },
    {
     "data": {
      "text/plain": [
       "Text(6.5, 11, '11명')"
      ]
     },
     "execution_count": 37,
     "metadata": {},
     "output_type": "execute_result"
    },
    {
     "data": {
      "text/plain": [
       "Text(7.5, 13, '13명')"
      ]
     },
     "execution_count": 37,
     "metadata": {},
     "output_type": "execute_result"
    },
    {
     "data": {
      "text/plain": [
       "Text(8.5, 11, '11명')"
      ]
     },
     "execution_count": 37,
     "metadata": {},
     "output_type": "execute_result"
    },
    {
     "data": {
      "text/plain": [
       "Text(9.5, 21, '21명')"
      ]
     },
     "execution_count": 37,
     "metadata": {},
     "output_type": "execute_result"
    },
    {
     "data": {
      "text/plain": [
       "Text(10.5, 17, '17명')"
      ]
     },
     "execution_count": 37,
     "metadata": {},
     "output_type": "execute_result"
    },
    {
     "data": {
      "text/plain": [
       "Text(11.5, 14, '14명')"
      ]
     },
     "execution_count": 37,
     "metadata": {},
     "output_type": "execute_result"
    },
    {
     "data": {
      "text/plain": [
       "Text(0.5, 0, '월별')"
      ]
     },
     "execution_count": 37,
     "metadata": {},
     "output_type": "execute_result"
    },
    {
     "data": {
      "text/plain": [
       "Text(0, 0.5, '')"
      ]
     },
     "execution_count": 37,
     "metadata": {},
     "output_type": "execute_result"
    },
    {
     "data": {
      "text/plain": [
       "([<matplotlib.axis.XTick at 0x7feec0ef2130>,\n",
       "  <matplotlib.axis.XTick at 0x7feec0ef2100>,\n",
       "  <matplotlib.axis.XTick at 0x7feec0eeec70>,\n",
       "  <matplotlib.axis.XTick at 0x7feec0c73e20>,\n",
       "  <matplotlib.axis.XTick at 0x7feec0d13850>,\n",
       "  <matplotlib.axis.XTick at 0x7feec0d13d60>,\n",
       "  <matplotlib.axis.XTick at 0x7feec0d3e2b0>,\n",
       "  <matplotlib.axis.XTick at 0x7feec0d3e7c0>,\n",
       "  <matplotlib.axis.XTick at 0x7feec0d3ecd0>,\n",
       "  <matplotlib.axis.XTick at 0x7feec0d34220>,\n",
       "  <matplotlib.axis.XTick at 0x7feec0d3e430>,\n",
       "  <matplotlib.axis.XTick at 0x7feec0c73430>],\n",
       " [Text(0.30000000000000004, 0, '01월'),\n",
       "  Text(1.3, 0, '02월'),\n",
       "  Text(2.3000000000000003, 0, '03월'),\n",
       "  Text(3.3000000000000003, 0, '04월'),\n",
       "  Text(4.3, 0, '05월'),\n",
       "  Text(5.3, 0, '06월'),\n",
       "  Text(6.3, 0, '07월'),\n",
       "  Text(7.3, 0, '08월'),\n",
       "  Text(8.299999999999999, 0, '09월'),\n",
       "  Text(9.299999999999999, 0, '10월'),\n",
       "  Text(10.299999999999999, 0, '11월'),\n",
       "  Text(11.299999999999999, 0, '12월')])"
      ]
     },
     "execution_count": 37,
     "metadata": {},
     "output_type": "execute_result"
    },
    {
     "data": {
      "text/plain": [
       "<matplotlib.legend.Legend at 0x7feeaa432c70>"
      ]
     },
     "execution_count": 37,
     "metadata": {},
     "output_type": "execute_result"
    },
    {
     "data": {
      "image/png": "[encoded data removed]",
      "text/plain": [
       "<Figure size 1080x576 with 1 Axes>"
      ]
     },
     "metadata": {
      "needs_background": "light"
     },
     "output_type": "display_data"
    }
   ],
   "source": [
    "# 막대 그래프 bar(x, y, color = , alpha = )\n",
    "# 변수 kor19_data\n",
    "\n",
    "x = range(0,len(Top3data_month.columns))\n",
    "n_data=len(Top3data_month.T)\n",
    "index=np.arange(n_data)\n",
    "barWidth = 0.2\n",
    "\n",
    "plt.figure(figsize=(15,8))\n",
    "plt.title('<월별 노인 교통사고 사망자수>',fontsize=20,pad=30,fontweight=\"bold\")\n",
    "\n",
    "plt.bar(index, Top3data_month.T['제주'], color='#5B85D9', align='edge', width=barWidth, label='제주',alpha=0.8)\n",
    "plt.bar(index+barWidth, Top3data_month.T['전남'], color='#F2C335',align='edge', width=barWidth, label='전남',alpha=0.8)\n",
    "plt.bar(index+barWidth+barWidth, Top3data_month.T['충남'], color='#F25050',align='edge', width=barWidth, label='충남',alpha=0.8)\n",
    "\n",
    "plt.grid(True, axis='y', alpha=0.4)\n",
    "\n",
    "for i, v in enumerate(x):\n",
    "    plt.text(v+0.1, Top3data_month.T['제주'].values[i], str(Top3data_month.T['제주'][i])+'명',                 \n",
    "             fontsize = 9, \n",
    "             color='black',\n",
    "             horizontalalignment='center',\n",
    "             verticalalignment='bottom')\n",
    "\n",
    "for i, v in enumerate(x):\n",
    "    plt.text(v+0.3, Top3data_month.T['전남'].values[i], str(Top3data_month.T['전남'][i])+'명',                 \n",
    "             fontsize = 9, \n",
    "             color='black',\n",
    "             horizontalalignment='center',\n",
    "             verticalalignment='bottom')\n",
    "\n",
    "for i, v in enumerate(x):\n",
    "    plt.text(v+0.5, Top3data_month.T['충남'].values[i], str(Top3data_month.T['충남'][i])+'명',                 \n",
    "             fontsize = 9, \n",
    "             color='black',\n",
    "             horizontalalignment='center',\n",
    "             verticalalignment='bottom')\n",
    "    \n",
    "    \n",
    "plt.xlabel('월별',labelpad=20,fontsize=15)\n",
    "plt.ylabel('',labelpad=15,fontsize=15)\n",
    "\n",
    "plt.xticks(index+barWidth+0.1, Top3data_month.T.index)\n",
    "plt.legend()\n",
    "\n",
    "\n",
    "plt.show()"
   ]
  },
  {
   "cell_type": "markdown",
   "id": "39e777da",
   "metadata": {},
   "source": [
    "# 시간대별 노인 교통사고 사망자수"
   ]
  },
  {
   "cell_type": "code",
   "execution_count": 38,
   "id": "1bab7457",
   "metadata": {
    "scrolled": true
   },
   "outputs": [
    {
     "name": "stdout",
     "output_type": "stream",
     "text": [
      "<class 'pandas.core.frame.DataFrame'>\n",
      "RangeIndex: 56 entries, 0 to 55\n",
      "Data columns (total 15 columns):\n",
      " #   Column   Non-Null Count  Dtype \n",
      "---  ------   --------------  ----- \n",
      " 0   시도       56 non-null     object\n",
      " 1   기준년도     55 non-null     object\n",
      " 2   2019     55 non-null     object\n",
      " 3   2019.1   55 non-null     object\n",
      " 4   2019.2   55 non-null     object\n",
      " 5   2019.3   55 non-null     object\n",
      " 6   2019.4   55 non-null     object\n",
      " 7   2019.5   55 non-null     object\n",
      " 8   2019.6   55 non-null     object\n",
      " 9   2019.7   55 non-null     object\n",
      " 10  2019.8   55 non-null     object\n",
      " 11  2019.9   55 non-null     object\n",
      " 12  2019.10  55 non-null     object\n",
      " 13  2019.11  55 non-null     object\n",
      " 14  2019.12  55 non-null     object\n",
      "dtypes: object(15)\n",
      "memory usage: 6.7+ KB\n"
     ]
    }
   ],
   "source": [
    "time_data = pd.read_excel('../[0]data/시간대별_노인교통사고.xls')\n",
    "time_data.info()"
   ]
  },
  {
   "cell_type": "code",
   "execution_count": 39,
   "id": "67f70d56",
   "metadata": {
    "scrolled": true
   },
   "outputs": [],
   "source": [
    "time_data.dropna(inplace=True)"
   ]
  },
  {
   "cell_type": "code",
   "execution_count": 40,
   "id": "07b090ce",
   "metadata": {
    "scrolled": true
   },
   "outputs": [
    {
     "data": {
      "text/html": [
       "<div>\n",
       "<style scoped>\n",
       "    .dataframe tbody tr th:only-of-type {\n",
       "        vertical-align: middle;\n",
       "    }\n",
       "\n",
       "    .dataframe tbody tr th {\n",
       "        vertical-align: top;\n",
       "    }\n",
       "\n",
       "    .dataframe thead th {\n",
       "        text-align: right;\n",
       "    }\n",
       "</style>\n",
       "<table border=\"1\" class=\"dataframe\">\n",
       "  <thead>\n",
       "    <tr style=\"text-align: right;\">\n",
       "      <th></th>\n",
       "      <th>시도</th>\n",
       "      <th>기준년도</th>\n",
       "      <th>2019</th>\n",
       "      <th>2019.1</th>\n",
       "      <th>2019.2</th>\n",
       "      <th>2019.3</th>\n",
       "      <th>2019.4</th>\n",
       "      <th>2019.5</th>\n",
       "      <th>2019.6</th>\n",
       "      <th>2019.7</th>\n",
       "      <th>2019.8</th>\n",
       "      <th>2019.9</th>\n",
       "      <th>2019.10</th>\n",
       "      <th>2019.11</th>\n",
       "      <th>2019.12</th>\n",
       "    </tr>\n",
       "  </thead>\n",
       "  <tbody>\n",
       "    <tr>\n",
       "      <th>0</th>\n",
       "      <td>시도</td>\n",
       "      <td>기준년도</td>\n",
       "      <td>합계</td>\n",
       "      <td>0시~2시</td>\n",
       "      <td>2시~4시</td>\n",
       "      <td>4시~6시</td>\n",
       "      <td>6시~8시</td>\n",
       "      <td>8시~10시</td>\n",
       "      <td>10시~12시</td>\n",
       "      <td>12시~14시</td>\n",
       "      <td>14시~16시</td>\n",
       "      <td>16시~18시</td>\n",
       "      <td>18시~20시</td>\n",
       "      <td>20시~22시</td>\n",
       "      <td>22시~24시</td>\n",
       "    </tr>\n",
       "    <tr>\n",
       "      <th>1</th>\n",
       "      <td>합계</td>\n",
       "      <td>사고건수</td>\n",
       "      <td>40645</td>\n",
       "      <td>674</td>\n",
       "      <td>426</td>\n",
       "      <td>1366</td>\n",
       "      <td>2781</td>\n",
       "      <td>5199</td>\n",
       "      <td>6062</td>\n",
       "      <td>5491</td>\n",
       "      <td>5768</td>\n",
       "      <td>5385</td>\n",
       "      <td>4315</td>\n",
       "      <td>2144</td>\n",
       "      <td>1034</td>\n",
       "    </tr>\n",
       "    <tr>\n",
       "      <th>2</th>\n",
       "      <td>합계</td>\n",
       "      <td>사망자수</td>\n",
       "      <td>1523</td>\n",
       "      <td>22</td>\n",
       "      <td>19</td>\n",
       "      <td>93</td>\n",
       "      <td>153</td>\n",
       "      <td>170</td>\n",
       "      <td>196</td>\n",
       "      <td>155</td>\n",
       "      <td>189</td>\n",
       "      <td>167</td>\n",
       "      <td>213</td>\n",
       "      <td>106</td>\n",
       "      <td>40</td>\n",
       "    </tr>\n",
       "    <tr>\n",
       "      <th>3</th>\n",
       "      <td>합계</td>\n",
       "      <td>부상자수</td>\n",
       "      <td>44390</td>\n",
       "      <td>688</td>\n",
       "      <td>443</td>\n",
       "      <td>1421</td>\n",
       "      <td>2963</td>\n",
       "      <td>5688</td>\n",
       "      <td>6769</td>\n",
       "      <td>6241</td>\n",
       "      <td>6434</td>\n",
       "      <td>5945</td>\n",
       "      <td>4532</td>\n",
       "      <td>2210</td>\n",
       "      <td>1056</td>\n",
       "    </tr>\n",
       "    <tr>\n",
       "      <th>4</th>\n",
       "      <td>서울</td>\n",
       "      <td>사고건수</td>\n",
       "      <td>5912</td>\n",
       "      <td>194</td>\n",
       "      <td>113</td>\n",
       "      <td>298</td>\n",
       "      <td>378</td>\n",
       "      <td>619</td>\n",
       "      <td>822</td>\n",
       "      <td>697</td>\n",
       "      <td>772</td>\n",
       "      <td>769</td>\n",
       "      <td>624</td>\n",
       "      <td>388</td>\n",
       "      <td>238</td>\n",
       "    </tr>\n",
       "  </tbody>\n",
       "</table>\n",
       "</div>"
      ],
      "text/plain": [
       "   시도  기준년도   2019 2019.1 2019.2 2019.3 2019.4  2019.5   2019.6   2019.7  \\\n",
       "0  시도  기준년도     합계  0시~2시  2시~4시  4시~6시  6시~8시  8시~10시  10시~12시  12시~14시   \n",
       "1  합계  사고건수  40645    674    426   1366   2781    5199     6062     5491   \n",
       "2  합계  사망자수   1523     22     19     93    153     170      196      155   \n",
       "3  합계  부상자수  44390    688    443   1421   2963    5688     6769     6241   \n",
       "4  서울  사고건수   5912    194    113    298    378     619      822      697   \n",
       "\n",
       "    2019.8   2019.9  2019.10  2019.11  2019.12  \n",
       "0  14시~16시  16시~18시  18시~20시  20시~22시  22시~24시  \n",
       "1     5768     5385     4315     2144     1034  \n",
       "2      189      167      213      106       40  \n",
       "3     6434     5945     4532     2210     1056  \n",
       "4      772      769      624      388      238  "
      ]
     },
     "execution_count": 40,
     "metadata": {},
     "output_type": "execute_result"
    }
   ],
   "source": [
    "time_data.head()"
   ]
  },
  {
   "cell_type": "code",
   "execution_count": 41,
   "id": "02e1cbb8",
   "metadata": {
    "scrolled": true
   },
   "outputs": [],
   "source": [
    "time_data.columns = time_data.iloc[0]"
   ]
  },
  {
   "cell_type": "code",
   "execution_count": 42,
   "id": "40aa1d7e",
   "metadata": {
    "scrolled": true
   },
   "outputs": [],
   "source": [
    "time_data.drop(index=0,axis=0,inplace=True)"
   ]
  },
  {
   "cell_type": "code",
   "execution_count": 43,
   "id": "e0d346ef",
   "metadata": {
    "scrolled": true
   },
   "outputs": [
    {
     "data": {
      "text/html": [
       "<div>\n",
       "<style scoped>\n",
       "    .dataframe tbody tr th:only-of-type {\n",
       "        vertical-align: middle;\n",
       "    }\n",
       "\n",
       "    .dataframe tbody tr th {\n",
       "        vertical-align: top;\n",
       "    }\n",
       "\n",
       "    .dataframe thead th {\n",
       "        text-align: right;\n",
       "    }\n",
       "</style>\n",
       "<table border=\"1\" class=\"dataframe\">\n",
       "  <thead>\n",
       "    <tr style=\"text-align: right;\">\n",
       "      <th></th>\n",
       "      <th>시도</th>\n",
       "      <th>기준년도</th>\n",
       "      <th>합계</th>\n",
       "      <th>0시~2시</th>\n",
       "      <th>2시~4시</th>\n",
       "      <th>4시~6시</th>\n",
       "      <th>6시~8시</th>\n",
       "      <th>8시~10시</th>\n",
       "      <th>10시~12시</th>\n",
       "      <th>12시~14시</th>\n",
       "      <th>14시~16시</th>\n",
       "      <th>16시~18시</th>\n",
       "      <th>18시~20시</th>\n",
       "      <th>20시~22시</th>\n",
       "      <th>22시~24시</th>\n",
       "    </tr>\n",
       "  </thead>\n",
       "  <tbody>\n",
       "    <tr>\n",
       "      <th>1</th>\n",
       "      <td>합계</td>\n",
       "      <td>사고건수</td>\n",
       "      <td>40645</td>\n",
       "      <td>674</td>\n",
       "      <td>426</td>\n",
       "      <td>1366</td>\n",
       "      <td>2781</td>\n",
       "      <td>5199</td>\n",
       "      <td>6062</td>\n",
       "      <td>5491</td>\n",
       "      <td>5768</td>\n",
       "      <td>5385</td>\n",
       "      <td>4315</td>\n",
       "      <td>2144</td>\n",
       "      <td>1034</td>\n",
       "    </tr>\n",
       "    <tr>\n",
       "      <th>2</th>\n",
       "      <td>합계</td>\n",
       "      <td>사망자수</td>\n",
       "      <td>1523</td>\n",
       "      <td>22</td>\n",
       "      <td>19</td>\n",
       "      <td>93</td>\n",
       "      <td>153</td>\n",
       "      <td>170</td>\n",
       "      <td>196</td>\n",
       "      <td>155</td>\n",
       "      <td>189</td>\n",
       "      <td>167</td>\n",
       "      <td>213</td>\n",
       "      <td>106</td>\n",
       "      <td>40</td>\n",
       "    </tr>\n",
       "    <tr>\n",
       "      <th>3</th>\n",
       "      <td>합계</td>\n",
       "      <td>부상자수</td>\n",
       "      <td>44390</td>\n",
       "      <td>688</td>\n",
       "      <td>443</td>\n",
       "      <td>1421</td>\n",
       "      <td>2963</td>\n",
       "      <td>5688</td>\n",
       "      <td>6769</td>\n",
       "      <td>6241</td>\n",
       "      <td>6434</td>\n",
       "      <td>5945</td>\n",
       "      <td>4532</td>\n",
       "      <td>2210</td>\n",
       "      <td>1056</td>\n",
       "    </tr>\n",
       "    <tr>\n",
       "      <th>4</th>\n",
       "      <td>서울</td>\n",
       "      <td>사고건수</td>\n",
       "      <td>5912</td>\n",
       "      <td>194</td>\n",
       "      <td>113</td>\n",
       "      <td>298</td>\n",
       "      <td>378</td>\n",
       "      <td>619</td>\n",
       "      <td>822</td>\n",
       "      <td>697</td>\n",
       "      <td>772</td>\n",
       "      <td>769</td>\n",
       "      <td>624</td>\n",
       "      <td>388</td>\n",
       "      <td>238</td>\n",
       "    </tr>\n",
       "    <tr>\n",
       "      <th>5</th>\n",
       "      <td>서울</td>\n",
       "      <td>사망자수</td>\n",
       "      <td>103</td>\n",
       "      <td>6</td>\n",
       "      <td>4</td>\n",
       "      <td>14</td>\n",
       "      <td>14</td>\n",
       "      <td>5</td>\n",
       "      <td>10</td>\n",
       "      <td>10</td>\n",
       "      <td>14</td>\n",
       "      <td>6</td>\n",
       "      <td>6</td>\n",
       "      <td>8</td>\n",
       "      <td>6</td>\n",
       "    </tr>\n",
       "  </tbody>\n",
       "</table>\n",
       "</div>"
      ],
      "text/plain": [
       "0  시도  기준년도     합계 0시~2시 2시~4시 4시~6시 6시~8시 8시~10시 10시~12시 12시~14시 14시~16시  \\\n",
       "1  합계  사고건수  40645   674   426  1366  2781   5199    6062    5491    5768   \n",
       "2  합계  사망자수   1523    22    19    93   153    170     196     155     189   \n",
       "3  합계  부상자수  44390   688   443  1421  2963   5688    6769    6241    6434   \n",
       "4  서울  사고건수   5912   194   113   298   378    619     822     697     772   \n",
       "5  서울  사망자수    103     6     4    14    14      5      10      10      14   \n",
       "\n",
       "0 16시~18시 18시~20시 20시~22시 22시~24시  \n",
       "1    5385    4315    2144    1034  \n",
       "2     167     213     106      40  \n",
       "3    5945    4532    2210    1056  \n",
       "4     769     624     388     238  \n",
       "5       6       6       8       6  "
      ]
     },
     "execution_count": 43,
     "metadata": {},
     "output_type": "execute_result"
    }
   ],
   "source": [
    "time_data.head()"
   ]
  },
  {
   "cell_type": "code",
   "execution_count": 44,
   "id": "ee5404ff",
   "metadata": {
    "scrolled": true
   },
   "outputs": [
    {
     "data": {
      "text/html": [
       "<div>\n",
       "<style scoped>\n",
       "    .dataframe tbody tr th:only-of-type {\n",
       "        vertical-align: middle;\n",
       "    }\n",
       "\n",
       "    .dataframe tbody tr th {\n",
       "        vertical-align: top;\n",
       "    }\n",
       "\n",
       "    .dataframe thead th {\n",
       "        text-align: right;\n",
       "    }\n",
       "</style>\n",
       "<table border=\"1\" class=\"dataframe\">\n",
       "  <thead>\n",
       "    <tr style=\"text-align: right;\">\n",
       "      <th></th>\n",
       "      <th>시도</th>\n",
       "      <th>기준년도</th>\n",
       "      <th>합계</th>\n",
       "      <th>0시~2시</th>\n",
       "      <th>2시~4시</th>\n",
       "      <th>4시~6시</th>\n",
       "      <th>6시~8시</th>\n",
       "      <th>8시~10시</th>\n",
       "      <th>10시~12시</th>\n",
       "      <th>12시~14시</th>\n",
       "      <th>14시~16시</th>\n",
       "      <th>16시~18시</th>\n",
       "      <th>18시~20시</th>\n",
       "      <th>20시~22시</th>\n",
       "      <th>22시~24시</th>\n",
       "    </tr>\n",
       "  </thead>\n",
       "  <tbody>\n",
       "    <tr>\n",
       "      <th>5</th>\n",
       "      <td>서울</td>\n",
       "      <td>사망자수</td>\n",
       "      <td>103</td>\n",
       "      <td>6</td>\n",
       "      <td>4</td>\n",
       "      <td>14</td>\n",
       "      <td>14</td>\n",
       "      <td>5</td>\n",
       "      <td>10</td>\n",
       "      <td>10</td>\n",
       "      <td>14</td>\n",
       "      <td>6</td>\n",
       "      <td>6</td>\n",
       "      <td>8</td>\n",
       "      <td>6</td>\n",
       "    </tr>\n",
       "    <tr>\n",
       "      <th>8</th>\n",
       "      <td>부산</td>\n",
       "      <td>사망자수</td>\n",
       "      <td>53</td>\n",
       "      <td>3</td>\n",
       "      <td>1</td>\n",
       "      <td>5</td>\n",
       "      <td>6</td>\n",
       "      <td>6</td>\n",
       "      <td>6</td>\n",
       "      <td>8</td>\n",
       "      <td>5</td>\n",
       "      <td>5</td>\n",
       "      <td>3</td>\n",
       "      <td>4</td>\n",
       "      <td>1</td>\n",
       "    </tr>\n",
       "    <tr>\n",
       "      <th>11</th>\n",
       "      <td>대구</td>\n",
       "      <td>사망자수</td>\n",
       "      <td>44</td>\n",
       "      <td>1</td>\n",
       "      <td>2</td>\n",
       "      <td>4</td>\n",
       "      <td>6</td>\n",
       "      <td>4</td>\n",
       "      <td>5</td>\n",
       "      <td>5</td>\n",
       "      <td>5</td>\n",
       "      <td>7</td>\n",
       "      <td>0</td>\n",
       "      <td>2</td>\n",
       "      <td>3</td>\n",
       "    </tr>\n",
       "    <tr>\n",
       "      <th>14</th>\n",
       "      <td>인천</td>\n",
       "      <td>사망자수</td>\n",
       "      <td>50</td>\n",
       "      <td>1</td>\n",
       "      <td>0</td>\n",
       "      <td>3</td>\n",
       "      <td>4</td>\n",
       "      <td>6</td>\n",
       "      <td>4</td>\n",
       "      <td>5</td>\n",
       "      <td>9</td>\n",
       "      <td>7</td>\n",
       "      <td>2</td>\n",
       "      <td>5</td>\n",
       "      <td>4</td>\n",
       "    </tr>\n",
       "    <tr>\n",
       "      <th>17</th>\n",
       "      <td>광주</td>\n",
       "      <td>사망자수</td>\n",
       "      <td>25</td>\n",
       "      <td>0</td>\n",
       "      <td>1</td>\n",
       "      <td>3</td>\n",
       "      <td>2</td>\n",
       "      <td>4</td>\n",
       "      <td>4</td>\n",
       "      <td>0</td>\n",
       "      <td>4</td>\n",
       "      <td>0</td>\n",
       "      <td>2</td>\n",
       "      <td>5</td>\n",
       "      <td>0</td>\n",
       "    </tr>\n",
       "  </tbody>\n",
       "</table>\n",
       "</div>"
      ],
      "text/plain": [
       "0   시도  기준년도   합계 0시~2시 2시~4시 4시~6시 6시~8시 8시~10시 10시~12시 12시~14시 14시~16시  \\\n",
       "5   서울  사망자수  103     6     4    14    14      5      10      10      14   \n",
       "8   부산  사망자수   53     3     1     5     6      6       6       8       5   \n",
       "11  대구  사망자수   44     1     2     4     6      4       5       5       5   \n",
       "14  인천  사망자수   50     1     0     3     4      6       4       5       9   \n",
       "17  광주  사망자수   25     0     1     3     2      4       4       0       4   \n",
       "\n",
       "0  16시~18시 18시~20시 20시~22시 22시~24시  \n",
       "5        6       6       8       6  \n",
       "8        5       3       4       1  \n",
       "11       7       0       2       3  \n",
       "14       7       2       5       4  \n",
       "17       0       2       5       0  "
      ]
     },
     "execution_count": 44,
     "metadata": {},
     "output_type": "execute_result"
    }
   ],
   "source": [
    "time_data = time_data[4::3]\n",
    "time_data.head()"
   ]
  },
  {
   "cell_type": "code",
   "execution_count": 45,
   "id": "5a5350c5",
   "metadata": {
    "scrolled": true
   },
   "outputs": [],
   "source": [
    "time_data.index = time_data['시도']"
   ]
  },
  {
   "cell_type": "code",
   "execution_count": 46,
   "id": "8e607d49",
   "metadata": {
    "scrolled": true
   },
   "outputs": [],
   "source": [
    "del time_data['시도']\n",
    "del time_data['기준년도']\n",
    "del time_data['합계']"
   ]
  },
  {
   "cell_type": "code",
   "execution_count": 47,
   "id": "3fbcb5f2",
   "metadata": {
    "scrolled": true
   },
   "outputs": [
    {
     "data": {
      "text/html": [
       "<div>\n",
       "<style scoped>\n",
       "    .dataframe tbody tr th:only-of-type {\n",
       "        vertical-align: middle;\n",
       "    }\n",
       "\n",
       "    .dataframe tbody tr th {\n",
       "        vertical-align: top;\n",
       "    }\n",
       "\n",
       "    .dataframe thead th {\n",
       "        text-align: right;\n",
       "    }\n",
       "</style>\n",
       "<table border=\"1\" class=\"dataframe\">\n",
       "  <thead>\n",
       "    <tr style=\"text-align: right;\">\n",
       "      <th></th>\n",
       "      <th>0시~2시</th>\n",
       "      <th>2시~4시</th>\n",
       "      <th>4시~6시</th>\n",
       "      <th>6시~8시</th>\n",
       "      <th>8시~10시</th>\n",
       "      <th>10시~12시</th>\n",
       "      <th>12시~14시</th>\n",
       "      <th>14시~16시</th>\n",
       "      <th>16시~18시</th>\n",
       "      <th>18시~20시</th>\n",
       "      <th>20시~22시</th>\n",
       "      <th>22시~24시</th>\n",
       "    </tr>\n",
       "    <tr>\n",
       "      <th>시도</th>\n",
       "      <th></th>\n",
       "      <th></th>\n",
       "      <th></th>\n",
       "      <th></th>\n",
       "      <th></th>\n",
       "      <th></th>\n",
       "      <th></th>\n",
       "      <th></th>\n",
       "      <th></th>\n",
       "      <th></th>\n",
       "      <th></th>\n",
       "      <th></th>\n",
       "    </tr>\n",
       "  </thead>\n",
       "  <tbody>\n",
       "    <tr>\n",
       "      <th>서울</th>\n",
       "      <td>6</td>\n",
       "      <td>4</td>\n",
       "      <td>14</td>\n",
       "      <td>14</td>\n",
       "      <td>5</td>\n",
       "      <td>10</td>\n",
       "      <td>10</td>\n",
       "      <td>14</td>\n",
       "      <td>6</td>\n",
       "      <td>6</td>\n",
       "      <td>8</td>\n",
       "      <td>6</td>\n",
       "    </tr>\n",
       "    <tr>\n",
       "      <th>부산</th>\n",
       "      <td>3</td>\n",
       "      <td>1</td>\n",
       "      <td>5</td>\n",
       "      <td>6</td>\n",
       "      <td>6</td>\n",
       "      <td>6</td>\n",
       "      <td>8</td>\n",
       "      <td>5</td>\n",
       "      <td>5</td>\n",
       "      <td>3</td>\n",
       "      <td>4</td>\n",
       "      <td>1</td>\n",
       "    </tr>\n",
       "    <tr>\n",
       "      <th>대구</th>\n",
       "      <td>1</td>\n",
       "      <td>2</td>\n",
       "      <td>4</td>\n",
       "      <td>6</td>\n",
       "      <td>4</td>\n",
       "      <td>5</td>\n",
       "      <td>5</td>\n",
       "      <td>5</td>\n",
       "      <td>7</td>\n",
       "      <td>0</td>\n",
       "      <td>2</td>\n",
       "      <td>3</td>\n",
       "    </tr>\n",
       "    <tr>\n",
       "      <th>인천</th>\n",
       "      <td>1</td>\n",
       "      <td>0</td>\n",
       "      <td>3</td>\n",
       "      <td>4</td>\n",
       "      <td>6</td>\n",
       "      <td>4</td>\n",
       "      <td>5</td>\n",
       "      <td>9</td>\n",
       "      <td>7</td>\n",
       "      <td>2</td>\n",
       "      <td>5</td>\n",
       "      <td>4</td>\n",
       "    </tr>\n",
       "    <tr>\n",
       "      <th>광주</th>\n",
       "      <td>0</td>\n",
       "      <td>1</td>\n",
       "      <td>3</td>\n",
       "      <td>2</td>\n",
       "      <td>4</td>\n",
       "      <td>4</td>\n",
       "      <td>0</td>\n",
       "      <td>4</td>\n",
       "      <td>0</td>\n",
       "      <td>2</td>\n",
       "      <td>5</td>\n",
       "      <td>0</td>\n",
       "    </tr>\n",
       "    <tr>\n",
       "      <th>대전</th>\n",
       "      <td>1</td>\n",
       "      <td>0</td>\n",
       "      <td>2</td>\n",
       "      <td>4</td>\n",
       "      <td>4</td>\n",
       "      <td>3</td>\n",
       "      <td>3</td>\n",
       "      <td>2</td>\n",
       "      <td>4</td>\n",
       "      <td>2</td>\n",
       "      <td>7</td>\n",
       "      <td>2</td>\n",
       "    </tr>\n",
       "    <tr>\n",
       "      <th>울산</th>\n",
       "      <td>0</td>\n",
       "      <td>0</td>\n",
       "      <td>2</td>\n",
       "      <td>4</td>\n",
       "      <td>1</td>\n",
       "      <td>3</td>\n",
       "      <td>1</td>\n",
       "      <td>2</td>\n",
       "      <td>0</td>\n",
       "      <td>2</td>\n",
       "      <td>1</td>\n",
       "      <td>1</td>\n",
       "    </tr>\n",
       "    <tr>\n",
       "      <th>세종</th>\n",
       "      <td>0</td>\n",
       "      <td>0</td>\n",
       "      <td>0</td>\n",
       "      <td>1</td>\n",
       "      <td>0</td>\n",
       "      <td>2</td>\n",
       "      <td>1</td>\n",
       "      <td>1</td>\n",
       "      <td>0</td>\n",
       "      <td>0</td>\n",
       "      <td>3</td>\n",
       "      <td>0</td>\n",
       "    </tr>\n",
       "    <tr>\n",
       "      <th>경기</th>\n",
       "      <td>5</td>\n",
       "      <td>2</td>\n",
       "      <td>15</td>\n",
       "      <td>26</td>\n",
       "      <td>23</td>\n",
       "      <td>27</td>\n",
       "      <td>22</td>\n",
       "      <td>25</td>\n",
       "      <td>27</td>\n",
       "      <td>26</td>\n",
       "      <td>15</td>\n",
       "      <td>9</td>\n",
       "    </tr>\n",
       "    <tr>\n",
       "      <th>강원</th>\n",
       "      <td>0</td>\n",
       "      <td>4</td>\n",
       "      <td>5</td>\n",
       "      <td>10</td>\n",
       "      <td>9</td>\n",
       "      <td>7</td>\n",
       "      <td>11</td>\n",
       "      <td>5</td>\n",
       "      <td>9</td>\n",
       "      <td>9</td>\n",
       "      <td>6</td>\n",
       "      <td>2</td>\n",
       "    </tr>\n",
       "    <tr>\n",
       "      <th>충북</th>\n",
       "      <td>0</td>\n",
       "      <td>1</td>\n",
       "      <td>8</td>\n",
       "      <td>5</td>\n",
       "      <td>7</td>\n",
       "      <td>14</td>\n",
       "      <td>11</td>\n",
       "      <td>13</td>\n",
       "      <td>8</td>\n",
       "      <td>15</td>\n",
       "      <td>3</td>\n",
       "      <td>1</td>\n",
       "    </tr>\n",
       "    <tr>\n",
       "      <th>충남</th>\n",
       "      <td>1</td>\n",
       "      <td>0</td>\n",
       "      <td>6</td>\n",
       "      <td>15</td>\n",
       "      <td>21</td>\n",
       "      <td>21</td>\n",
       "      <td>12</td>\n",
       "      <td>13</td>\n",
       "      <td>15</td>\n",
       "      <td>32</td>\n",
       "      <td>10</td>\n",
       "      <td>3</td>\n",
       "    </tr>\n",
       "    <tr>\n",
       "      <th>전북</th>\n",
       "      <td>0</td>\n",
       "      <td>1</td>\n",
       "      <td>5</td>\n",
       "      <td>12</td>\n",
       "      <td>16</td>\n",
       "      <td>14</td>\n",
       "      <td>14</td>\n",
       "      <td>19</td>\n",
       "      <td>16</td>\n",
       "      <td>25</td>\n",
       "      <td>11</td>\n",
       "      <td>2</td>\n",
       "    </tr>\n",
       "    <tr>\n",
       "      <th>전남</th>\n",
       "      <td>0</td>\n",
       "      <td>2</td>\n",
       "      <td>5</td>\n",
       "      <td>17</td>\n",
       "      <td>24</td>\n",
       "      <td>26</td>\n",
       "      <td>17</td>\n",
       "      <td>29</td>\n",
       "      <td>17</td>\n",
       "      <td>34</td>\n",
       "      <td>6</td>\n",
       "      <td>0</td>\n",
       "    </tr>\n",
       "    <tr>\n",
       "      <th>경북</th>\n",
       "      <td>2</td>\n",
       "      <td>1</td>\n",
       "      <td>9</td>\n",
       "      <td>13</td>\n",
       "      <td>21</td>\n",
       "      <td>25</td>\n",
       "      <td>18</td>\n",
       "      <td>28</td>\n",
       "      <td>30</td>\n",
       "      <td>29</td>\n",
       "      <td>9</td>\n",
       "      <td>1</td>\n",
       "    </tr>\n",
       "    <tr>\n",
       "      <th>경남</th>\n",
       "      <td>2</td>\n",
       "      <td>0</td>\n",
       "      <td>7</td>\n",
       "      <td>9</td>\n",
       "      <td>14</td>\n",
       "      <td>23</td>\n",
       "      <td>14</td>\n",
       "      <td>11</td>\n",
       "      <td>12</td>\n",
       "      <td>23</td>\n",
       "      <td>7</td>\n",
       "      <td>4</td>\n",
       "    </tr>\n",
       "    <tr>\n",
       "      <th>제주</th>\n",
       "      <td>0</td>\n",
       "      <td>0</td>\n",
       "      <td>0</td>\n",
       "      <td>5</td>\n",
       "      <td>5</td>\n",
       "      <td>2</td>\n",
       "      <td>3</td>\n",
       "      <td>4</td>\n",
       "      <td>4</td>\n",
       "      <td>3</td>\n",
       "      <td>4</td>\n",
       "      <td>1</td>\n",
       "    </tr>\n",
       "  </tbody>\n",
       "</table>\n",
       "</div>"
      ],
      "text/plain": [
       "0  0시~2시 2시~4시 4시~6시 6시~8시 8시~10시 10시~12시 12시~14시 14시~16시 16시~18시 18시~20시  \\\n",
       "시도                                                                          \n",
       "서울     6     4    14    14      5      10      10      14       6       6   \n",
       "부산     3     1     5     6      6       6       8       5       5       3   \n",
       "대구     1     2     4     6      4       5       5       5       7       0   \n",
       "인천     1     0     3     4      6       4       5       9       7       2   \n",
       "광주     0     1     3     2      4       4       0       4       0       2   \n",
       "대전     1     0     2     4      4       3       3       2       4       2   \n",
       "울산     0     0     2     4      1       3       1       2       0       2   \n",
       "세종     0     0     0     1      0       2       1       1       0       0   \n",
       "경기     5     2    15    26     23      27      22      25      27      26   \n",
       "강원     0     4     5    10      9       7      11       5       9       9   \n",
       "충북     0     1     8     5      7      14      11      13       8      15   \n",
       "충남     1     0     6    15     21      21      12      13      15      32   \n",
       "전북     0     1     5    12     16      14      14      19      16      25   \n",
       "전남     0     2     5    17     24      26      17      29      17      34   \n",
       "경북     2     1     9    13     21      25      18      28      30      29   \n",
       "경남     2     0     7     9     14      23      14      11      12      23   \n",
       "제주     0     0     0     5      5       2       3       4       4       3   \n",
       "\n",
       "0  20시~22시 22시~24시  \n",
       "시도                  \n",
       "서울       8       6  \n",
       "부산       4       1  \n",
       "대구       2       3  \n",
       "인천       5       4  \n",
       "광주       5       0  \n",
       "대전       7       2  \n",
       "울산       1       1  \n",
       "세종       3       0  \n",
       "경기      15       9  \n",
       "강원       6       2  \n",
       "충북       3       1  \n",
       "충남      10       3  \n",
       "전북      11       2  \n",
       "전남       6       0  \n",
       "경북       9       1  \n",
       "경남       7       4  \n",
       "제주       4       1  "
      ]
     },
     "execution_count": 47,
     "metadata": {},
     "output_type": "execute_result"
    }
   ],
   "source": [
    "time_data"
   ]
  },
  {
   "cell_type": "code",
   "execution_count": 48,
   "id": "cd0be0db",
   "metadata": {
    "scrolled": true
   },
   "outputs": [
    {
     "data": {
      "text/html": [
       "<div>\n",
       "<style scoped>\n",
       "    .dataframe tbody tr th:only-of-type {\n",
       "        vertical-align: middle;\n",
       "    }\n",
       "\n",
       "    .dataframe tbody tr th {\n",
       "        vertical-align: top;\n",
       "    }\n",
       "\n",
       "    .dataframe thead th {\n",
       "        text-align: right;\n",
       "    }\n",
       "</style>\n",
       "<table border=\"1\" class=\"dataframe\">\n",
       "  <thead>\n",
       "    <tr style=\"text-align: right;\">\n",
       "      <th></th>\n",
       "      <th>0시~2시</th>\n",
       "      <th>2시~4시</th>\n",
       "      <th>4시~6시</th>\n",
       "      <th>6시~8시</th>\n",
       "      <th>8시~10시</th>\n",
       "      <th>10시~12시</th>\n",
       "      <th>12시~14시</th>\n",
       "      <th>14시~16시</th>\n",
       "      <th>16시~18시</th>\n",
       "      <th>18시~20시</th>\n",
       "      <th>20시~22시</th>\n",
       "      <th>22시~24시</th>\n",
       "    </tr>\n",
       "    <tr>\n",
       "      <th>시도</th>\n",
       "      <th></th>\n",
       "      <th></th>\n",
       "      <th></th>\n",
       "      <th></th>\n",
       "      <th></th>\n",
       "      <th></th>\n",
       "      <th></th>\n",
       "      <th></th>\n",
       "      <th></th>\n",
       "      <th></th>\n",
       "      <th></th>\n",
       "      <th></th>\n",
       "    </tr>\n",
       "  </thead>\n",
       "  <tbody>\n",
       "    <tr>\n",
       "      <th>제주</th>\n",
       "      <td>0</td>\n",
       "      <td>0</td>\n",
       "      <td>0</td>\n",
       "      <td>5</td>\n",
       "      <td>5</td>\n",
       "      <td>2</td>\n",
       "      <td>3</td>\n",
       "      <td>4</td>\n",
       "      <td>4</td>\n",
       "      <td>3</td>\n",
       "      <td>4</td>\n",
       "      <td>1</td>\n",
       "    </tr>\n",
       "    <tr>\n",
       "      <th>전남</th>\n",
       "      <td>0</td>\n",
       "      <td>2</td>\n",
       "      <td>5</td>\n",
       "      <td>17</td>\n",
       "      <td>24</td>\n",
       "      <td>26</td>\n",
       "      <td>17</td>\n",
       "      <td>29</td>\n",
       "      <td>17</td>\n",
       "      <td>34</td>\n",
       "      <td>6</td>\n",
       "      <td>0</td>\n",
       "    </tr>\n",
       "    <tr>\n",
       "      <th>충남</th>\n",
       "      <td>1</td>\n",
       "      <td>0</td>\n",
       "      <td>6</td>\n",
       "      <td>15</td>\n",
       "      <td>21</td>\n",
       "      <td>21</td>\n",
       "      <td>12</td>\n",
       "      <td>13</td>\n",
       "      <td>15</td>\n",
       "      <td>32</td>\n",
       "      <td>10</td>\n",
       "      <td>3</td>\n",
       "    </tr>\n",
       "  </tbody>\n",
       "</table>\n",
       "</div>"
      ],
      "text/plain": [
       "0  0시~2시 2시~4시 4시~6시 6시~8시 8시~10시 10시~12시 12시~14시 14시~16시 16시~18시 18시~20시  \\\n",
       "시도                                                                          \n",
       "제주     0     0     0     5      5       2       3       4       4       3   \n",
       "전남     0     2     5    17     24      26      17      29      17      34   \n",
       "충남     1     0     6    15     21      21      12      13      15      32   \n",
       "\n",
       "0  20시~22시 22시~24시  \n",
       "시도                  \n",
       "제주       4       1  \n",
       "전남       6       0  \n",
       "충남      10       3  "
      ]
     },
     "execution_count": 48,
     "metadata": {},
     "output_type": "execute_result"
    }
   ],
   "source": [
    "Top3data_time = time_data.loc[['제주','전남','충남']]\n",
    "Top3data_time"
   ]
  },
  {
   "cell_type": "code",
   "execution_count": 49,
   "id": "10194f1b",
   "metadata": {},
   "outputs": [],
   "source": [
    "Top3data_time.to_csv('../[0]data/0-5_시간_노인교통사고_사망자수_제주_전남_충남(결과).csv')"
   ]
  },
  {
   "cell_type": "code",
   "execution_count": 50,
   "id": "e9defbc3",
   "metadata": {
    "scrolled": false
   },
   "outputs": [
    {
     "data": {
      "text/plain": [
       "<Figure size 1440x720 with 0 Axes>"
      ]
     },
     "execution_count": 50,
     "metadata": {},
     "output_type": "execute_result"
    },
    {
     "data": {
      "text/plain": [
       "Text(0.5, 1.0, '<시간별 노인 교통사고 사망자수>')"
      ]
     },
     "execution_count": 50,
     "metadata": {},
     "output_type": "execute_result"
    },
    {
     "data": {
      "text/plain": [
       "<BarContainer object of 12 artists>"
      ]
     },
     "execution_count": 50,
     "metadata": {},
     "output_type": "execute_result"
    },
    {
     "data": {
      "text/plain": [
       "<BarContainer object of 12 artists>"
      ]
     },
     "execution_count": 50,
     "metadata": {},
     "output_type": "execute_result"
    },
    {
     "data": {
      "text/plain": [
       "<BarContainer object of 12 artists>"
      ]
     },
     "execution_count": 50,
     "metadata": {},
     "output_type": "execute_result"
    },
    {
     "data": {
      "text/plain": [
       "Text(0.5, 0, '시간별')"
      ]
     },
     "execution_count": 50,
     "metadata": {},
     "output_type": "execute_result"
    },
    {
     "data": {
      "text/plain": [
       "Text(0, 0.5, '')"
      ]
     },
     "execution_count": 50,
     "metadata": {},
     "output_type": "execute_result"
    },
    {
     "data": {
      "text/plain": [
       "([<matplotlib.axis.XTick at 0x7feec0d77d00>,\n",
       "  <matplotlib.axis.XTick at 0x7feec0d77cd0>,\n",
       "  <matplotlib.axis.XTick at 0x7feec0d88760>,\n",
       "  <matplotlib.axis.XTick at 0x7feeaa6ae670>,\n",
       "  <matplotlib.axis.XTick at 0x7feeaa6aeb50>,\n",
       "  <matplotlib.axis.XTick at 0x7feeaa6aefd0>,\n",
       "  <matplotlib.axis.XTick at 0x7feec0f0f370>,\n",
       "  <matplotlib.axis.XTick at 0x7feeaa5e09d0>,\n",
       "  <matplotlib.axis.XTick at 0x7feea8a057f0>,\n",
       "  <matplotlib.axis.XTick at 0x7feec0c33280>,\n",
       "  <matplotlib.axis.XTick at 0x7feec0ee6ee0>,\n",
       "  <matplotlib.axis.XTick at 0x7feec0ee6850>],\n",
       " [Text(0, 0, '0시~2시'),\n",
       "  Text(1, 0, '2시~4시'),\n",
       "  Text(2, 0, '4시~6시'),\n",
       "  Text(3, 0, '6시~8시'),\n",
       "  Text(4, 0, '8시~10시'),\n",
       "  Text(5, 0, '10시~12시'),\n",
       "  Text(6, 0, '12시~14시'),\n",
       "  Text(7, 0, '14시~16시'),\n",
       "  Text(8, 0, '16시~18시'),\n",
       "  Text(9, 0, '18시~20시'),\n",
       "  Text(10, 0, '20시~22시'),\n",
       "  Text(11, 0, '22시~24시')])"
      ]
     },
     "execution_count": 50,
     "metadata": {},
     "output_type": "execute_result"
    },
    {
     "data": {
      "text/plain": [
       "Text(0, 0, '0명')"
      ]
     },
     "execution_count": 50,
     "metadata": {},
     "output_type": "execute_result"
    },
    {
     "data": {
      "text/plain": [
       "Text(1, 0, '0명')"
      ]
     },
     "execution_count": 50,
     "metadata": {},
     "output_type": "execute_result"
    },
    {
     "data": {
      "text/plain": [
       "Text(2, 0, '0명')"
      ]
     },
     "execution_count": 50,
     "metadata": {},
     "output_type": "execute_result"
    },
    {
     "data": {
      "text/plain": [
       "Text(3, 5, '5명')"
      ]
     },
     "execution_count": 50,
     "metadata": {},
     "output_type": "execute_result"
    },
    {
     "data": {
      "text/plain": [
       "Text(4, 5, '5명')"
      ]
     },
     "execution_count": 50,
     "metadata": {},
     "output_type": "execute_result"
    },
    {
     "data": {
      "text/plain": [
       "Text(5, 2, '2명')"
      ]
     },
     "execution_count": 50,
     "metadata": {},
     "output_type": "execute_result"
    },
    {
     "data": {
      "text/plain": [
       "Text(6, 3, '3명')"
      ]
     },
     "execution_count": 50,
     "metadata": {},
     "output_type": "execute_result"
    },
    {
     "data": {
      "text/plain": [
       "Text(7, 4, '4명')"
      ]
     },
     "execution_count": 50,
     "metadata": {},
     "output_type": "execute_result"
    },
    {
     "data": {
      "text/plain": [
       "Text(8, 4, '4명')"
      ]
     },
     "execution_count": 50,
     "metadata": {},
     "output_type": "execute_result"
    },
    {
     "data": {
      "text/plain": [
       "Text(9, 3, '3명')"
      ]
     },
     "execution_count": 50,
     "metadata": {},
     "output_type": "execute_result"
    },
    {
     "data": {
      "text/plain": [
       "Text(10, 4, '4명')"
      ]
     },
     "execution_count": 50,
     "metadata": {},
     "output_type": "execute_result"
    },
    {
     "data": {
      "text/plain": [
       "Text(11, 1, '1명')"
      ]
     },
     "execution_count": 50,
     "metadata": {},
     "output_type": "execute_result"
    },
    {
     "data": {
      "text/plain": [
       "Text(0.2, 0, '0명')"
      ]
     },
     "execution_count": 50,
     "metadata": {},
     "output_type": "execute_result"
    },
    {
     "data": {
      "text/plain": [
       "Text(1.2, 2, '2명')"
      ]
     },
     "execution_count": 50,
     "metadata": {},
     "output_type": "execute_result"
    },
    {
     "data": {
      "text/plain": [
       "Text(2.2, 5, '5명')"
      ]
     },
     "execution_count": 50,
     "metadata": {},
     "output_type": "execute_result"
    },
    {
     "data": {
      "text/plain": [
       "Text(3.2, 17, '17명')"
      ]
     },
     "execution_count": 50,
     "metadata": {},
     "output_type": "execute_result"
    },
    {
     "data": {
      "text/plain": [
       "Text(4.2, 24, '24명')"
      ]
     },
     "execution_count": 50,
     "metadata": {},
     "output_type": "execute_result"
    },
    {
     "data": {
      "text/plain": [
       "Text(5.2, 26, '26명')"
      ]
     },
     "execution_count": 50,
     "metadata": {},
     "output_type": "execute_result"
    },
    {
     "data": {
      "text/plain": [
       "Text(6.2, 17, '17명')"
      ]
     },
     "execution_count": 50,
     "metadata": {},
     "output_type": "execute_result"
    },
    {
     "data": {
      "text/plain": [
       "Text(7.2, 29, '29명')"
      ]
     },
     "execution_count": 50,
     "metadata": {},
     "output_type": "execute_result"
    },
    {
     "data": {
      "text/plain": [
       "Text(8.2, 17, '17명')"
      ]
     },
     "execution_count": 50,
     "metadata": {},
     "output_type": "execute_result"
    },
    {
     "data": {
      "text/plain": [
       "Text(9.2, 34, '34명')"
      ]
     },
     "execution_count": 50,
     "metadata": {},
     "output_type": "execute_result"
    },
    {
     "data": {
      "text/plain": [
       "Text(10.2, 6, '6명')"
      ]
     },
     "execution_count": 50,
     "metadata": {},
     "output_type": "execute_result"
    },
    {
     "data": {
      "text/plain": [
       "Text(11.2, 0, '0명')"
      ]
     },
     "execution_count": 50,
     "metadata": {},
     "output_type": "execute_result"
    },
    {
     "data": {
      "text/plain": [
       "Text(0.4, 1, '1명')"
      ]
     },
     "execution_count": 50,
     "metadata": {},
     "output_type": "execute_result"
    },
    {
     "data": {
      "text/plain": [
       "Text(1.4, 0, '0명')"
      ]
     },
     "execution_count": 50,
     "metadata": {},
     "output_type": "execute_result"
    },
    {
     "data": {
      "text/plain": [
       "Text(2.4, 6, '6명')"
      ]
     },
     "execution_count": 50,
     "metadata": {},
     "output_type": "execute_result"
    },
    {
     "data": {
      "text/plain": [
       "Text(3.4, 15, '15명')"
      ]
     },
     "execution_count": 50,
     "metadata": {},
     "output_type": "execute_result"
    },
    {
     "data": {
      "text/plain": [
       "Text(4.4, 21, '21명')"
      ]
     },
     "execution_count": 50,
     "metadata": {},
     "output_type": "execute_result"
    },
    {
     "data": {
      "text/plain": [
       "Text(5.4, 21, '21명')"
      ]
     },
     "execution_count": 50,
     "metadata": {},
     "output_type": "execute_result"
    },
    {
     "data": {
      "text/plain": [
       "Text(6.4, 12, '12명')"
      ]
     },
     "execution_count": 50,
     "metadata": {},
     "output_type": "execute_result"
    },
    {
     "data": {
      "text/plain": [
       "Text(7.4, 13, '13명')"
      ]
     },
     "execution_count": 50,
     "metadata": {},
     "output_type": "execute_result"
    },
    {
     "data": {
      "text/plain": [
       "Text(8.4, 15, '15명')"
      ]
     },
     "execution_count": 50,
     "metadata": {},
     "output_type": "execute_result"
    },
    {
     "data": {
      "text/plain": [
       "Text(9.4, 32, '32명')"
      ]
     },
     "execution_count": 50,
     "metadata": {},
     "output_type": "execute_result"
    },
    {
     "data": {
      "text/plain": [
       "Text(10.4, 10, '10명')"
      ]
     },
     "execution_count": 50,
     "metadata": {},
     "output_type": "execute_result"
    },
    {
     "data": {
      "text/plain": [
       "Text(11.4, 3, '3명')"
      ]
     },
     "execution_count": 50,
     "metadata": {},
     "output_type": "execute_result"
    },
    {
     "data": {
      "text/plain": [
       "([<matplotlib.axis.XTick at 0x7feec0d77d00>,\n",
       "  <matplotlib.axis.XTick at 0x7feec0d77cd0>,\n",
       "  <matplotlib.axis.XTick at 0x7feec0d88760>,\n",
       "  <matplotlib.axis.XTick at 0x7feeaa6ae670>,\n",
       "  <matplotlib.axis.XTick at 0x7feeaa6aeb50>,\n",
       "  <matplotlib.axis.XTick at 0x7feeaa6aefd0>,\n",
       "  <matplotlib.axis.XTick at 0x7feec0f0f370>,\n",
       "  <matplotlib.axis.XTick at 0x7feeaa5e09d0>,\n",
       "  <matplotlib.axis.XTick at 0x7feea8a057f0>,\n",
       "  <matplotlib.axis.XTick at 0x7feec0c33280>,\n",
       "  <matplotlib.axis.XTick at 0x7feec0ee6ee0>,\n",
       "  <matplotlib.axis.XTick at 0x7feec0ee6850>],\n",
       " [Text(0.30000000000000004, 0, '0시~2시'),\n",
       "  Text(1.3, 0, '2시~4시'),\n",
       "  Text(2.3000000000000003, 0, '4시~6시'),\n",
       "  Text(3.3000000000000003, 0, '6시~8시'),\n",
       "  Text(4.3, 0, '8시~10시'),\n",
       "  Text(5.3, 0, '10시~12시'),\n",
       "  Text(6.3, 0, '12시~14시'),\n",
       "  Text(7.3, 0, '14시~16시'),\n",
       "  Text(8.299999999999999, 0, '16시~18시'),\n",
       "  Text(9.299999999999999, 0, '18시~20시'),\n",
       "  Text(10.299999999999999, 0, '20시~22시'),\n",
       "  Text(11.299999999999999, 0, '22시~24시')])"
      ]
     },
     "execution_count": 50,
     "metadata": {},
     "output_type": "execute_result"
    },
    {
     "data": {
      "text/plain": [
       "<matplotlib.legend.Legend at 0x7feec0cbde20>"
      ]
     },
     "execution_count": 50,
     "metadata": {},
     "output_type": "execute_result"
    },
    {
     "data": {
      "image/png": "[encoded data removed]",
      "text/plain": [
       "<Figure size 1440x720 with 1 Axes>"
      ]
     },
     "metadata": {
      "needs_background": "light"
     },
     "output_type": "display_data"
    }
   ],
   "source": [
    "plt.figure(figsize=(20,10))\n",
    "\n",
    "n_data=len(Top3data_time.T) # 12\n",
    "index=np.arange(n_data) # 배열\n",
    "\n",
    "barWidth = 0.2\n",
    "\n",
    "plt.title('<시간별 노인 교통사고 사망자수>',fontsize=20,pad=30,fontweight=\"bold\")\n",
    "\n",
    "x = range(0,len(Top3data_time.columns))\n",
    "\n",
    "plt.bar(index, Top3data_time.T['제주'], color='#5B85D9', width=barWidth, edgecolor='white', label='제주',alpha=0.8)\n",
    "plt.bar(index+barWidth, Top3data_time.T['전남'], color='#F2C335', width=barWidth, edgecolor='white', label='전남',alpha=0.8)\n",
    "plt.bar(index+barWidth+barWidth, Top3data_time.T['충남'], color='#F25050', width=barWidth, edgecolor='white', label='충남',alpha=0.8)\n",
    " \n",
    "plt.grid(True, axis='y', alpha=0.4)    \n",
    "    \n",
    "plt.xlabel('시간별',labelpad=20,fontsize=15, fontweight='bold')\n",
    "plt.ylabel('',labelpad=15,fontsize=15)\n",
    "    \n",
    "plt.xticks(index, Top3data_time.T.index)\n",
    "\n",
    "\n",
    "for i, v in enumerate(x):\n",
    "    plt.text(v, Top3data_time.T['제주'].values[i], str(Top3data_time.T['제주'][i])+'명',                 \n",
    "             fontsize = 11, \n",
    "             color='black',\n",
    "             horizontalalignment='center',\n",
    "             verticalalignment='bottom')\n",
    "\n",
    "for i, v in enumerate(x):\n",
    "    plt.text(v+0.2, Top3data_time.T['전남'].values[i], str(Top3data_time.T['전남'][i])+'명',                 \n",
    "             fontsize = 11, \n",
    "             color='black',\n",
    "             horizontalalignment='center',\n",
    "             verticalalignment='bottom')\n",
    "\n",
    "for i, v in enumerate(x):\n",
    "    plt.text(v+0.4, Top3data_time.T['충남'].values[i], str(Top3data_time.T['충남'][i])+'명',                 \n",
    "             fontsize = 11, \n",
    "             color='black',\n",
    "             horizontalalignment='center',\n",
    "             verticalalignment='bottom')\n",
    "\n",
    "\n",
    "plt.xticks(index+barWidth+0.1, Top3data_time.T.index)\n",
    "plt.legend()\n",
    "\n",
    "plt.show()"
   ]
  }
 ],
 "metadata": {
  "kernelspec": {
   "display_name": "Python 3",
   "language": "python",
   "name": "python3"
  },
  "language_info": {
   "codemirror_mode": {
    "name": "ipython",
    "version": 3
   },
   "file_extension": ".py",
   "mimetype": "text/x-python",
   "name": "python",
   "nbconvert_exporter": "python",
   "pygments_lexer": "ipython3",
   "version": "3.8.8"
  }
 },
 "nbformat": 4,
 "nbformat_minor": 5
}
