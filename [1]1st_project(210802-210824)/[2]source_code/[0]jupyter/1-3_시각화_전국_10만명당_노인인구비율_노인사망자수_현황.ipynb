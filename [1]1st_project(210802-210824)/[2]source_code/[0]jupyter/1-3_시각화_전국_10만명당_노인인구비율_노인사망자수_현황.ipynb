{
 "cells": [
  {
   "cell_type": "code",
   "execution_count": 2,
   "id": "c7a8c1c7",
   "metadata": {},
   "outputs": [],
   "source": [
    "import pandas as pd\n",
    "import numpy as np\n",
    "import matplotlib.pyplot as plt\n",
    "\n",
    "# 전체 코드 출력\n",
    "from IPython.core.interactiveshell import InteractiveShell\n",
    "InteractiveShell.ast_node_interactivity=\"all\""
   ]
  },
  {
   "cell_type": "code",
   "execution_count": 3,
   "id": "579fbc50",
   "metadata": {},
   "outputs": [],
   "source": [
    "# 한글 문제\n",
    "# matplotlit의 기본 폰트에서 한글 지원되지 않기 때문에\n",
    "# matplotlib의 폰트 변경 필요\n",
    "import platform\n",
    "\n",
    "from matplotlib import font_manager, rc\n",
    "plt.rcParams['axes.unicode_minus'] = False\n",
    "\n",
    "if platform.system() == 'Darwin':  # 맥OS \n",
    "    rc('font', family='AppleGothic')\n",
    "elif platform.system() == 'Windows':  # 윈도우\n",
    "    path = \"c:/Windows/Fonts/malgun.ttf\"\n",
    "    font_name = font_manager.FontProperties(fname=path).get_name()\n",
    "    rc('font', family=font_name)\n",
    "else:\n",
    "    print('Unknown system...  sorry~~~')"
   ]
  },
  {
   "cell_type": "code",
   "execution_count": 4,
   "id": "8157fcb8",
   "metadata": {},
   "outputs": [],
   "source": [
    "kor19_data = pd.read_csv('../[0]data/1_시도별고령자수_노인인구+비율(결과).csv',index_col=0)\n",
    "kor19_data=kor19_data.sort_values(by=\"10만명당 노인사망자수\",ascending=False)"
   ]
  },
  {
   "cell_type": "code",
   "execution_count": 5,
   "id": "3682ff7d",
   "metadata": {},
   "outputs": [
    {
     "data": {
      "text/html": [
       "<div>\n",
       "<style scoped>\n",
       "    .dataframe tbody tr th:only-of-type {\n",
       "        vertical-align: middle;\n",
       "    }\n",
       "\n",
       "    .dataframe tbody tr th {\n",
       "        vertical-align: top;\n",
       "    }\n",
       "\n",
       "    .dataframe thead th {\n",
       "        text-align: right;\n",
       "    }\n",
       "</style>\n",
       "<table border=\"1\" class=\"dataframe\">\n",
       "  <thead>\n",
       "    <tr style=\"text-align: right;\">\n",
       "      <th></th>\n",
       "      <th>65세이상</th>\n",
       "      <th>지자체인구</th>\n",
       "      <th>노인인구비율</th>\n",
       "      <th>사망자 수</th>\n",
       "      <th>10만명당 노인사망자수</th>\n",
       "    </tr>\n",
       "    <tr>\n",
       "      <th>시도</th>\n",
       "      <th></th>\n",
       "      <th></th>\n",
       "      <th></th>\n",
       "      <th></th>\n",
       "      <th></th>\n",
       "    </tr>\n",
       "  </thead>\n",
       "  <tbody>\n",
       "    <tr>\n",
       "      <th>제주</th>\n",
       "      <td>100397</td>\n",
       "      <td>670989</td>\n",
       "      <td>14.96</td>\n",
       "      <td>17</td>\n",
       "      <td>17.0</td>\n",
       "    </tr>\n",
       "    <tr>\n",
       "      <th>충남</th>\n",
       "      <td>386674</td>\n",
       "      <td>2123709</td>\n",
       "      <td>18.21</td>\n",
       "      <td>57</td>\n",
       "      <td>15.0</td>\n",
       "    </tr>\n",
       "    <tr>\n",
       "      <th>전남</th>\n",
       "      <td>422548</td>\n",
       "      <td>1868745</td>\n",
       "      <td>22.61</td>\n",
       "      <td>61</td>\n",
       "      <td>14.0</td>\n",
       "    </tr>\n",
       "    <tr>\n",
       "      <th>충북</th>\n",
       "      <td>273425</td>\n",
       "      <td>1600007</td>\n",
       "      <td>17.09</td>\n",
       "      <td>37</td>\n",
       "      <td>14.0</td>\n",
       "    </tr>\n",
       "    <tr>\n",
       "      <th>경남</th>\n",
       "      <td>548257</td>\n",
       "      <td>3362553</td>\n",
       "      <td>16.30</td>\n",
       "      <td>69</td>\n",
       "      <td>13.0</td>\n",
       "    </tr>\n",
       "    <tr>\n",
       "      <th>경북</th>\n",
       "      <td>549415</td>\n",
       "      <td>2665836</td>\n",
       "      <td>20.61</td>\n",
       "      <td>74</td>\n",
       "      <td>13.0</td>\n",
       "    </tr>\n",
       "    <tr>\n",
       "      <th>전북</th>\n",
       "      <td>370676</td>\n",
       "      <td>1818917</td>\n",
       "      <td>20.38</td>\n",
       "      <td>50</td>\n",
       "      <td>13.0</td>\n",
       "    </tr>\n",
       "    <tr>\n",
       "      <th>강원</th>\n",
       "      <td>302886</td>\n",
       "      <td>1541502</td>\n",
       "      <td>19.65</td>\n",
       "      <td>39</td>\n",
       "      <td>13.0</td>\n",
       "    </tr>\n",
       "    <tr>\n",
       "      <th>대전</th>\n",
       "      <td>198691</td>\n",
       "      <td>1474870</td>\n",
       "      <td>13.47</td>\n",
       "      <td>21</td>\n",
       "      <td>11.0</td>\n",
       "    </tr>\n",
       "    <tr>\n",
       "      <th>광주</th>\n",
       "      <td>195479</td>\n",
       "      <td>1456468</td>\n",
       "      <td>13.42</td>\n",
       "      <td>21</td>\n",
       "      <td>11.0</td>\n",
       "    </tr>\n",
       "    <tr>\n",
       "      <th>대구</th>\n",
       "      <td>379277</td>\n",
       "      <td>2438031</td>\n",
       "      <td>15.56</td>\n",
       "      <td>26</td>\n",
       "      <td>7.0</td>\n",
       "    </tr>\n",
       "    <tr>\n",
       "      <th>인천</th>\n",
       "      <td>384548</td>\n",
       "      <td>2957026</td>\n",
       "      <td>13.00</td>\n",
       "      <td>28</td>\n",
       "      <td>7.0</td>\n",
       "    </tr>\n",
       "    <tr>\n",
       "      <th>경기</th>\n",
       "      <td>1651341</td>\n",
       "      <td>13239666</td>\n",
       "      <td>12.47</td>\n",
       "      <td>115</td>\n",
       "      <td>7.0</td>\n",
       "    </tr>\n",
       "    <tr>\n",
       "      <th>부산</th>\n",
       "      <td>620123</td>\n",
       "      <td>3413841</td>\n",
       "      <td>18.16</td>\n",
       "      <td>36</td>\n",
       "      <td>6.0</td>\n",
       "    </tr>\n",
       "    <tr>\n",
       "      <th>서울</th>\n",
       "      <td>1478664</td>\n",
       "      <td>9729107</td>\n",
       "      <td>15.20</td>\n",
       "      <td>71</td>\n",
       "      <td>5.0</td>\n",
       "    </tr>\n",
       "    <tr>\n",
       "      <th>울산</th>\n",
       "      <td>132565</td>\n",
       "      <td>1148019</td>\n",
       "      <td>11.55</td>\n",
       "      <td>7</td>\n",
       "      <td>5.0</td>\n",
       "    </tr>\n",
       "    <tr>\n",
       "      <th>세종</th>\n",
       "      <td>31949</td>\n",
       "      <td>340575</td>\n",
       "      <td>9.38</td>\n",
       "      <td>1</td>\n",
       "      <td>3.0</td>\n",
       "    </tr>\n",
       "  </tbody>\n",
       "</table>\n",
       "</div>"
      ],
      "text/plain": [
       "      65세이상     지자체인구  노인인구비율  사망자 수  10만명당 노인사망자수\n",
       "시도                                                \n",
       "제주   100397    670989   14.96     17          17.0\n",
       "충남   386674   2123709   18.21     57          15.0\n",
       "전남   422548   1868745   22.61     61          14.0\n",
       "충북   273425   1600007   17.09     37          14.0\n",
       "경남   548257   3362553   16.30     69          13.0\n",
       "경북   549415   2665836   20.61     74          13.0\n",
       "전북   370676   1818917   20.38     50          13.0\n",
       "강원   302886   1541502   19.65     39          13.0\n",
       "대전   198691   1474870   13.47     21          11.0\n",
       "광주   195479   1456468   13.42     21          11.0\n",
       "대구   379277   2438031   15.56     26           7.0\n",
       "인천   384548   2957026   13.00     28           7.0\n",
       "경기  1651341  13239666   12.47    115           7.0\n",
       "부산   620123   3413841   18.16     36           6.0\n",
       "서울  1478664   9729107   15.20     71           5.0\n",
       "울산   132565   1148019   11.55      7           5.0\n",
       "세종    31949    340575    9.38      1           3.0"
      ]
     },
     "execution_count": 5,
     "metadata": {},
     "output_type": "execute_result"
    }
   ],
   "source": [
    "kor19_data"
   ]
  },
  {
   "cell_type": "code",
   "execution_count": 6,
   "id": "57a79465",
   "metadata": {},
   "outputs": [],
   "source": [
    "kor19_data_top3 = kor19_data.loc[['제주','전남','충남']]"
   ]
  },
  {
   "cell_type": "code",
   "execution_count": 7,
   "id": "4cdb0f9f",
   "metadata": {},
   "outputs": [],
   "source": [
    "kor19_data_top3 = kor19_data_top3.sort_values(by=\"10만명당 노인사망자수\",ascending=False)"
   ]
  },
  {
   "cell_type": "code",
   "execution_count": 8,
   "id": "08a20f2e",
   "metadata": {},
   "outputs": [
    {
     "data": {
      "text/html": [
       "<div>\n",
       "<style scoped>\n",
       "    .dataframe tbody tr th:only-of-type {\n",
       "        vertical-align: middle;\n",
       "    }\n",
       "\n",
       "    .dataframe tbody tr th {\n",
       "        vertical-align: top;\n",
       "    }\n",
       "\n",
       "    .dataframe thead th {\n",
       "        text-align: right;\n",
       "    }\n",
       "</style>\n",
       "<table border=\"1\" class=\"dataframe\">\n",
       "  <thead>\n",
       "    <tr style=\"text-align: right;\">\n",
       "      <th></th>\n",
       "      <th>65세이상</th>\n",
       "      <th>지자체인구</th>\n",
       "      <th>노인인구비율</th>\n",
       "      <th>사망자 수</th>\n",
       "      <th>10만명당 노인사망자수</th>\n",
       "    </tr>\n",
       "    <tr>\n",
       "      <th>시도</th>\n",
       "      <th></th>\n",
       "      <th></th>\n",
       "      <th></th>\n",
       "      <th></th>\n",
       "      <th></th>\n",
       "    </tr>\n",
       "  </thead>\n",
       "  <tbody>\n",
       "    <tr>\n",
       "      <th>제주</th>\n",
       "      <td>100397</td>\n",
       "      <td>670989</td>\n",
       "      <td>14.96</td>\n",
       "      <td>17</td>\n",
       "      <td>17.0</td>\n",
       "    </tr>\n",
       "    <tr>\n",
       "      <th>충남</th>\n",
       "      <td>386674</td>\n",
       "      <td>2123709</td>\n",
       "      <td>18.21</td>\n",
       "      <td>57</td>\n",
       "      <td>15.0</td>\n",
       "    </tr>\n",
       "    <tr>\n",
       "      <th>전남</th>\n",
       "      <td>422548</td>\n",
       "      <td>1868745</td>\n",
       "      <td>22.61</td>\n",
       "      <td>61</td>\n",
       "      <td>14.0</td>\n",
       "    </tr>\n",
       "  </tbody>\n",
       "</table>\n",
       "</div>"
      ],
      "text/plain": [
       "     65세이상    지자체인구  노인인구비율  사망자 수  10만명당 노인사망자수\n",
       "시도                                              \n",
       "제주  100397   670989   14.96     17          17.0\n",
       "충남  386674  2123709   18.21     57          15.0\n",
       "전남  422548  1868745   22.61     61          14.0"
      ]
     },
     "execution_count": 8,
     "metadata": {},
     "output_type": "execute_result"
    }
   ],
   "source": [
    "kor19_data_top3 "
   ]
  },
  {
   "cell_type": "code",
   "execution_count": 9,
   "id": "d8f71f36",
   "metadata": {},
   "outputs": [
    {
     "data": {
      "text/plain": [
       "<Figure size 720x720 with 0 Axes>"
      ]
     },
     "execution_count": 9,
     "metadata": {},
     "output_type": "execute_result"
    },
    {
     "data": {
      "text/plain": [
       "<BarContainer object of 17 artists>"
      ]
     },
     "execution_count": 9,
     "metadata": {},
     "output_type": "execute_result"
    },
    {
     "data": {
      "text/plain": [
       "Text(0.5, 1.0, '<시도별 노인인구>')"
      ]
     },
     "execution_count": 9,
     "metadata": {},
     "output_type": "execute_result"
    },
    {
     "data": {
      "text/plain": [
       "Text(0.5, 0, '시도')"
      ]
     },
     "execution_count": 9,
     "metadata": {},
     "output_type": "execute_result"
    },
    {
     "data": {
      "text/plain": [
       "Text(0, 0.5, '노인인구')"
      ]
     },
     "execution_count": 9,
     "metadata": {},
     "output_type": "execute_result"
    },
    {
     "data": {
      "image/png": "[encoded data removed]",
      "text/plain": [
       "<Figure size 720x720 with 1 Axes>"
      ]
     },
     "metadata": {
      "needs_background": "light"
     },
     "output_type": "display_data"
    }
   ],
   "source": [
    "kor19_data2 = kor19_data.sort_values(by='65세이상')\n",
    "\n",
    "plt.figure(figsize=(10,10))\n",
    "plt.bar(kor19_data2.index, kor19_data2['65세이상'],color='hotpink',alpha=0.7)\n",
    "plt.title('<시도별 노인인구>',fontsize=20,pad=30,fontweight=\"bold\")\n",
    "plt.grid(True,axis='y')\n",
    "plt.xlabel('시도',labelpad=20,fontsize=15)\n",
    "plt.ylabel('노인인구',labelpad=20,fontsize=15)\n",
    "plt.show()"
   ]
  },
  {
   "cell_type": "code",
   "execution_count": 16,
   "id": "d22799cc",
   "metadata": {
    "scrolled": false
   },
   "outputs": [
    {
     "data": {
      "text/plain": [
       "<Figure size 1440x720 with 0 Axes>"
      ]
     },
     "execution_count": 16,
     "metadata": {},
     "output_type": "execute_result"
    },
    {
     "data": {
      "text/plain": [
       "Text(0.5, 1.0, '<노인인구비율과 10만명 당 노인 교통사고 사망자수>')"
      ]
     },
     "execution_count": 16,
     "metadata": {},
     "output_type": "execute_result"
    },
    {
     "data": {
      "text/plain": [
       "<BarContainer object of 17 artists>"
      ]
     },
     "execution_count": 16,
     "metadata": {},
     "output_type": "execute_result"
    },
    {
     "data": {
      "text/plain": [
       "<BarContainer object of 17 artists>"
      ]
     },
     "execution_count": 16,
     "metadata": {},
     "output_type": "execute_result"
    },
    {
     "data": {
      "text/plain": [
       "Text(0.5, 0, '시/도')"
      ]
     },
     "execution_count": 16,
     "metadata": {},
     "output_type": "execute_result"
    },
    {
     "data": {
      "text/plain": [
       "Text(0, 0.5, '')"
      ]
     },
     "execution_count": 16,
     "metadata": {},
     "output_type": "execute_result"
    },
    {
     "data": {
      "text/plain": [
       "([<matplotlib.axis.XTick at 0x7fc580cd83a0>,\n",
       "  <matplotlib.axis.XTick at 0x7fc580cd8370>,\n",
       "  <matplotlib.axis.XTick at 0x7fc580ce03a0>,\n",
       "  <matplotlib.axis.XTick at 0x7fc5a2e11490>,\n",
       "  <matplotlib.axis.XTick at 0x7fc5a2e119a0>,\n",
       "  <matplotlib.axis.XTick at 0x7fc5a2e11eb0>,\n",
       "  <matplotlib.axis.XTick at 0x7fc5a2e15400>,\n",
       "  <matplotlib.axis.XTick at 0x7fc5a2e15910>,\n",
       "  <matplotlib.axis.XTick at 0x7fc5a2e114f0>,\n",
       "  <matplotlib.axis.XTick at 0x7fc5a2e15070>,\n",
       "  <matplotlib.axis.XTick at 0x7fc5a2e15fd0>,\n",
       "  <matplotlib.axis.XTick at 0x7fc5a2e21520>,\n",
       "  <matplotlib.axis.XTick at 0x7fc5a2e21a30>,\n",
       "  <matplotlib.axis.XTick at 0x7fc5a2e21f70>,\n",
       "  <matplotlib.axis.XTick at 0x7fc5a2e284c0>,\n",
       "  <matplotlib.axis.XTick at 0x7fc5a2e289d0>,\n",
       "  <matplotlib.axis.XTick at 0x7fc5a2e28ee0>],\n",
       " [Text(0.4, 0, '제주'),\n",
       "  Text(1.4, 0, '충남'),\n",
       "  Text(2.4, 0, '전남'),\n",
       "  Text(3.4, 0, '충북'),\n",
       "  Text(4.4, 0, '경남'),\n",
       "  Text(5.4, 0, '경북'),\n",
       "  Text(6.4, 0, '전북'),\n",
       "  Text(7.4, 0, '강원'),\n",
       "  Text(8.4, 0, '대전'),\n",
       "  Text(9.4, 0, '광주'),\n",
       "  Text(10.4, 0, '대구'),\n",
       "  Text(11.4, 0, '인천'),\n",
       "  Text(12.4, 0, '경기'),\n",
       "  Text(13.4, 0, '부산'),\n",
       "  Text(14.4, 0, '서울'),\n",
       "  Text(15.4, 0, '울산'),\n",
       "  Text(16.4, 0, '세종')])"
      ]
     },
     "execution_count": 16,
     "metadata": {},
     "output_type": "execute_result"
    },
    {
     "data": {
      "text/plain": [
       "<matplotlib.legend.Legend at 0x7fc5a2e21c10>"
      ]
     },
     "execution_count": 16,
     "metadata": {},
     "output_type": "execute_result"
    },
    {
     "data": {
      "image/png": "[encoded data removed]",
      "text/plain": [
       "<Figure size 1440x720 with 1 Axes>"
      ]
     },
     "metadata": {
      "needs_background": "light"
     },
     "output_type": "display_data"
    }
   ],
   "source": [
    "# 막대 그래프 bar(x, y, color = , alpha = )\n",
    "# 변수 kor19_data\n",
    "\n",
    "n_data=len(kor19_data)\n",
    "index=np.arange(n_data)\n",
    "barWidth = 0.4\n",
    "\n",
    "plt.figure(figsize=(20,10))\n",
    "plt.title('<노인인구비율과 10만명 당 노인 교통사고 사망자수>',fontsize=20,pad=30,fontweight=\"bold\")\n",
    "\n",
    "plt.bar(index,kor19_data['노인인구비율'], color='#ef9a9a', align='edge', width=barWidth, label='노인인구 비율(%)',alpha=0.8)\n",
    "plt.bar(index+barWidth,kor19_data['10만명당 노인사망자수'], color='#ff1744',align='edge', width=barWidth, label='10만명당 노인교통사망자 수',alpha=0.8)\n",
    "plt.grid(True,axis='y')\n",
    "\n",
    "plt.xlabel('시/도',labelpad=20,fontsize=15)\n",
    "plt.ylabel('',labelpad=15,fontsize=15)\n",
    "\n",
    "plt.xticks(index+barWidth, kor19_data.index)\n",
    "plt.legend()\n",
    "\n",
    "\n",
    "plt.savefig('../[0]data/1-3-1_시각화_노인인구비율과_10만명당_노인_사망자수(결과).png')\n",
    "plt.show()"
   ]
  },
  {
   "cell_type": "code",
   "execution_count": 18,
   "id": "6c1de059",
   "metadata": {},
   "outputs": [
    {
     "data": {
      "text/plain": [
       "<Figure size 720x720 with 0 Axes>"
      ]
     },
     "execution_count": 18,
     "metadata": {},
     "output_type": "execute_result"
    },
    {
     "data": {
      "text/plain": [
       "Text(0.5, 1.0, '<10만명 당 노인교통사망자수가 가장 높은 지역 3곳>')"
      ]
     },
     "execution_count": 18,
     "metadata": {},
     "output_type": "execute_result"
    },
    {
     "data": {
      "text/plain": [
       "<BarContainer object of 3 artists>"
      ]
     },
     "execution_count": 18,
     "metadata": {},
     "output_type": "execute_result"
    },
    {
     "data": {
      "text/plain": [
       "<BarContainer object of 3 artists>"
      ]
     },
     "execution_count": 18,
     "metadata": {},
     "output_type": "execute_result"
    },
    {
     "data": {
      "text/plain": [
       "([<matplotlib.axis.XTick at 0x7fc580d102e0>,\n",
       "  <matplotlib.axis.XTick at 0x7fc580d102b0>,\n",
       "  <matplotlib.axis.XTick at 0x7fc580d0aaf0>],\n",
       " [Text(0.25, 0, '제주'), Text(1.25, 0, '충남'), Text(2.25, 0, '전남')])"
      ]
     },
     "execution_count": 18,
     "metadata": {},
     "output_type": "execute_result"
    },
    {
     "data": {
      "text/plain": [
       "<matplotlib.legend.Legend at 0x7fc5907618b0>"
      ]
     },
     "execution_count": 18,
     "metadata": {},
     "output_type": "execute_result"
    },
    {
     "data": {
      "image/png": "[encoded data removed]",
      "text/plain": [
       "<Figure size 720x720 with 1 Axes>"
      ]
     },
     "metadata": {
      "needs_background": "light"
     },
     "output_type": "display_data"
    }
   ],
   "source": [
    "n_data=len(kor19_data_top3)\n",
    "index=np.arange(n_data)\n",
    "barWidth = 0.25\n",
    "\n",
    "plt.figure(figsize=(10,10))\n",
    "plt.title('<10만명 당 노인교통사망자수가 가장 높은 지역 3곳>',fontsize=20,pad=30,fontweight=\"bold\")\n",
    "\n",
    "plt.bar(index,kor19_data_top3['노인인구비율'], color='#ef9a9a', align='edge', width=barWidth, label='노인인구 비율(%)',alpha=0.8)\n",
    "plt.bar(index+barWidth,kor19_data_top3['10만명당 노인사망자수'], color='#ff1744',align='edge', width=barWidth, label='10만명당 사망자수',alpha=0.8)\n",
    "plt.grid(True,axis='y')\n",
    "\n",
    "plt.xticks(index+barWidth, kor19_data_top3.index)\n",
    "plt.legend()\n",
    "\n",
    "\n",
    "plt.savefig('../[0]data/1-3-2_시각화_10만명당_노인_교통사망자수_가장높은지역_3곳(결과).png')\n",
    "plt.show()"
   ]
  }
 ],
 "metadata": {
  "kernelspec": {
   "display_name": "Python 3",
   "language": "python",
   "name": "python3"
  },
  "language_info": {
   "codemirror_mode": {
    "name": "ipython",
    "version": 3
   },
   "file_extension": ".py",
   "mimetype": "text/x-python",
   "name": "python",
   "nbconvert_exporter": "python",
   "pygments_lexer": "ipython3",
   "version": "3.8.8"
  }
 },
 "nbformat": 4,
 "nbformat_minor": 5
}
