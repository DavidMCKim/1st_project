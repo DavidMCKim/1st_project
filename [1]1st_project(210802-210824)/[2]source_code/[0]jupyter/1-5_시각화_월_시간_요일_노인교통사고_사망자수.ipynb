{
 "cells": [
  {
   "cell_type": "code",
   "execution_count": 1,
   "id": "923d59fb",
   "metadata": {},
   "outputs": [],
   "source": [
    "import pandas as pd\n",
    "import numpy as np\n",
    "import matplotlib.pyplot as plt\n",
    "from tqdm import tqdm_notebook\n",
    "\n",
    "# 전체 코드 출력\n",
    "from IPython.core.interactiveshell import InteractiveShell\n",
    "InteractiveShell.ast_node_interactivity=\"all\""
   ]
  },
  {
   "cell_type": "code",
   "execution_count": 2,
   "id": "ff21a4a2",
   "metadata": {},
   "outputs": [],
   "source": [
    "# 한글 문제\n",
    "# matplotlit의 기본 폰트에서 한글 지원되지 않기 때문에\n",
    "# matplotlib의 폰트 변경 필요\n",
    "import platform\n",
    "\n",
    "from matplotlib import font_manager, rc\n",
    "plt.rcParams['axes.unicode_minus'] = False\n",
    "\n",
    "if platform.system() == 'Darwin':  # 맥OS \n",
    "    rc('font', family='AppleGothic')\n",
    "elif platform.system() == 'Windows':  # 윈도우\n",
    "    path = \"c:/Windows/Fonts/malgun.ttf\"\n",
    "    font_name = font_manager.FontProperties(fname=path).get_name()\n",
    "    rc('font', family=font_name)\n",
    "else:\n",
    "    print('Unknown system...  sorry~~~')"
   ]
  },
  {
   "cell_type": "markdown",
   "id": "dce3b922",
   "metadata": {},
   "source": [
    "### 요일별 노인교통사고 사망자수 "
   ]
  },
  {
   "cell_type": "code",
   "execution_count": 3,
   "id": "112a1974",
   "metadata": {},
   "outputs": [
    {
     "data": {
      "text/html": [
       "<div>\n",
       "<style scoped>\n",
       "    .dataframe tbody tr th:only-of-type {\n",
       "        vertical-align: middle;\n",
       "    }\n",
       "\n",
       "    .dataframe tbody tr th {\n",
       "        vertical-align: top;\n",
       "    }\n",
       "\n",
       "    .dataframe thead th {\n",
       "        text-align: right;\n",
       "    }\n",
       "</style>\n",
       "<table border=\"1\" class=\"dataframe\">\n",
       "  <thead>\n",
       "    <tr style=\"text-align: right;\">\n",
       "      <th></th>\n",
       "      <th>일</th>\n",
       "      <th>월</th>\n",
       "      <th>화</th>\n",
       "      <th>수</th>\n",
       "      <th>목</th>\n",
       "      <th>금</th>\n",
       "      <th>토</th>\n",
       "    </tr>\n",
       "    <tr>\n",
       "      <th>시도</th>\n",
       "      <th></th>\n",
       "      <th></th>\n",
       "      <th></th>\n",
       "      <th></th>\n",
       "      <th></th>\n",
       "      <th></th>\n",
       "      <th></th>\n",
       "    </tr>\n",
       "  </thead>\n",
       "  <tbody>\n",
       "    <tr>\n",
       "      <th>제주</th>\n",
       "      <td>2</td>\n",
       "      <td>8</td>\n",
       "      <td>6</td>\n",
       "      <td>3</td>\n",
       "      <td>5</td>\n",
       "      <td>7</td>\n",
       "      <td>0</td>\n",
       "    </tr>\n",
       "    <tr>\n",
       "      <th>전남</th>\n",
       "      <td>16</td>\n",
       "      <td>32</td>\n",
       "      <td>15</td>\n",
       "      <td>29</td>\n",
       "      <td>30</td>\n",
       "      <td>29</td>\n",
       "      <td>26</td>\n",
       "    </tr>\n",
       "    <tr>\n",
       "      <th>충남</th>\n",
       "      <td>14</td>\n",
       "      <td>31</td>\n",
       "      <td>25</td>\n",
       "      <td>20</td>\n",
       "      <td>23</td>\n",
       "      <td>23</td>\n",
       "      <td>13</td>\n",
       "    </tr>\n",
       "  </tbody>\n",
       "</table>\n",
       "</div>"
      ],
      "text/plain": [
       "     일   월   화   수   목   금   토\n",
       "시도                            \n",
       "제주   2   8   6   3   5   7   0\n",
       "전남  16  32  15  29  30  29  26\n",
       "충남  14  31  25  20  23  23  13"
      ]
     },
     "execution_count": 3,
     "metadata": {},
     "output_type": "execute_result"
    }
   ],
   "source": [
    "Top3data_day=pd.read_csv('../[0]data/0-5_요일_노인교통사고_사망자수_제주_전남_충남(결과).csv',index_col=0)\n",
    "Top3data_day"
   ]
  },
  {
   "cell_type": "code",
   "execution_count": 12,
   "id": "fea54554",
   "metadata": {},
   "outputs": [
    {
     "data": {
      "text/plain": [
       "<Figure size 720x576 with 0 Axes>"
      ]
     },
     "execution_count": 12,
     "metadata": {},
     "output_type": "execute_result"
    },
    {
     "data": {
      "text/plain": [
       "Text(0.5, 1.0, '<요일별 노인 교통사고 사망자수>')"
      ]
     },
     "execution_count": 12,
     "metadata": {},
     "output_type": "execute_result"
    },
    {
     "data": {
      "text/plain": [
       "<BarContainer object of 7 artists>"
      ]
     },
     "execution_count": 12,
     "metadata": {},
     "output_type": "execute_result"
    },
    {
     "data": {
      "text/plain": [
       "<BarContainer object of 7 artists>"
      ]
     },
     "execution_count": 12,
     "metadata": {},
     "output_type": "execute_result"
    },
    {
     "data": {
      "text/plain": [
       "<BarContainer object of 7 artists>"
      ]
     },
     "execution_count": 12,
     "metadata": {},
     "output_type": "execute_result"
    },
    {
     "data": {
      "text/plain": [
       "Text(0.1, 2, '2명')"
      ]
     },
     "execution_count": 12,
     "metadata": {},
     "output_type": "execute_result"
    },
    {
     "data": {
      "text/plain": [
       "Text(1.1, 8, '8명')"
      ]
     },
     "execution_count": 12,
     "metadata": {},
     "output_type": "execute_result"
    },
    {
     "data": {
      "text/plain": [
       "Text(2.1, 6, '6명')"
      ]
     },
     "execution_count": 12,
     "metadata": {},
     "output_type": "execute_result"
    },
    {
     "data": {
      "text/plain": [
       "Text(3.1, 3, '3명')"
      ]
     },
     "execution_count": 12,
     "metadata": {},
     "output_type": "execute_result"
    },
    {
     "data": {
      "text/plain": [
       "Text(4.1, 5, '5명')"
      ]
     },
     "execution_count": 12,
     "metadata": {},
     "output_type": "execute_result"
    },
    {
     "data": {
      "text/plain": [
       "Text(5.1, 7, '7명')"
      ]
     },
     "execution_count": 12,
     "metadata": {},
     "output_type": "execute_result"
    },
    {
     "data": {
      "text/plain": [
       "Text(6.1, 0, '0명')"
      ]
     },
     "execution_count": 12,
     "metadata": {},
     "output_type": "execute_result"
    },
    {
     "data": {
      "text/plain": [
       "Text(0.3, 16, '16명')"
      ]
     },
     "execution_count": 12,
     "metadata": {},
     "output_type": "execute_result"
    },
    {
     "data": {
      "text/plain": [
       "Text(1.3, 32, '32명')"
      ]
     },
     "execution_count": 12,
     "metadata": {},
     "output_type": "execute_result"
    },
    {
     "data": {
      "text/plain": [
       "Text(2.3, 15, '15명')"
      ]
     },
     "execution_count": 12,
     "metadata": {},
     "output_type": "execute_result"
    },
    {
     "data": {
      "text/plain": [
       "Text(3.3, 29, '29명')"
      ]
     },
     "execution_count": 12,
     "metadata": {},
     "output_type": "execute_result"
    },
    {
     "data": {
      "text/plain": [
       "Text(4.3, 30, '30명')"
      ]
     },
     "execution_count": 12,
     "metadata": {},
     "output_type": "execute_result"
    },
    {
     "data": {
      "text/plain": [
       "Text(5.3, 29, '29명')"
      ]
     },
     "execution_count": 12,
     "metadata": {},
     "output_type": "execute_result"
    },
    {
     "data": {
      "text/plain": [
       "Text(6.3, 26, '26명')"
      ]
     },
     "execution_count": 12,
     "metadata": {},
     "output_type": "execute_result"
    },
    {
     "data": {
      "text/plain": [
       "Text(0.5, 14, '14명')"
      ]
     },
     "execution_count": 12,
     "metadata": {},
     "output_type": "execute_result"
    },
    {
     "data": {
      "text/plain": [
       "Text(1.5, 31, '31명')"
      ]
     },
     "execution_count": 12,
     "metadata": {},
     "output_type": "execute_result"
    },
    {
     "data": {
      "text/plain": [
       "Text(2.5, 25, '25명')"
      ]
     },
     "execution_count": 12,
     "metadata": {},
     "output_type": "execute_result"
    },
    {
     "data": {
      "text/plain": [
       "Text(3.5, 20, '20명')"
      ]
     },
     "execution_count": 12,
     "metadata": {},
     "output_type": "execute_result"
    },
    {
     "data": {
      "text/plain": [
       "Text(4.5, 23, '23명')"
      ]
     },
     "execution_count": 12,
     "metadata": {},
     "output_type": "execute_result"
    },
    {
     "data": {
      "text/plain": [
       "Text(5.5, 23, '23명')"
      ]
     },
     "execution_count": 12,
     "metadata": {},
     "output_type": "execute_result"
    },
    {
     "data": {
      "text/plain": [
       "Text(6.5, 13, '13명')"
      ]
     },
     "execution_count": 12,
     "metadata": {},
     "output_type": "execute_result"
    },
    {
     "data": {
      "text/plain": [
       "Text(0.5, 0, '요일')"
      ]
     },
     "execution_count": 12,
     "metadata": {},
     "output_type": "execute_result"
    },
    {
     "data": {
      "text/plain": [
       "Text(0, 0.5, '')"
      ]
     },
     "execution_count": 12,
     "metadata": {},
     "output_type": "execute_result"
    },
    {
     "data": {
      "text/plain": [
       "([<matplotlib.axis.XTick at 0x7fd13864b640>,\n",
       "  <matplotlib.axis.XTick at 0x7fd13864b610>,\n",
       "  <matplotlib.axis.XTick at 0x7fd158ea3e50>,\n",
       "  <matplotlib.axis.XTick at 0x7fd158cc9c40>,\n",
       "  <matplotlib.axis.XTick at 0x7fd158cb8190>,\n",
       "  <matplotlib.axis.XTick at 0x7fd158cb86a0>,\n",
       "  <matplotlib.axis.XTick at 0x7fd158cb8bb0>],\n",
       " [Text(0.30000000000000004, 0, '일'),\n",
       "  Text(1.3, 0, '월'),\n",
       "  Text(2.3000000000000003, 0, '화'),\n",
       "  Text(3.3000000000000003, 0, '수'),\n",
       "  Text(4.3, 0, '목'),\n",
       "  Text(5.3, 0, '금'),\n",
       "  Text(6.3, 0, '토')])"
      ]
     },
     "execution_count": 12,
     "metadata": {},
     "output_type": "execute_result"
    },
    {
     "data": {
      "text/plain": [
       "<matplotlib.legend.Legend at 0x7fd168a37a90>"
      ]
     },
     "execution_count": 12,
     "metadata": {},
     "output_type": "execute_result"
    },
    {
     "data": {
      "image/png": "[encoded data removed]",
      "text/plain": [
       "<Figure size 720x576 with 1 Axes>"
      ]
     },
     "metadata": {
      "needs_background": "light"
     },
     "output_type": "display_data"
    }
   ],
   "source": [
    "# 막대 그래프 bar(x, y, color = , alpha = )\n",
    "# 변수 kor19_data\n",
    "\n",
    "x = range(0,len(Top3data_day.columns))\n",
    "n_data=len(Top3data_day.T)\n",
    "index=np.arange(n_data)\n",
    "barWidth = 0.2\n",
    "\n",
    "plt.figure(figsize=(10,8))\n",
    "plt.title('<요일별 노인 교통사고 사망자수>',fontsize=20,pad=30,fontweight=\"bold\")\n",
    "\n",
    "plt.bar(index, Top3data_day.T['제주'], color='#01579b', align='edge', width=barWidth, label='제주',alpha=0.5)\n",
    "plt.bar(index+barWidth, Top3data_day.T['전남'], color='#4caf50',align='edge', width=barWidth, label='전남',alpha=0.5)\n",
    "plt.bar(index+barWidth+barWidth, Top3data_day.T['충남'], color='#ff2258',align='edge', width=barWidth, label='충남',alpha=0.5)\n",
    "\n",
    "plt.grid(True, axis='y', alpha=0.4)\n",
    "\n",
    "for i, v in enumerate(x):\n",
    "    plt.text(v+0.1, Top3data_day.T['제주'].values[i], str(Top3data_day.T['제주'][i])+'명',                 \n",
    "             fontsize = 9, \n",
    "             color='black',\n",
    "             horizontalalignment='center',\n",
    "             verticalalignment='bottom')\n",
    "\n",
    "for i, v in enumerate(x):\n",
    "    plt.text(v+0.3, Top3data_day.T['전남'].values[i], str(Top3data_day.T['전남'][i])+'명',                 \n",
    "             fontsize = 9, \n",
    "             color='black',\n",
    "             horizontalalignment='center',\n",
    "             verticalalignment='bottom')\n",
    "\n",
    "for i, v in enumerate(x):\n",
    "    plt.text(v+0.5, Top3data_day.T['충남'].values[i], str(Top3data_day.T['충남'][i])+'명',                 \n",
    "             fontsize = 9, \n",
    "             color='black',\n",
    "             horizontalalignment='center',\n",
    "             verticalalignment='bottom')\n",
    "    \n",
    "    \n",
    "plt.xlabel('요일',labelpad=20,fontsize=15)\n",
    "plt.ylabel('',labelpad=15,fontsize=15)\n",
    "\n",
    "plt.xticks(index+barWidth+0.1, Top3data_day.T.index)\n",
    "plt.legend()\n",
    "\n",
    "plt.savefig('../[0]data/1-5-1_시각화_요일_노인교통사고_사망자수(결과).png')\n",
    "plt.show()"
   ]
  },
  {
   "cell_type": "markdown",
   "id": "5569ba21",
   "metadata": {},
   "source": [
    "### 월별 노인교통사고 사망자수"
   ]
  },
  {
   "cell_type": "code",
   "execution_count": 5,
   "id": "3db661c8",
   "metadata": {},
   "outputs": [
    {
     "data": {
      "text/html": [
       "<div>\n",
       "<style scoped>\n",
       "    .dataframe tbody tr th:only-of-type {\n",
       "        vertical-align: middle;\n",
       "    }\n",
       "\n",
       "    .dataframe tbody tr th {\n",
       "        vertical-align: top;\n",
       "    }\n",
       "\n",
       "    .dataframe thead th {\n",
       "        text-align: right;\n",
       "    }\n",
       "</style>\n",
       "<table border=\"1\" class=\"dataframe\">\n",
       "  <thead>\n",
       "    <tr style=\"text-align: right;\">\n",
       "      <th></th>\n",
       "      <th>01월</th>\n",
       "      <th>02월</th>\n",
       "      <th>03월</th>\n",
       "      <th>04월</th>\n",
       "      <th>05월</th>\n",
       "      <th>06월</th>\n",
       "      <th>07월</th>\n",
       "      <th>08월</th>\n",
       "      <th>09월</th>\n",
       "      <th>10월</th>\n",
       "      <th>11월</th>\n",
       "      <th>12월</th>\n",
       "    </tr>\n",
       "    <tr>\n",
       "      <th>시도</th>\n",
       "      <th></th>\n",
       "      <th></th>\n",
       "      <th></th>\n",
       "      <th></th>\n",
       "      <th></th>\n",
       "      <th></th>\n",
       "      <th></th>\n",
       "      <th></th>\n",
       "      <th></th>\n",
       "      <th></th>\n",
       "      <th></th>\n",
       "      <th></th>\n",
       "    </tr>\n",
       "  </thead>\n",
       "  <tbody>\n",
       "    <tr>\n",
       "      <th>제주</th>\n",
       "      <td>5</td>\n",
       "      <td>1</td>\n",
       "      <td>6</td>\n",
       "      <td>1</td>\n",
       "      <td>1</td>\n",
       "      <td>3</td>\n",
       "      <td>2</td>\n",
       "      <td>4</td>\n",
       "      <td>2</td>\n",
       "      <td>2</td>\n",
       "      <td>3</td>\n",
       "      <td>1</td>\n",
       "    </tr>\n",
       "    <tr>\n",
       "      <th>전남</th>\n",
       "      <td>12</td>\n",
       "      <td>14</td>\n",
       "      <td>9</td>\n",
       "      <td>20</td>\n",
       "      <td>15</td>\n",
       "      <td>12</td>\n",
       "      <td>12</td>\n",
       "      <td>15</td>\n",
       "      <td>12</td>\n",
       "      <td>21</td>\n",
       "      <td>18</td>\n",
       "      <td>17</td>\n",
       "    </tr>\n",
       "    <tr>\n",
       "      <th>충남</th>\n",
       "      <td>13</td>\n",
       "      <td>8</td>\n",
       "      <td>7</td>\n",
       "      <td>11</td>\n",
       "      <td>10</td>\n",
       "      <td>13</td>\n",
       "      <td>11</td>\n",
       "      <td>13</td>\n",
       "      <td>11</td>\n",
       "      <td>21</td>\n",
       "      <td>17</td>\n",
       "      <td>14</td>\n",
       "    </tr>\n",
       "  </tbody>\n",
       "</table>\n",
       "</div>"
      ],
      "text/plain": [
       "    01월  02월  03월  04월  05월  06월  07월  08월  09월  10월  11월  12월\n",
       "시도                                                            \n",
       "제주    5    1    6    1    1    3    2    4    2    2    3    1\n",
       "전남   12   14    9   20   15   12   12   15   12   21   18   17\n",
       "충남   13    8    7   11   10   13   11   13   11   21   17   14"
      ]
     },
     "execution_count": 5,
     "metadata": {},
     "output_type": "execute_result"
    }
   ],
   "source": [
    "Top3data_month = pd.read_csv('../[0]data/0-5_월_노인교통사고_사망자수_제주_전남_충남(결과).csv', index_col=0)\n",
    "Top3data_month"
   ]
  },
  {
   "cell_type": "code",
   "execution_count": 13,
   "id": "9a0c77c2",
   "metadata": {
    "scrolled": false
   },
   "outputs": [
    {
     "data": {
      "text/plain": [
       "<Figure size 1080x576 with 0 Axes>"
      ]
     },
     "execution_count": 13,
     "metadata": {},
     "output_type": "execute_result"
    },
    {
     "data": {
      "text/plain": [
       "Text(0.5, 1.0, '<월별 노인 교통사고 사망자수>')"
      ]
     },
     "execution_count": 13,
     "metadata": {},
     "output_type": "execute_result"
    },
    {
     "data": {
      "text/plain": [
       "<BarContainer object of 12 artists>"
      ]
     },
     "execution_count": 13,
     "metadata": {},
     "output_type": "execute_result"
    },
    {
     "data": {
      "text/plain": [
       "<BarContainer object of 12 artists>"
      ]
     },
     "execution_count": 13,
     "metadata": {},
     "output_type": "execute_result"
    },
    {
     "data": {
      "text/plain": [
       "<BarContainer object of 12 artists>"
      ]
     },
     "execution_count": 13,
     "metadata": {},
     "output_type": "execute_result"
    },
    {
     "data": {
      "text/plain": [
       "Text(0.1, 5, '5명')"
      ]
     },
     "execution_count": 13,
     "metadata": {},
     "output_type": "execute_result"
    },
    {
     "data": {
      "text/plain": [
       "Text(1.1, 1, '1명')"
      ]
     },
     "execution_count": 13,
     "metadata": {},
     "output_type": "execute_result"
    },
    {
     "data": {
      "text/plain": [
       "Text(2.1, 6, '6명')"
      ]
     },
     "execution_count": 13,
     "metadata": {},
     "output_type": "execute_result"
    },
    {
     "data": {
      "text/plain": [
       "Text(3.1, 1, '1명')"
      ]
     },
     "execution_count": 13,
     "metadata": {},
     "output_type": "execute_result"
    },
    {
     "data": {
      "text/plain": [
       "Text(4.1, 1, '1명')"
      ]
     },
     "execution_count": 13,
     "metadata": {},
     "output_type": "execute_result"
    },
    {
     "data": {
      "text/plain": [
       "Text(5.1, 3, '3명')"
      ]
     },
     "execution_count": 13,
     "metadata": {},
     "output_type": "execute_result"
    },
    {
     "data": {
      "text/plain": [
       "Text(6.1, 2, '2명')"
      ]
     },
     "execution_count": 13,
     "metadata": {},
     "output_type": "execute_result"
    },
    {
     "data": {
      "text/plain": [
       "Text(7.1, 4, '4명')"
      ]
     },
     "execution_count": 13,
     "metadata": {},
     "output_type": "execute_result"
    },
    {
     "data": {
      "text/plain": [
       "Text(8.1, 2, '2명')"
      ]
     },
     "execution_count": 13,
     "metadata": {},
     "output_type": "execute_result"
    },
    {
     "data": {
      "text/plain": [
       "Text(9.1, 2, '2명')"
      ]
     },
     "execution_count": 13,
     "metadata": {},
     "output_type": "execute_result"
    },
    {
     "data": {
      "text/plain": [
       "Text(10.1, 3, '3명')"
      ]
     },
     "execution_count": 13,
     "metadata": {},
     "output_type": "execute_result"
    },
    {
     "data": {
      "text/plain": [
       "Text(11.1, 1, '1명')"
      ]
     },
     "execution_count": 13,
     "metadata": {},
     "output_type": "execute_result"
    },
    {
     "data": {
      "text/plain": [
       "Text(0.3, 12, '12명')"
      ]
     },
     "execution_count": 13,
     "metadata": {},
     "output_type": "execute_result"
    },
    {
     "data": {
      "text/plain": [
       "Text(1.3, 14, '14명')"
      ]
     },
     "execution_count": 13,
     "metadata": {},
     "output_type": "execute_result"
    },
    {
     "data": {
      "text/plain": [
       "Text(2.3, 9, '9명')"
      ]
     },
     "execution_count": 13,
     "metadata": {},
     "output_type": "execute_result"
    },
    {
     "data": {
      "text/plain": [
       "Text(3.3, 20, '20명')"
      ]
     },
     "execution_count": 13,
     "metadata": {},
     "output_type": "execute_result"
    },
    {
     "data": {
      "text/plain": [
       "Text(4.3, 15, '15명')"
      ]
     },
     "execution_count": 13,
     "metadata": {},
     "output_type": "execute_result"
    },
    {
     "data": {
      "text/plain": [
       "Text(5.3, 12, '12명')"
      ]
     },
     "execution_count": 13,
     "metadata": {},
     "output_type": "execute_result"
    },
    {
     "data": {
      "text/plain": [
       "Text(6.3, 12, '12명')"
      ]
     },
     "execution_count": 13,
     "metadata": {},
     "output_type": "execute_result"
    },
    {
     "data": {
      "text/plain": [
       "Text(7.3, 15, '15명')"
      ]
     },
     "execution_count": 13,
     "metadata": {},
     "output_type": "execute_result"
    },
    {
     "data": {
      "text/plain": [
       "Text(8.3, 12, '12명')"
      ]
     },
     "execution_count": 13,
     "metadata": {},
     "output_type": "execute_result"
    },
    {
     "data": {
      "text/plain": [
       "Text(9.3, 21, '21명')"
      ]
     },
     "execution_count": 13,
     "metadata": {},
     "output_type": "execute_result"
    },
    {
     "data": {
      "text/plain": [
       "Text(10.3, 18, '18명')"
      ]
     },
     "execution_count": 13,
     "metadata": {},
     "output_type": "execute_result"
    },
    {
     "data": {
      "text/plain": [
       "Text(11.3, 17, '17명')"
      ]
     },
     "execution_count": 13,
     "metadata": {},
     "output_type": "execute_result"
    },
    {
     "data": {
      "text/plain": [
       "Text(0.5, 13, '13명')"
      ]
     },
     "execution_count": 13,
     "metadata": {},
     "output_type": "execute_result"
    },
    {
     "data": {
      "text/plain": [
       "Text(1.5, 8, '8명')"
      ]
     },
     "execution_count": 13,
     "metadata": {},
     "output_type": "execute_result"
    },
    {
     "data": {
      "text/plain": [
       "Text(2.5, 7, '7명')"
      ]
     },
     "execution_count": 13,
     "metadata": {},
     "output_type": "execute_result"
    },
    {
     "data": {
      "text/plain": [
       "Text(3.5, 11, '11명')"
      ]
     },
     "execution_count": 13,
     "metadata": {},
     "output_type": "execute_result"
    },
    {
     "data": {
      "text/plain": [
       "Text(4.5, 10, '10명')"
      ]
     },
     "execution_count": 13,
     "metadata": {},
     "output_type": "execute_result"
    },
    {
     "data": {
      "text/plain": [
       "Text(5.5, 13, '13명')"
      ]
     },
     "execution_count": 13,
     "metadata": {},
     "output_type": "execute_result"
    },
    {
     "data": {
      "text/plain": [
       "Text(6.5, 11, '11명')"
      ]
     },
     "execution_count": 13,
     "metadata": {},
     "output_type": "execute_result"
    },
    {
     "data": {
      "text/plain": [
       "Text(7.5, 13, '13명')"
      ]
     },
     "execution_count": 13,
     "metadata": {},
     "output_type": "execute_result"
    },
    {
     "data": {
      "text/plain": [
       "Text(8.5, 11, '11명')"
      ]
     },
     "execution_count": 13,
     "metadata": {},
     "output_type": "execute_result"
    },
    {
     "data": {
      "text/plain": [
       "Text(9.5, 21, '21명')"
      ]
     },
     "execution_count": 13,
     "metadata": {},
     "output_type": "execute_result"
    },
    {
     "data": {
      "text/plain": [
       "Text(10.5, 17, '17명')"
      ]
     },
     "execution_count": 13,
     "metadata": {},
     "output_type": "execute_result"
    },
    {
     "data": {
      "text/plain": [
       "Text(11.5, 14, '14명')"
      ]
     },
     "execution_count": 13,
     "metadata": {},
     "output_type": "execute_result"
    },
    {
     "data": {
      "text/plain": [
       "Text(0.5, 0, '월별')"
      ]
     },
     "execution_count": 13,
     "metadata": {},
     "output_type": "execute_result"
    },
    {
     "data": {
      "text/plain": [
       "Text(0, 0.5, '')"
      ]
     },
     "execution_count": 13,
     "metadata": {},
     "output_type": "execute_result"
    },
    {
     "data": {
      "text/plain": [
       "([<matplotlib.axis.XTick at 0x7fd1685589a0>,\n",
       "  <matplotlib.axis.XTick at 0x7fd168558160>,\n",
       "  <matplotlib.axis.XTick at 0x7fd14aed3640>,\n",
       "  <matplotlib.axis.XTick at 0x7fd14ac52550>,\n",
       "  <matplotlib.axis.XTick at 0x7fd14ac52a60>,\n",
       "  <matplotlib.axis.XTick at 0x7fd14ac52f70>,\n",
       "  <matplotlib.axis.XTick at 0x7fd14ac394c0>,\n",
       "  <matplotlib.axis.XTick at 0x7fd14ac399d0>,\n",
       "  <matplotlib.axis.XTick at 0x7fd14ac39ee0>,\n",
       "  <matplotlib.axis.XTick at 0x7fd14ac4f430>,\n",
       "  <matplotlib.axis.XTick at 0x7fd14ac4f940>,\n",
       "  <matplotlib.axis.XTick at 0x7fd14ac39a90>],\n",
       " [Text(0.30000000000000004, 0, '01월'),\n",
       "  Text(1.3, 0, '02월'),\n",
       "  Text(2.3000000000000003, 0, '03월'),\n",
       "  Text(3.3000000000000003, 0, '04월'),\n",
       "  Text(4.3, 0, '05월'),\n",
       "  Text(5.3, 0, '06월'),\n",
       "  Text(6.3, 0, '07월'),\n",
       "  Text(7.3, 0, '08월'),\n",
       "  Text(8.299999999999999, 0, '09월'),\n",
       "  Text(9.299999999999999, 0, '10월'),\n",
       "  Text(10.299999999999999, 0, '11월'),\n",
       "  Text(11.299999999999999, 0, '12월')])"
      ]
     },
     "execution_count": 13,
     "metadata": {},
     "output_type": "execute_result"
    },
    {
     "data": {
      "text/plain": [
       "<matplotlib.legend.Legend at 0x7fd158eddeb0>"
      ]
     },
     "execution_count": 13,
     "metadata": {},
     "output_type": "execute_result"
    },
    {
     "data": {
      "image/png": "[encoded data removed]",
      "text/plain": [
       "<Figure size 1080x576 with 1 Axes>"
      ]
     },
     "metadata": {
      "needs_background": "light"
     },
     "output_type": "display_data"
    }
   ],
   "source": [
    "# 막대 그래프 bar(x, y, color = , alpha = )\n",
    "# 변수 kor19_data\n",
    "\n",
    "x = range(0,len(Top3data_month.columns))\n",
    "n_data=len(Top3data_month.T)\n",
    "index=np.arange(n_data)\n",
    "barWidth = 0.2\n",
    "\n",
    "plt.figure(figsize=(15,8))\n",
    "plt.title('<월별 노인 교통사고 사망자수>',fontsize=20,pad=30,fontweight=\"bold\")\n",
    "\n",
    "plt.bar(index, Top3data_month.T['제주'], color='#01579b', align='edge', width=barWidth, label='제주',alpha=0.5)\n",
    "plt.bar(index+barWidth, Top3data_month.T['전남'], color='#4caf50',align='edge', width=barWidth, label='전남',alpha=0.5)\n",
    "plt.bar(index+barWidth+barWidth, Top3data_month.T['충남'], color='#ff2258',align='edge', width=barWidth, label='충남',alpha=0.5)\n",
    "\n",
    "plt.grid(True, axis='y', alpha=0.4)\n",
    "\n",
    "for i, v in enumerate(x):\n",
    "    plt.text(v+0.1, Top3data_month.T['제주'].values[i], str(Top3data_month.T['제주'][i])+'명',                 \n",
    "             fontsize = 9, \n",
    "             color='black',\n",
    "             horizontalalignment='center',\n",
    "             verticalalignment='bottom')\n",
    "\n",
    "for i, v in enumerate(x):\n",
    "    plt.text(v+0.3, Top3data_month.T['전남'].values[i], str(Top3data_month.T['전남'][i])+'명',                 \n",
    "             fontsize = 9, \n",
    "             color='black',\n",
    "             horizontalalignment='center',\n",
    "             verticalalignment='bottom')\n",
    "\n",
    "for i, v in enumerate(x):\n",
    "    plt.text(v+0.5, Top3data_month.T['충남'].values[i], str(Top3data_month.T['충남'][i])+'명',                 \n",
    "             fontsize = 9, \n",
    "             color='black',\n",
    "             horizontalalignment='center',\n",
    "             verticalalignment='bottom')\n",
    "    \n",
    "    \n",
    "plt.xlabel('월별',labelpad=20,fontsize=15)\n",
    "plt.ylabel('',labelpad=15,fontsize=15)\n",
    "\n",
    "plt.xticks(index+barWidth+0.1, Top3data_month.T.index)\n",
    "plt.legend()\n",
    "\n",
    "plt.savefig('../[0]data/1-5-2_시각화_월_노인교통사고_사망자수(결과).png')\n",
    "plt.show()"
   ]
  },
  {
   "cell_type": "markdown",
   "id": "8978f30b",
   "metadata": {},
   "source": [
    "### 시간대별 노인 교통사고 사망자수"
   ]
  },
  {
   "cell_type": "code",
   "execution_count": 7,
   "id": "8ce408bb",
   "metadata": {},
   "outputs": [
    {
     "data": {
      "text/html": [
       "<div>\n",
       "<style scoped>\n",
       "    .dataframe tbody tr th:only-of-type {\n",
       "        vertical-align: middle;\n",
       "    }\n",
       "\n",
       "    .dataframe tbody tr th {\n",
       "        vertical-align: top;\n",
       "    }\n",
       "\n",
       "    .dataframe thead th {\n",
       "        text-align: right;\n",
       "    }\n",
       "</style>\n",
       "<table border=\"1\" class=\"dataframe\">\n",
       "  <thead>\n",
       "    <tr style=\"text-align: right;\">\n",
       "      <th></th>\n",
       "      <th>0시~2시</th>\n",
       "      <th>2시~4시</th>\n",
       "      <th>4시~6시</th>\n",
       "      <th>6시~8시</th>\n",
       "      <th>8시~10시</th>\n",
       "      <th>10시~12시</th>\n",
       "      <th>12시~14시</th>\n",
       "      <th>14시~16시</th>\n",
       "      <th>16시~18시</th>\n",
       "      <th>18시~20시</th>\n",
       "      <th>20시~22시</th>\n",
       "      <th>22시~24시</th>\n",
       "    </tr>\n",
       "    <tr>\n",
       "      <th>시도</th>\n",
       "      <th></th>\n",
       "      <th></th>\n",
       "      <th></th>\n",
       "      <th></th>\n",
       "      <th></th>\n",
       "      <th></th>\n",
       "      <th></th>\n",
       "      <th></th>\n",
       "      <th></th>\n",
       "      <th></th>\n",
       "      <th></th>\n",
       "      <th></th>\n",
       "    </tr>\n",
       "  </thead>\n",
       "  <tbody>\n",
       "    <tr>\n",
       "      <th>제주</th>\n",
       "      <td>0</td>\n",
       "      <td>0</td>\n",
       "      <td>0</td>\n",
       "      <td>5</td>\n",
       "      <td>5</td>\n",
       "      <td>2</td>\n",
       "      <td>3</td>\n",
       "      <td>4</td>\n",
       "      <td>4</td>\n",
       "      <td>3</td>\n",
       "      <td>4</td>\n",
       "      <td>1</td>\n",
       "    </tr>\n",
       "    <tr>\n",
       "      <th>전남</th>\n",
       "      <td>0</td>\n",
       "      <td>2</td>\n",
       "      <td>5</td>\n",
       "      <td>17</td>\n",
       "      <td>24</td>\n",
       "      <td>26</td>\n",
       "      <td>17</td>\n",
       "      <td>29</td>\n",
       "      <td>17</td>\n",
       "      <td>34</td>\n",
       "      <td>6</td>\n",
       "      <td>0</td>\n",
       "    </tr>\n",
       "    <tr>\n",
       "      <th>충남</th>\n",
       "      <td>1</td>\n",
       "      <td>0</td>\n",
       "      <td>6</td>\n",
       "      <td>15</td>\n",
       "      <td>21</td>\n",
       "      <td>21</td>\n",
       "      <td>12</td>\n",
       "      <td>13</td>\n",
       "      <td>15</td>\n",
       "      <td>32</td>\n",
       "      <td>10</td>\n",
       "      <td>3</td>\n",
       "    </tr>\n",
       "  </tbody>\n",
       "</table>\n",
       "</div>"
      ],
      "text/plain": [
       "    0시~2시  2시~4시  4시~6시  6시~8시  8시~10시  10시~12시  12시~14시  14시~16시  16시~18시  \\\n",
       "시도                                                                           \n",
       "제주      0      0      0      5       5        2        3        4        4   \n",
       "전남      0      2      5     17      24       26       17       29       17   \n",
       "충남      1      0      6     15      21       21       12       13       15   \n",
       "\n",
       "    18시~20시  20시~22시  22시~24시  \n",
       "시도                             \n",
       "제주        3        4        1  \n",
       "전남       34        6        0  \n",
       "충남       32       10        3  "
      ]
     },
     "execution_count": 7,
     "metadata": {},
     "output_type": "execute_result"
    }
   ],
   "source": [
    "Top3data_time = pd.read_csv('../[0]data/0-5_시간_노인교통사고_사망자수_제주_전남_충남(결과).csv', index_col=0)\n",
    "Top3data_time"
   ]
  },
  {
   "cell_type": "code",
   "execution_count": 15,
   "id": "f4b0cbd2",
   "metadata": {
    "scrolled": false
   },
   "outputs": [
    {
     "data": {
      "text/plain": [
       "<Figure size 1440x720 with 0 Axes>"
      ]
     },
     "execution_count": 15,
     "metadata": {},
     "output_type": "execute_result"
    },
    {
     "data": {
      "text/plain": [
       "Text(0.5, 1.0, '<시간별 노인 교통사고 사망자수>')"
      ]
     },
     "execution_count": 15,
     "metadata": {},
     "output_type": "execute_result"
    },
    {
     "data": {
      "text/plain": [
       "<BarContainer object of 12 artists>"
      ]
     },
     "execution_count": 15,
     "metadata": {},
     "output_type": "execute_result"
    },
    {
     "data": {
      "text/plain": [
       "<BarContainer object of 12 artists>"
      ]
     },
     "execution_count": 15,
     "metadata": {},
     "output_type": "execute_result"
    },
    {
     "data": {
      "text/plain": [
       "<BarContainer object of 12 artists>"
      ]
     },
     "execution_count": 15,
     "metadata": {},
     "output_type": "execute_result"
    },
    {
     "data": {
      "text/plain": [
       "Text(0.5, 0, '시간별')"
      ]
     },
     "execution_count": 15,
     "metadata": {},
     "output_type": "execute_result"
    },
    {
     "data": {
      "text/plain": [
       "Text(0, 0.5, '')"
      ]
     },
     "execution_count": 15,
     "metadata": {},
     "output_type": "execute_result"
    },
    {
     "data": {
      "text/plain": [
       "([<matplotlib.axis.XTick at 0x7fd158fe7100>,\n",
       "  <matplotlib.axis.XTick at 0x7fd158fe70d0>,\n",
       "  <matplotlib.axis.XTick at 0x7fd14afac310>,\n",
       "  <matplotlib.axis.XTick at 0x7fd15901b850>,\n",
       "  <matplotlib.axis.XTick at 0x7fd15901bd60>,\n",
       "  <matplotlib.axis.XTick at 0x7fd1590252b0>,\n",
       "  <matplotlib.axis.XTick at 0x7fd1590257c0>,\n",
       "  <matplotlib.axis.XTick at 0x7fd159025cd0>,\n",
       "  <matplotlib.axis.XTick at 0x7fd159029220>,\n",
       "  <matplotlib.axis.XTick at 0x7fd159029730>,\n",
       "  <matplotlib.axis.XTick at 0x7fd159029c40>,\n",
       "  <matplotlib.axis.XTick at 0x7fd159029790>],\n",
       " [Text(0, 0, '0시~2시'),\n",
       "  Text(1, 0, '2시~4시'),\n",
       "  Text(2, 0, '4시~6시'),\n",
       "  Text(3, 0, '6시~8시'),\n",
       "  Text(4, 0, '8시~10시'),\n",
       "  Text(5, 0, '10시~12시'),\n",
       "  Text(6, 0, '12시~14시'),\n",
       "  Text(7, 0, '14시~16시'),\n",
       "  Text(8, 0, '16시~18시'),\n",
       "  Text(9, 0, '18시~20시'),\n",
       "  Text(10, 0, '20시~22시'),\n",
       "  Text(11, 0, '22시~24시')])"
      ]
     },
     "execution_count": 15,
     "metadata": {},
     "output_type": "execute_result"
    },
    {
     "data": {
      "text/plain": [
       "Text(0, 0, '0명')"
      ]
     },
     "execution_count": 15,
     "metadata": {},
     "output_type": "execute_result"
    },
    {
     "data": {
      "text/plain": [
       "Text(1, 0, '0명')"
      ]
     },
     "execution_count": 15,
     "metadata": {},
     "output_type": "execute_result"
    },
    {
     "data": {
      "text/plain": [
       "Text(2, 0, '0명')"
      ]
     },
     "execution_count": 15,
     "metadata": {},
     "output_type": "execute_result"
    },
    {
     "data": {
      "text/plain": [
       "Text(3, 5, '5명')"
      ]
     },
     "execution_count": 15,
     "metadata": {},
     "output_type": "execute_result"
    },
    {
     "data": {
      "text/plain": [
       "Text(4, 5, '5명')"
      ]
     },
     "execution_count": 15,
     "metadata": {},
     "output_type": "execute_result"
    },
    {
     "data": {
      "text/plain": [
       "Text(5, 2, '2명')"
      ]
     },
     "execution_count": 15,
     "metadata": {},
     "output_type": "execute_result"
    },
    {
     "data": {
      "text/plain": [
       "Text(6, 3, '3명')"
      ]
     },
     "execution_count": 15,
     "metadata": {},
     "output_type": "execute_result"
    },
    {
     "data": {
      "text/plain": [
       "Text(7, 4, '4명')"
      ]
     },
     "execution_count": 15,
     "metadata": {},
     "output_type": "execute_result"
    },
    {
     "data": {
      "text/plain": [
       "Text(8, 4, '4명')"
      ]
     },
     "execution_count": 15,
     "metadata": {},
     "output_type": "execute_result"
    },
    {
     "data": {
      "text/plain": [
       "Text(9, 3, '3명')"
      ]
     },
     "execution_count": 15,
     "metadata": {},
     "output_type": "execute_result"
    },
    {
     "data": {
      "text/plain": [
       "Text(10, 4, '4명')"
      ]
     },
     "execution_count": 15,
     "metadata": {},
     "output_type": "execute_result"
    },
    {
     "data": {
      "text/plain": [
       "Text(11, 1, '1명')"
      ]
     },
     "execution_count": 15,
     "metadata": {},
     "output_type": "execute_result"
    },
    {
     "data": {
      "text/plain": [
       "Text(0.2, 0, '0명')"
      ]
     },
     "execution_count": 15,
     "metadata": {},
     "output_type": "execute_result"
    },
    {
     "data": {
      "text/plain": [
       "Text(1.2, 2, '2명')"
      ]
     },
     "execution_count": 15,
     "metadata": {},
     "output_type": "execute_result"
    },
    {
     "data": {
      "text/plain": [
       "Text(2.2, 5, '5명')"
      ]
     },
     "execution_count": 15,
     "metadata": {},
     "output_type": "execute_result"
    },
    {
     "data": {
      "text/plain": [
       "Text(3.2, 17, '17명')"
      ]
     },
     "execution_count": 15,
     "metadata": {},
     "output_type": "execute_result"
    },
    {
     "data": {
      "text/plain": [
       "Text(4.2, 24, '24명')"
      ]
     },
     "execution_count": 15,
     "metadata": {},
     "output_type": "execute_result"
    },
    {
     "data": {
      "text/plain": [
       "Text(5.2, 26, '26명')"
      ]
     },
     "execution_count": 15,
     "metadata": {},
     "output_type": "execute_result"
    },
    {
     "data": {
      "text/plain": [
       "Text(6.2, 17, '17명')"
      ]
     },
     "execution_count": 15,
     "metadata": {},
     "output_type": "execute_result"
    },
    {
     "data": {
      "text/plain": [
       "Text(7.2, 29, '29명')"
      ]
     },
     "execution_count": 15,
     "metadata": {},
     "output_type": "execute_result"
    },
    {
     "data": {
      "text/plain": [
       "Text(8.2, 17, '17명')"
      ]
     },
     "execution_count": 15,
     "metadata": {},
     "output_type": "execute_result"
    },
    {
     "data": {
      "text/plain": [
       "Text(9.2, 34, '34명')"
      ]
     },
     "execution_count": 15,
     "metadata": {},
     "output_type": "execute_result"
    },
    {
     "data": {
      "text/plain": [
       "Text(10.2, 6, '6명')"
      ]
     },
     "execution_count": 15,
     "metadata": {},
     "output_type": "execute_result"
    },
    {
     "data": {
      "text/plain": [
       "Text(11.2, 0, '0명')"
      ]
     },
     "execution_count": 15,
     "metadata": {},
     "output_type": "execute_result"
    },
    {
     "data": {
      "text/plain": [
       "Text(0.4, 1, '1명')"
      ]
     },
     "execution_count": 15,
     "metadata": {},
     "output_type": "execute_result"
    },
    {
     "data": {
      "text/plain": [
       "Text(1.4, 0, '0명')"
      ]
     },
     "execution_count": 15,
     "metadata": {},
     "output_type": "execute_result"
    },
    {
     "data": {
      "text/plain": [
       "Text(2.4, 6, '6명')"
      ]
     },
     "execution_count": 15,
     "metadata": {},
     "output_type": "execute_result"
    },
    {
     "data": {
      "text/plain": [
       "Text(3.4, 15, '15명')"
      ]
     },
     "execution_count": 15,
     "metadata": {},
     "output_type": "execute_result"
    },
    {
     "data": {
      "text/plain": [
       "Text(4.4, 21, '21명')"
      ]
     },
     "execution_count": 15,
     "metadata": {},
     "output_type": "execute_result"
    },
    {
     "data": {
      "text/plain": [
       "Text(5.4, 21, '21명')"
      ]
     },
     "execution_count": 15,
     "metadata": {},
     "output_type": "execute_result"
    },
    {
     "data": {
      "text/plain": [
       "Text(6.4, 12, '12명')"
      ]
     },
     "execution_count": 15,
     "metadata": {},
     "output_type": "execute_result"
    },
    {
     "data": {
      "text/plain": [
       "Text(7.4, 13, '13명')"
      ]
     },
     "execution_count": 15,
     "metadata": {},
     "output_type": "execute_result"
    },
    {
     "data": {
      "text/plain": [
       "Text(8.4, 15, '15명')"
      ]
     },
     "execution_count": 15,
     "metadata": {},
     "output_type": "execute_result"
    },
    {
     "data": {
      "text/plain": [
       "Text(9.4, 32, '32명')"
      ]
     },
     "execution_count": 15,
     "metadata": {},
     "output_type": "execute_result"
    },
    {
     "data": {
      "text/plain": [
       "Text(10.4, 10, '10명')"
      ]
     },
     "execution_count": 15,
     "metadata": {},
     "output_type": "execute_result"
    },
    {
     "data": {
      "text/plain": [
       "Text(11.4, 3, '3명')"
      ]
     },
     "execution_count": 15,
     "metadata": {},
     "output_type": "execute_result"
    },
    {
     "data": {
      "text/plain": [
       "([<matplotlib.axis.XTick at 0x7fd158fe7100>,\n",
       "  <matplotlib.axis.XTick at 0x7fd158fe70d0>,\n",
       "  <matplotlib.axis.XTick at 0x7fd14afac310>,\n",
       "  <matplotlib.axis.XTick at 0x7fd15901b850>,\n",
       "  <matplotlib.axis.XTick at 0x7fd15901bd60>,\n",
       "  <matplotlib.axis.XTick at 0x7fd1590252b0>,\n",
       "  <matplotlib.axis.XTick at 0x7fd1590257c0>,\n",
       "  <matplotlib.axis.XTick at 0x7fd159025cd0>,\n",
       "  <matplotlib.axis.XTick at 0x7fd159029220>,\n",
       "  <matplotlib.axis.XTick at 0x7fd159029730>,\n",
       "  <matplotlib.axis.XTick at 0x7fd159029c40>,\n",
       "  <matplotlib.axis.XTick at 0x7fd159029790>],\n",
       " [Text(0.30000000000000004, 0, '0시~2시'),\n",
       "  Text(1.3, 0, '2시~4시'),\n",
       "  Text(2.3000000000000003, 0, '4시~6시'),\n",
       "  Text(3.3000000000000003, 0, '6시~8시'),\n",
       "  Text(4.3, 0, '8시~10시'),\n",
       "  Text(5.3, 0, '10시~12시'),\n",
       "  Text(6.3, 0, '12시~14시'),\n",
       "  Text(7.3, 0, '14시~16시'),\n",
       "  Text(8.299999999999999, 0, '16시~18시'),\n",
       "  Text(9.299999999999999, 0, '18시~20시'),\n",
       "  Text(10.299999999999999, 0, '20시~22시'),\n",
       "  Text(11.299999999999999, 0, '22시~24시')])"
      ]
     },
     "execution_count": 15,
     "metadata": {},
     "output_type": "execute_result"
    },
    {
     "data": {
      "text/plain": [
       "<matplotlib.legend.Legend at 0x7fd158fb3d60>"
      ]
     },
     "execution_count": 15,
     "metadata": {},
     "output_type": "execute_result"
    },
    {
     "data": {
      "image/png": "[encoded data removed]",
      "text/plain": [
       "<Figure size 1440x720 with 1 Axes>"
      ]
     },
     "metadata": {
      "needs_background": "light"
     },
     "output_type": "display_data"
    }
   ],
   "source": [
    "plt.figure(figsize=(20,10))\n",
    "\n",
    "n_data=len(Top3data_time.T) # 12\n",
    "index=np.arange(n_data) # 배열\n",
    "\n",
    "barWidth = 0.2\n",
    "\n",
    "plt.title('<시간별 노인 교통사고 사망자수>',fontsize=20,pad=30,fontweight=\"bold\")\n",
    "\n",
    "x = range(0,len(Top3data_time.columns))\n",
    "\n",
    "plt.bar(index, Top3data_time.T['제주'], color='#01579b', width=barWidth, edgecolor='white', label='제주',alpha=0.5)\n",
    "plt.bar(index+barWidth, Top3data_time.T['전남'], color='#4caf50', width=barWidth, edgecolor='white', label='전남',alpha=0.5)\n",
    "plt.bar(index+barWidth+barWidth, Top3data_time.T['충남'], color='#ff2258', width=barWidth, edgecolor='white', label='충남',alpha=0.5)\n",
    " \n",
    "plt.grid(True, axis='y', alpha=0.4)    \n",
    "    \n",
    "plt.xlabel('시간별',labelpad=20,fontsize=15, fontweight='bold')\n",
    "plt.ylabel('',labelpad=15,fontsize=15)\n",
    "    \n",
    "plt.xticks(index, Top3data_time.T.index)\n",
    "\n",
    "\n",
    "for i, v in enumerate(x):\n",
    "    plt.text(v, Top3data_time.T['제주'].values[i], str(Top3data_time.T['제주'][i])+'명',                 \n",
    "             fontsize = 11, \n",
    "             color='black',\n",
    "             horizontalalignment='center',\n",
    "             verticalalignment='bottom')\n",
    "\n",
    "for i, v in enumerate(x):\n",
    "    plt.text(v+0.2, Top3data_time.T['전남'].values[i], str(Top3data_time.T['전남'][i])+'명',                 \n",
    "             fontsize = 11, \n",
    "             color='black',\n",
    "             horizontalalignment='center',\n",
    "             verticalalignment='bottom')\n",
    "\n",
    "for i, v in enumerate(x):\n",
    "    plt.text(v+0.4, Top3data_time.T['충남'].values[i], str(Top3data_time.T['충남'][i])+'명',                 \n",
    "             fontsize = 11, \n",
    "             color='black',\n",
    "             horizontalalignment='center',\n",
    "             verticalalignment='bottom')\n",
    "\n",
    "\n",
    "plt.xticks(index+barWidth+0.1, Top3data_time.T.index)\n",
    "plt.legend()\n",
    "\n",
    "plt.savefig('../[0]data/1-5-3_시각화_시간_노인교통사고_사망자수(결과).png')\n",
    "plt.show()"
   ]
  },
  {
   "cell_type": "code",
   "execution_count": null,
   "id": "cc20fb28",
   "metadata": {},
   "outputs": [],
   "source": []
  },
  {
   "cell_type": "code",
   "execution_count": null,
   "id": "43d5d02e",
   "metadata": {},
   "outputs": [],
   "source": []
  }
 ],
 "metadata": {
  "kernelspec": {
   "display_name": "Python 3",
   "language": "python",
   "name": "python3"
  },
  "language_info": {
   "codemirror_mode": {
    "name": "ipython",
    "version": 3
   },
   "file_extension": ".py",
   "mimetype": "text/x-python",
   "name": "python",
   "nbconvert_exporter": "python",
   "pygments_lexer": "ipython3",
   "version": "3.8.8"
  }
 },
 "nbformat": 4,
 "nbformat_minor": 5
}
