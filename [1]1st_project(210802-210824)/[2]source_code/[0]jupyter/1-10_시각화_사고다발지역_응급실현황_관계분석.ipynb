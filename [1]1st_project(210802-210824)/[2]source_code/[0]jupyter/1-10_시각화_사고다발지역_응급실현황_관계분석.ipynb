{
 "cells": [
  {
   "cell_type": "code",
   "execution_count": 3,
   "id": "e9839eb3",
   "metadata": {},
   "outputs": [],
   "source": [
    "# matplotlib 패키지 등록\n",
    "\n",
    "import matplotlib.pyplot as plt\n",
    "%matplotlib inline\n",
    "import seaborn as sns\n",
    "\n",
    "# 그래프는 show()함수를 통해서 독립창에서 실행되는 것이 원칙\n",
    "# 그래프를 콘솔에서 바로 작동되록 하는 설정"
   ]
  },
  {
   "cell_type": "code",
   "execution_count": 4,
   "id": "4d040178",
   "metadata": {},
   "outputs": [],
   "source": [
    "import pandas as pd\n",
    "import numpy as np"
   ]
  },
  {
   "cell_type": "code",
   "execution_count": 5,
   "id": "cb9e8882",
   "metadata": {},
   "outputs": [],
   "source": [
    "# 여러 변수 출력 코드\n",
    "from IPython.core.interactiveshell import InteractiveShell\n",
    "InteractiveShell.ast_node_interactivity=\"all\""
   ]
  },
  {
   "cell_type": "code",
   "execution_count": 6,
   "id": "04de7c5e",
   "metadata": {},
   "outputs": [],
   "source": [
    "# 한글 문제\n",
    "# matplotlit의 기본 폰트에서 한글 지원되지 않기 때문에\n",
    "# matplotlib의 폰트 변경 필요\n",
    "import platform\n",
    "\n",
    "from matplotlib import font_manager, rc\n",
    "plt.rcParams['axes.unicode_minus'] = False\n",
    "\n",
    "if platform.system() == 'Darwin':  # 맥OS \n",
    "    rc('font', family='AppleGothic')\n",
    "elif platform.system() == 'Windows':  # 윈도우\n",
    "    path = \"c:/Windows/Fonts/malgun.ttf\"\n",
    "    font_name = font_manager.FontProperties(fname=path).get_name()\n",
    "    rc('font', family=font_name)\n",
    "else:\n",
    "    print('Unknown system...  sorry~~~')"
   ]
  },
  {
   "cell_type": "code",
   "execution_count": 7,
   "id": "291a8cb8",
   "metadata": {},
   "outputs": [],
   "source": [
    "jeju_data = pd.read_csv('../[0]data/0-10_제주_사고다발지역_응급실현황_관계분석(결과).csv')"
   ]
  },
  {
   "cell_type": "code",
   "execution_count": 8,
   "id": "450c21df",
   "metadata": {
    "scrolled": true
   },
   "outputs": [
    {
     "data": {
      "text/html": [
       "<div>\n",
       "<style scoped>\n",
       "    .dataframe tbody tr th:only-of-type {\n",
       "        vertical-align: middle;\n",
       "    }\n",
       "\n",
       "    .dataframe tbody tr th {\n",
       "        vertical-align: top;\n",
       "    }\n",
       "\n",
       "    .dataframe thead th {\n",
       "        text-align: right;\n",
       "    }\n",
       "</style>\n",
       "<table border=\"1\" class=\"dataframe\">\n",
       "  <thead>\n",
       "    <tr style=\"text-align: right;\">\n",
       "      <th></th>\n",
       "      <th>사고다발지역</th>\n",
       "      <th>병원</th>\n",
       "      <th>거리(km)</th>\n",
       "      <th>시간(분)</th>\n",
       "    </tr>\n",
       "  </thead>\n",
       "  <tbody>\n",
       "    <tr>\n",
       "      <th>0</th>\n",
       "      <td>제주특별자치도 제주시 노형동(제주양돈농협 부근)</td>\n",
       "      <td>제주한라병원</td>\n",
       "      <td>1300</td>\n",
       "      <td>5</td>\n",
       "    </tr>\n",
       "    <tr>\n",
       "      <th>1</th>\n",
       "      <td>제주특별자치도 제주시 일도이동(제주일도대림2차아파트 부근)</td>\n",
       "      <td>한마음병원</td>\n",
       "      <td>1000</td>\n",
       "      <td>1</td>\n",
       "    </tr>\n",
       "    <tr>\n",
       "      <th>2</th>\n",
       "      <td>제주특별자치도 서귀포시 동홍동(동홍중앙로2 부근)</td>\n",
       "      <td>서귀포의료원</td>\n",
       "      <td>1500</td>\n",
       "      <td>4</td>\n",
       "    </tr>\n",
       "    <tr>\n",
       "      <th>3</th>\n",
       "      <td>제주특별자치도 서귀포시 서귀동(중앙로타리 부근)</td>\n",
       "      <td>서귀포의료원</td>\n",
       "      <td>700</td>\n",
       "      <td>1</td>\n",
       "    </tr>\n",
       "    <tr>\n",
       "      <th>4</th>\n",
       "      <td>제주특별자치도 제주시 이도일동(스타벅스제주칠성점 부근)</td>\n",
       "      <td>한국병원</td>\n",
       "      <td>2500</td>\n",
       "      <td>6</td>\n",
       "    </tr>\n",
       "    <tr>\n",
       "      <th>5</th>\n",
       "      <td>제주특별자치도 제주시 일도일동(동문로터리 부근)</td>\n",
       "      <td>한국병원</td>\n",
       "      <td>2700</td>\n",
       "      <td>7</td>\n",
       "    </tr>\n",
       "    <tr>\n",
       "      <th>6</th>\n",
       "      <td>제주특별자치도 제주시 일도이동(호남석재사거리 부근)</td>\n",
       "      <td>한국병원</td>\n",
       "      <td>2500</td>\n",
       "      <td>5</td>\n",
       "    </tr>\n",
       "    <tr>\n",
       "      <th>7</th>\n",
       "      <td>제주특별자치도 제주시 이도이동(영도갤럭시타운 부근)</td>\n",
       "      <td>한국병원</td>\n",
       "      <td>2000</td>\n",
       "      <td>6</td>\n",
       "    </tr>\n",
       "    <tr>\n",
       "      <th>8</th>\n",
       "      <td>제주특별자치도 제주시 삼도일동(오라교 부근)</td>\n",
       "      <td>한국병원</td>\n",
       "      <td>200</td>\n",
       "      <td>1</td>\n",
       "    </tr>\n",
       "    <tr>\n",
       "      <th>9</th>\n",
       "      <td>제주특별자치도 제주시 용담이동(용문로100 부근)</td>\n",
       "      <td>한국병원</td>\n",
       "      <td>1800</td>\n",
       "      <td>4</td>\n",
       "    </tr>\n",
       "  </tbody>\n",
       "</table>\n",
       "</div>"
      ],
      "text/plain": [
       "                             사고다발지역      병원  거리(km)  시간(분)\n",
       "0        제주특별자치도 제주시 노형동(제주양돈농협 부근)  제주한라병원    1300      5\n",
       "1  제주특별자치도 제주시 일도이동(제주일도대림2차아파트 부근)   한마음병원    1000      1\n",
       "2       제주특별자치도 서귀포시 동홍동(동홍중앙로2 부근)  서귀포의료원    1500      4\n",
       "3        제주특별자치도 서귀포시 서귀동(중앙로타리 부근)  서귀포의료원     700      1\n",
       "4    제주특별자치도 제주시 이도일동(스타벅스제주칠성점 부근)    한국병원    2500      6\n",
       "5        제주특별자치도 제주시 일도일동(동문로터리 부근)    한국병원    2700      7\n",
       "6      제주특별자치도 제주시 일도이동(호남석재사거리 부근)    한국병원    2500      5\n",
       "7      제주특별자치도 제주시 이도이동(영도갤럭시타운 부근)    한국병원    2000      6\n",
       "8          제주특별자치도 제주시 삼도일동(오라교 부근)    한국병원     200      1\n",
       "9       제주특별자치도 제주시 용담이동(용문로100 부근)    한국병원    1800      4"
      ]
     },
     "execution_count": 8,
     "metadata": {},
     "output_type": "execute_result"
    }
   ],
   "source": [
    "jeju_data"
   ]
  },
  {
   "cell_type": "code",
   "execution_count": 9,
   "id": "4808963a",
   "metadata": {},
   "outputs": [],
   "source": [
    "# for i in jeju_data['거리(km)'].to_list():\n",
    "#     jeju_data['거리(km)'] = format(i,',')\n",
    "# jeju_data\n"
   ]
  },
  {
   "cell_type": "code",
   "execution_count": 10,
   "id": "5a140004",
   "metadata": {},
   "outputs": [],
   "source": [
    "chungnam_data = pd.read_csv('../[0]data/0-10_충남_사고다발지역_응급실현황_관계분석(결과).csv')"
   ]
  },
  {
   "cell_type": "code",
   "execution_count": 11,
   "id": "d11850b7",
   "metadata": {},
   "outputs": [
    {
     "data": {
      "text/html": [
       "<div>\n",
       "<style scoped>\n",
       "    .dataframe tbody tr th:only-of-type {\n",
       "        vertical-align: middle;\n",
       "    }\n",
       "\n",
       "    .dataframe tbody tr th {\n",
       "        vertical-align: top;\n",
       "    }\n",
       "\n",
       "    .dataframe thead th {\n",
       "        text-align: right;\n",
       "    }\n",
       "</style>\n",
       "<table border=\"1\" class=\"dataframe\">\n",
       "  <thead>\n",
       "    <tr style=\"text-align: right;\">\n",
       "      <th></th>\n",
       "      <th>사망자다발지역</th>\n",
       "      <th>병원</th>\n",
       "      <th>사망자다발지역.1</th>\n",
       "      <th>거리(km)</th>\n",
       "      <th>시간(분)</th>\n",
       "    </tr>\n",
       "  </thead>\n",
       "  <tbody>\n",
       "    <tr>\n",
       "      <th>0</th>\n",
       "      <td>충청남도 천안시 서북구 쌍용동(신구빌딩 부근)</td>\n",
       "      <td>순천향대학교병원</td>\n",
       "      <td>충청남도 천안시 서북구 쌍용동(신구빌딩 부근)</td>\n",
       "      <td>1600</td>\n",
       "      <td>6</td>\n",
       "    </tr>\n",
       "    <tr>\n",
       "      <th>1</th>\n",
       "      <td>충청남도 천안시 동남구 영성동(중앙교 부근)</td>\n",
       "      <td>순천향대학교병원</td>\n",
       "      <td>충청남도 천안시 동남구 영성동(중앙교 부근)</td>\n",
       "      <td>2400</td>\n",
       "      <td>9</td>\n",
       "    </tr>\n",
       "    <tr>\n",
       "      <th>2</th>\n",
       "      <td>충청남도 서산시 고운로 147</td>\n",
       "      <td>충청남도서산의료원</td>\n",
       "      <td>충청남도 서산시 고운로 147</td>\n",
       "      <td>1700</td>\n",
       "      <td>6</td>\n",
       "    </tr>\n",
       "    <tr>\n",
       "      <th>3</th>\n",
       "      <td>충청남도 태안군 태안읍 중앙로 91</td>\n",
       "      <td>충청남도서산의료원</td>\n",
       "      <td>충청남도 태안군 태안읍 중앙로 91</td>\n",
       "      <td>1500</td>\n",
       "      <td>25</td>\n",
       "    </tr>\n",
       "    <tr>\n",
       "      <th>4</th>\n",
       "      <td>충청남도 서산시 동문동(아시아마트 부근)</td>\n",
       "      <td>충청남도서산의료원</td>\n",
       "      <td>충청남도 서산시 동문동(아시아마트 부근)</td>\n",
       "      <td>17900</td>\n",
       "      <td>5</td>\n",
       "    </tr>\n",
       "    <tr>\n",
       "      <th>5</th>\n",
       "      <td>충청남도 부여군 부여읍(코롱얼음 부근)</td>\n",
       "      <td>논산백제병원</td>\n",
       "      <td>충청남도 부여군 부여읍(코롱얼음 부근)</td>\n",
       "      <td>10000</td>\n",
       "      <td>24</td>\n",
       "    </tr>\n",
       "    <tr>\n",
       "      <th>6</th>\n",
       "      <td>충청남도 논산시 화지동(대화로51 부근)</td>\n",
       "      <td>논산백제병원</td>\n",
       "      <td>충청남도 논산시 화지동(대화로51 부근)</td>\n",
       "      <td>24100</td>\n",
       "      <td>7</td>\n",
       "    </tr>\n",
       "    <tr>\n",
       "      <th>7</th>\n",
       "      <td>충청남도 서천군 서천읍(서천읍군사리68011 부근)</td>\n",
       "      <td>논산백제병원</td>\n",
       "      <td>충청남도 서천군 서천읍(서천읍군사리68011 부근)</td>\n",
       "      <td>2200</td>\n",
       "      <td>49</td>\n",
       "    </tr>\n",
       "    <tr>\n",
       "      <th>8</th>\n",
       "      <td>충청남도 서천군 서천읍(정금당입구 부근)</td>\n",
       "      <td>논산백제병원</td>\n",
       "      <td>충청남도 서천군 서천읍(정금당입구 부근)</td>\n",
       "      <td>57700</td>\n",
       "      <td>50</td>\n",
       "    </tr>\n",
       "    <tr>\n",
       "      <th>9</th>\n",
       "      <td>충청남도 당진시 읍내리(당진분식입구 부근)</td>\n",
       "      <td>당진종합병원</td>\n",
       "      <td>충청남도 당진시 읍내리(당진분식입구 부근)</td>\n",
       "      <td>57700</td>\n",
       "      <td>10</td>\n",
       "    </tr>\n",
       "    <tr>\n",
       "      <th>10</th>\n",
       "      <td>충청남도 예산군 예산읍(민속떡집 부근)</td>\n",
       "      <td>충청남도홍성의료원</td>\n",
       "      <td>충청남도 예산군 예산읍(민속떡집 부근)</td>\n",
       "      <td>6500</td>\n",
       "      <td>26</td>\n",
       "    </tr>\n",
       "    <tr>\n",
       "      <th>11</th>\n",
       "      <td>충청남도 홍성군 홍성읍(장군상오거리 부근)</td>\n",
       "      <td>충청남도홍성의료원</td>\n",
       "      <td>충청남도 홍성군 홍성읍(장군상오거리 부근)</td>\n",
       "      <td>22100</td>\n",
       "      <td>1</td>\n",
       "    </tr>\n",
       "    <tr>\n",
       "      <th>12</th>\n",
       "      <td>충청남도 예산군 광시면(예당로169 부근)</td>\n",
       "      <td>충청남도홍성의료원</td>\n",
       "      <td>충청남도 예산군 광시면(예당로169 부근)</td>\n",
       "      <td>371</td>\n",
       "      <td>16</td>\n",
       "    </tr>\n",
       "    <tr>\n",
       "      <th>13</th>\n",
       "      <td>충청남도 천안시 동남구 대흥동(서울꽃화원 부근)</td>\n",
       "      <td>충청남도천안의료원</td>\n",
       "      <td>충청남도 천안시 동남구 대흥동(서울꽃화원 부근)</td>\n",
       "      <td>14300</td>\n",
       "      <td>14</td>\n",
       "    </tr>\n",
       "    <tr>\n",
       "      <th>14</th>\n",
       "      <td>충청남도 천안시 서북구 성정동(맨하탄 부근)</td>\n",
       "      <td>충청남도천안의료원</td>\n",
       "      <td>충청남도 천안시 서북구 성정동(맨하탄 부근)</td>\n",
       "      <td>5400</td>\n",
       "      <td>20</td>\n",
       "    </tr>\n",
       "    <tr>\n",
       "      <th>15</th>\n",
       "      <td>충청남도 부여군 부여읍(코롱얼음 부근)</td>\n",
       "      <td>충청남도공주의료원</td>\n",
       "      <td>충청남도 부여군 부여읍(코롱얼음 부근)</td>\n",
       "      <td>9900</td>\n",
       "      <td>30</td>\n",
       "    </tr>\n",
       "    <tr>\n",
       "      <th>16</th>\n",
       "      <td>충청남도 청양군 청양읍(제비다방 부근)</td>\n",
       "      <td>보령아산병원</td>\n",
       "      <td>충청남도 청양군 청양읍(제비다방 부근)</td>\n",
       "      <td>32300</td>\n",
       "      <td>21</td>\n",
       "    </tr>\n",
       "    <tr>\n",
       "      <th>17</th>\n",
       "      <td>충청남도 보령시 대천동(경남사거리 부근)</td>\n",
       "      <td>보령아산병원</td>\n",
       "      <td>충청남도 보령시 대천동(경남사거리 부근)</td>\n",
       "      <td>23100</td>\n",
       "      <td>11</td>\n",
       "    </tr>\n",
       "    <tr>\n",
       "      <th>18</th>\n",
       "      <td>충청남도 보령시 동대동(녹십초키토산 부근)</td>\n",
       "      <td>보령아산병원</td>\n",
       "      <td>충청남도 보령시 동대동(녹십초키토산 부근)</td>\n",
       "      <td>5000</td>\n",
       "      <td>10</td>\n",
       "    </tr>\n",
       "  </tbody>\n",
       "</table>\n",
       "</div>"
      ],
      "text/plain": [
       "                         사망자다발지역         병원                     사망자다발지역.1  \\\n",
       "0      충청남도 천안시 서북구 쌍용동(신구빌딩 부근)   순천향대학교병원     충청남도 천안시 서북구 쌍용동(신구빌딩 부근)   \n",
       "1       충청남도 천안시 동남구 영성동(중앙교 부근)   순천향대학교병원      충청남도 천안시 동남구 영성동(중앙교 부근)   \n",
       "2               충청남도 서산시 고운로 147  충청남도서산의료원              충청남도 서산시 고운로 147   \n",
       "3            충청남도 태안군 태안읍 중앙로 91  충청남도서산의료원           충청남도 태안군 태안읍 중앙로 91   \n",
       "4         충청남도 서산시 동문동(아시아마트 부근)  충청남도서산의료원        충청남도 서산시 동문동(아시아마트 부근)   \n",
       "5          충청남도 부여군 부여읍(코롱얼음 부근)     논산백제병원         충청남도 부여군 부여읍(코롱얼음 부근)   \n",
       "6         충청남도 논산시 화지동(대화로51 부근)     논산백제병원        충청남도 논산시 화지동(대화로51 부근)   \n",
       "7   충청남도 서천군 서천읍(서천읍군사리68011 부근)     논산백제병원  충청남도 서천군 서천읍(서천읍군사리68011 부근)   \n",
       "8         충청남도 서천군 서천읍(정금당입구 부근)     논산백제병원        충청남도 서천군 서천읍(정금당입구 부근)   \n",
       "9        충청남도 당진시 읍내리(당진분식입구 부근)     당진종합병원       충청남도 당진시 읍내리(당진분식입구 부근)   \n",
       "10         충청남도 예산군 예산읍(민속떡집 부근)  충청남도홍성의료원         충청남도 예산군 예산읍(민속떡집 부근)   \n",
       "11       충청남도 홍성군 홍성읍(장군상오거리 부근)  충청남도홍성의료원       충청남도 홍성군 홍성읍(장군상오거리 부근)   \n",
       "12       충청남도 예산군 광시면(예당로169 부근)  충청남도홍성의료원       충청남도 예산군 광시면(예당로169 부근)   \n",
       "13    충청남도 천안시 동남구 대흥동(서울꽃화원 부근)  충청남도천안의료원    충청남도 천안시 동남구 대흥동(서울꽃화원 부근)   \n",
       "14      충청남도 천안시 서북구 성정동(맨하탄 부근)  충청남도천안의료원      충청남도 천안시 서북구 성정동(맨하탄 부근)   \n",
       "15         충청남도 부여군 부여읍(코롱얼음 부근)  충청남도공주의료원         충청남도 부여군 부여읍(코롱얼음 부근)   \n",
       "16         충청남도 청양군 청양읍(제비다방 부근)     보령아산병원         충청남도 청양군 청양읍(제비다방 부근)   \n",
       "17        충청남도 보령시 대천동(경남사거리 부근)     보령아산병원        충청남도 보령시 대천동(경남사거리 부근)   \n",
       "18       충청남도 보령시 동대동(녹십초키토산 부근)     보령아산병원       충청남도 보령시 동대동(녹십초키토산 부근)   \n",
       "\n",
       "    거리(km)  시간(분)  \n",
       "0     1600      6  \n",
       "1     2400      9  \n",
       "2     1700      6  \n",
       "3     1500     25  \n",
       "4    17900      5  \n",
       "5    10000     24  \n",
       "6    24100      7  \n",
       "7     2200     49  \n",
       "8    57700     50  \n",
       "9    57700     10  \n",
       "10    6500     26  \n",
       "11   22100      1  \n",
       "12     371     16  \n",
       "13   14300     14  \n",
       "14    5400     20  \n",
       "15    9900     30  \n",
       "16   32300     21  \n",
       "17   23100     11  \n",
       "18    5000     10  "
      ]
     },
     "execution_count": 11,
     "metadata": {},
     "output_type": "execute_result"
    }
   ],
   "source": [
    "chungnam_data"
   ]
  },
  {
   "cell_type": "code",
   "execution_count": 12,
   "id": "284147c6",
   "metadata": {},
   "outputs": [],
   "source": [
    "jeonnam_data = pd.read_csv('../[0]data/0-10_전남_사고다발지역_응급실현황_관계분석(결과).csv')"
   ]
  },
  {
   "cell_type": "code",
   "execution_count": 13,
   "id": "4a92b3e4",
   "metadata": {},
   "outputs": [
    {
     "data": {
      "text/html": [
       "<div>\n",
       "<style scoped>\n",
       "    .dataframe tbody tr th:only-of-type {\n",
       "        vertical-align: middle;\n",
       "    }\n",
       "\n",
       "    .dataframe tbody tr th {\n",
       "        vertical-align: top;\n",
       "    }\n",
       "\n",
       "    .dataframe thead th {\n",
       "        text-align: right;\n",
       "    }\n",
       "</style>\n",
       "<table border=\"1\" class=\"dataframe\">\n",
       "  <thead>\n",
       "    <tr style=\"text-align: right;\">\n",
       "      <th></th>\n",
       "      <th>사망자다발지역</th>\n",
       "      <th>병원</th>\n",
       "      <th>거리(km)</th>\n",
       "      <th>시간(분)</th>\n",
       "    </tr>\n",
       "  </thead>\n",
       "  <tbody>\n",
       "    <tr>\n",
       "      <th>0</th>\n",
       "      <td>전라남도 화순군 화순읍(새마을금고입구 부근)</td>\n",
       "      <td>화순전남대학교병원</td>\n",
       "      <td>1800</td>\n",
       "      <td>7</td>\n",
       "    </tr>\n",
       "    <tr>\n",
       "      <th>1</th>\n",
       "      <td>전라남도 화순군 화순읍(정자입구 부근)</td>\n",
       "      <td>화순전남대학교병원</td>\n",
       "      <td>1200</td>\n",
       "      <td>4</td>\n",
       "    </tr>\n",
       "    <tr>\n",
       "      <th>2</th>\n",
       "      <td>전라남도 영암군 시종면(마한로1276 부근)</td>\n",
       "      <td>의료법인목포구암의료재단 목포중앙병원</td>\n",
       "      <td>34600</td>\n",
       "      <td>35</td>\n",
       "    </tr>\n",
       "    <tr>\n",
       "      <th>3</th>\n",
       "      <td>전라남도 구례군 구례읍(구례읍봉북리854 부근)</td>\n",
       "      <td>근로복지공단 순천병원</td>\n",
       "      <td>33600</td>\n",
       "      <td>33</td>\n",
       "    </tr>\n",
       "    <tr>\n",
       "      <th>4</th>\n",
       "      <td>전라남도 순천시 조곡동(순천역앞역전거리 부근)</td>\n",
       "      <td>근로복지공단 순천병원</td>\n",
       "      <td>4600</td>\n",
       "      <td>15</td>\n",
       "    </tr>\n",
       "    <tr>\n",
       "      <th>5</th>\n",
       "      <td>전라남도 보성군 벌교읍(역전삼거리 부근)</td>\n",
       "      <td>근로복지공단 순천병원</td>\n",
       "      <td>26600</td>\n",
       "      <td>40</td>\n",
       "    </tr>\n",
       "    <tr>\n",
       "      <th>6</th>\n",
       "      <td>전라남도 나주시 이창동(이창1길1 부근)</td>\n",
       "      <td>나주종합병원</td>\n",
       "      <td>7200</td>\n",
       "      <td>9</td>\n",
       "    </tr>\n",
       "    <tr>\n",
       "      <th>7</th>\n",
       "      <td>전라남도 함평군 함평읍(KT함평지점입구 부근)</td>\n",
       "      <td>대송의료재단무안병원</td>\n",
       "      <td>11100</td>\n",
       "      <td>13</td>\n",
       "    </tr>\n",
       "    <tr>\n",
       "      <th>8</th>\n",
       "      <td>전라남도 목포시 용당동(연동파출소앞 부근)</td>\n",
       "      <td>목포시의료원</td>\n",
       "      <td>3100</td>\n",
       "      <td>8</td>\n",
       "    </tr>\n",
       "    <tr>\n",
       "      <th>9</th>\n",
       "      <td>전라남도 목포시 산정동(산정로1201 부근)</td>\n",
       "      <td>목포시의료원</td>\n",
       "      <td>2200</td>\n",
       "      <td>5</td>\n",
       "    </tr>\n",
       "    <tr>\n",
       "      <th>10</th>\n",
       "      <td>전라남도 목포시 대성동(청호로571 부근)</td>\n",
       "      <td>목포시의료원</td>\n",
       "      <td>3000</td>\n",
       "      <td>7</td>\n",
       "    </tr>\n",
       "    <tr>\n",
       "      <th>11</th>\n",
       "      <td>전라남도 목포시 명륜동(김양순내과의원 부근)</td>\n",
       "      <td>목포시의료원</td>\n",
       "      <td>3100</td>\n",
       "      <td>8</td>\n",
       "    </tr>\n",
       "    <tr>\n",
       "      <th>12</th>\n",
       "      <td>전라남도 목포시 호남동(남새싹2길남새싹5길 부근)</td>\n",
       "      <td>목포시의료원</td>\n",
       "      <td>3500</td>\n",
       "      <td>8</td>\n",
       "    </tr>\n",
       "    <tr>\n",
       "      <th>13</th>\n",
       "      <td>전라남도 신안군 압해읍(압해로887 부근)</td>\n",
       "      <td>목포시의료원</td>\n",
       "      <td>12800</td>\n",
       "      <td>21</td>\n",
       "    </tr>\n",
       "    <tr>\n",
       "      <th>14</th>\n",
       "      <td>전라남도 여수시 충무동(한재사거리 부근)</td>\n",
       "      <td>여수전남병원</td>\n",
       "      <td>4400</td>\n",
       "      <td>7</td>\n",
       "    </tr>\n",
       "    <tr>\n",
       "      <th>15</th>\n",
       "      <td>전라남도 여수시 서교동(중앙로17 부근)</td>\n",
       "      <td>여수전남병원</td>\n",
       "      <td>1000</td>\n",
       "      <td>4</td>\n",
       "    </tr>\n",
       "    <tr>\n",
       "      <th>16</th>\n",
       "      <td>전라남도 여수시 공화동(공화동사거리 부근)</td>\n",
       "      <td>여수전남병원</td>\n",
       "      <td>4700</td>\n",
       "      <td>8</td>\n",
       "    </tr>\n",
       "    <tr>\n",
       "      <th>17</th>\n",
       "      <td>전라남도 영광군 영광읍(영광종합터미널사거리 부근)</td>\n",
       "      <td>영광종합병원</td>\n",
       "      <td>1200</td>\n",
       "      <td>3</td>\n",
       "    </tr>\n",
       "    <tr>\n",
       "      <th>18</th>\n",
       "      <td>전라남도 진도군 진도읍(진도읍남동리7322 부근)</td>\n",
       "      <td>의료법인행촌의료재단 해남종합병원</td>\n",
       "      <td>47800</td>\n",
       "      <td>41</td>\n",
       "    </tr>\n",
       "    <tr>\n",
       "      <th>19</th>\n",
       "      <td>전라남도 해남군 해남읍(해남군수협 부근)</td>\n",
       "      <td>의료법인행촌의료재단 해남종합병원</td>\n",
       "      <td>2200</td>\n",
       "      <td>5</td>\n",
       "    </tr>\n",
       "  </tbody>\n",
       "</table>\n",
       "</div>"
      ],
      "text/plain": [
       "                        사망자다발지역                   병원  거리(km)  시간(분)\n",
       "0      전라남도 화순군 화순읍(새마을금고입구 부근)            화순전남대학교병원    1800      7\n",
       "1         전라남도 화순군 화순읍(정자입구 부근)            화순전남대학교병원    1200      4\n",
       "2      전라남도 영암군 시종면(마한로1276 부근)  의료법인목포구암의료재단 목포중앙병원   34600     35\n",
       "3    전라남도 구례군 구례읍(구례읍봉북리854 부근)          근로복지공단 순천병원   33600     33\n",
       "4     전라남도 순천시 조곡동(순천역앞역전거리 부근)          근로복지공단 순천병원    4600     15\n",
       "5        전라남도 보성군 벌교읍(역전삼거리 부근)          근로복지공단 순천병원   26600     40\n",
       "6        전라남도 나주시 이창동(이창1길1 부근)               나주종합병원    7200      9\n",
       "7     전라남도 함평군 함평읍(KT함평지점입구 부근)           대송의료재단무안병원   11100     13\n",
       "8       전라남도 목포시 용당동(연동파출소앞 부근)               목포시의료원    3100      8\n",
       "9      전라남도 목포시 산정동(산정로1201 부근)               목포시의료원    2200      5\n",
       "10      전라남도 목포시 대성동(청호로571 부근)               목포시의료원    3000      7\n",
       "11     전라남도 목포시 명륜동(김양순내과의원 부근)               목포시의료원    3100      8\n",
       "12  전라남도 목포시 호남동(남새싹2길남새싹5길 부근)               목포시의료원    3500      8\n",
       "13      전라남도 신안군 압해읍(압해로887 부근)               목포시의료원   12800     21\n",
       "14       전라남도 여수시 충무동(한재사거리 부근)               여수전남병원    4400      7\n",
       "15       전라남도 여수시 서교동(중앙로17 부근)               여수전남병원    1000      4\n",
       "16      전라남도 여수시 공화동(공화동사거리 부근)               여수전남병원    4700      8\n",
       "17  전라남도 영광군 영광읍(영광종합터미널사거리 부근)               영광종합병원    1200      3\n",
       "18  전라남도 진도군 진도읍(진도읍남동리7322 부근)    의료법인행촌의료재단 해남종합병원   47800     41\n",
       "19       전라남도 해남군 해남읍(해남군수협 부근)    의료법인행촌의료재단 해남종합병원    2200      5"
      ]
     },
     "execution_count": 13,
     "metadata": {},
     "output_type": "execute_result"
    }
   ],
   "source": [
    "jeonnam_data "
   ]
  },
  {
   "cell_type": "code",
   "execution_count": 14,
   "id": "cae3fbf1",
   "metadata": {
    "scrolled": false
   },
   "outputs": [
    {
     "data": {
      "text/plain": [
       "{'whiskers': [<matplotlib.lines.Line2D at 0x7fd4e8d8c250>,\n",
       "  <matplotlib.lines.Line2D at 0x7fd4e8d8c5b0>],\n",
       " 'caps': [<matplotlib.lines.Line2D at 0x7fd4e8d8c910>,\n",
       "  <matplotlib.lines.Line2D at 0x7fd4e8d8cc70>],\n",
       " 'boxes': [<matplotlib.lines.Line2D at 0x7fd50c17deb0>],\n",
       " 'medians': [<matplotlib.lines.Line2D at 0x7fd4e8d8cfd0>],\n",
       " 'fliers': [<matplotlib.lines.Line2D at 0x7fd4e8d9a370>],\n",
       " 'means': []}"
      ]
     },
     "execution_count": 14,
     "metadata": {},
     "output_type": "execute_result"
    },
    {
     "data": {
      "image/png": "[encoded data removed]",
      "text/plain": [
       "<Figure size 432x288 with 1 Axes>"
      ]
     },
     "metadata": {
      "needs_background": "light"
     },
     "output_type": "display_data"
    }
   ],
   "source": [
    "plt.boxplot(jeju_data['거리(km)'])"
   ]
  },
  {
   "cell_type": "code",
   "execution_count": 15,
   "id": "0e02a273",
   "metadata": {},
   "outputs": [
    {
     "data": {
      "text/plain": [
       "[<matplotlib.axis.XTick at 0x7fd4f81e9dc0>,\n",
       " <matplotlib.axis.XTick at 0x7fd4f81e9d90>,\n",
       " <matplotlib.axis.XTick at 0x7fd4f820e1f0>]"
      ]
     },
     "execution_count": 15,
     "metadata": {},
     "output_type": "execute_result"
    },
    {
     "data": {
      "text/plain": [
       "[Text(0, 0, '제주'), Text(1, 0, '전남'), Text(2, 0, '충남')]"
      ]
     },
     "execution_count": 15,
     "metadata": {},
     "output_type": "execute_result"
    },
    {
     "data": {
      "image/png": "[encoded data removed]",
      "text/plain": [
       "<Figure size 720x720 with 1 Axes>"
      ]
     },
     "metadata": {},
     "output_type": "display_data"
    }
   ],
   "source": [
    "sns.set(font=\"AppleGothic\", \n",
    "        rc={\"axes.unicode_minus\":False},\n",
    "        style='darkgrid')\n",
    "plt.rcParams[\"figure.figsize\"] = (10, 10)\n",
    "\n",
    "\n",
    "total_data = sns.boxplot(data = [jeju_data['거리(km)'], \n",
    "                                 jeonnam_data['거리(km)'], \n",
    "                                 chungnam_data['거리(km)']])\n",
    "\n",
    "total_data.set_xticks(range(0,3))\n",
    "total_data.set_xticklabels(['제주','전남','충남'])\n",
    "plt.show()"
   ]
  },
  {
   "cell_type": "code",
   "execution_count": 16,
   "id": "7c89fdae",
   "metadata": {},
   "outputs": [
    {
     "data": {
      "text/plain": [
       "<AxesSubplot:>"
      ]
     },
     "execution_count": 16,
     "metadata": {},
     "output_type": "execute_result"
    },
    {
     "data": {
      "image/png": "[encoded data removed]",
      "text/plain": [
       "<Figure size 720x720 with 1 Axes>"
      ]
     },
     "metadata": {},
     "output_type": "display_data"
    }
   ],
   "source": [
    "sns.swarmplot(data = [jeju_data['거리(km)'],jeonnam_data['거리(km)'],chungnam_data['거리(km)']])"
   ]
  },
  {
   "cell_type": "code",
   "execution_count": 17,
   "id": "3c1fd366",
   "metadata": {},
   "outputs": [],
   "source": [
    "jeju_aray = np.array(jeju_data['거리(km)'])"
   ]
  },
  {
   "cell_type": "code",
   "execution_count": 18,
   "id": "3979f5d6",
   "metadata": {},
   "outputs": [
    {
     "data": {
      "text/plain": [
       "array([1300, 1000, 1500,  700, 2500, 2700, 2500, 2000,  200, 1800])"
      ]
     },
     "execution_count": 18,
     "metadata": {},
     "output_type": "execute_result"
    }
   ],
   "source": [
    "jeju_aray"
   ]
  },
  {
   "cell_type": "code",
   "execution_count": 19,
   "id": "71880a0f",
   "metadata": {},
   "outputs": [],
   "source": [
    "# fig, ax = plt.subplots()\n",
    "\n",
    "# violin = ax.violinplot(jeju_aray, showmeans=True)"
   ]
  },
  {
   "cell_type": "code",
   "execution_count": 20,
   "id": "4fb8809a",
   "metadata": {
    "scrolled": false
   },
   "outputs": [
    {
     "data": {
      "text/plain": [
       "{'whiskers': [<matplotlib.lines.Line2D at 0x7fd4f83aec70>,\n",
       "  <matplotlib.lines.Line2D at 0x7fd4f83aefd0>],\n",
       " 'caps': [<matplotlib.lines.Line2D at 0x7fd4f83be370>,\n",
       "  <matplotlib.lines.Line2D at 0x7fd4f83be6d0>],\n",
       " 'boxes': [<matplotlib.lines.Line2D at 0x7fd4f83ae910>],\n",
       " 'medians': [<matplotlib.lines.Line2D at 0x7fd4f83bea30>],\n",
       " 'fliers': [<matplotlib.lines.Line2D at 0x7fd4f83bed90>],\n",
       " 'means': []}"
      ]
     },
     "execution_count": 20,
     "metadata": {},
     "output_type": "execute_result"
    },
    {
     "data": {
      "image/png": "[encoded data removed]",
      "text/plain": [
       "<Figure size 720x720 with 1 Axes>"
      ]
     },
     "metadata": {},
     "output_type": "display_data"
    }
   ],
   "source": [
    "plt.boxplot(jeonnam_data['거리(km)'])"
   ]
  },
  {
   "cell_type": "code",
   "execution_count": 21,
   "id": "686b2cce",
   "metadata": {},
   "outputs": [
    {
     "data": {
      "text/plain": [
       "{'whiskers': [<matplotlib.lines.Line2D at 0x7fd4e8e453a0>,\n",
       "  <matplotlib.lines.Line2D at 0x7fd4e8e45700>],\n",
       " 'caps': [<matplotlib.lines.Line2D at 0x7fd4e8e45a60>,\n",
       "  <matplotlib.lines.Line2D at 0x7fd4e8e45dc0>],\n",
       " 'boxes': [<matplotlib.lines.Line2D at 0x7fd4e8e45040>],\n",
       " 'medians': [<matplotlib.lines.Line2D at 0x7fd50c10a130>],\n",
       " 'fliers': [<matplotlib.lines.Line2D at 0x7fd50c10a490>],\n",
       " 'means': []}"
      ]
     },
     "execution_count": 21,
     "metadata": {},
     "output_type": "execute_result"
    },
    {
     "data": {
      "image/png": "[encoded data removed]",
      "text/plain": [
       "<Figure size 720x720 with 1 Axes>"
      ]
     },
     "metadata": {},
     "output_type": "display_data"
    }
   ],
   "source": [
    "plt.boxplot(chungnam_data['거리(km)'])"
   ]
  },
  {
   "cell_type": "code",
   "execution_count": 22,
   "id": "1522085c",
   "metadata": {
    "scrolled": false
   },
   "outputs": [
    {
     "data": {
      "text/plain": [
       "{'whiskers': [<matplotlib.lines.Line2D at 0x7fd50c1a90d0>,\n",
       "  <matplotlib.lines.Line2D at 0x7fd50c1a9220>,\n",
       "  <matplotlib.lines.Line2D at 0x7fd50c1b5670>,\n",
       "  <matplotlib.lines.Line2D at 0x7fd50c1b59d0>,\n",
       "  <matplotlib.lines.Line2D at 0x7fd50c1c2e50>,\n",
       "  <matplotlib.lines.Line2D at 0x7fd50c22f1f0>],\n",
       " 'caps': [<matplotlib.lines.Line2D at 0x7fd50c1a9580>,\n",
       "  <matplotlib.lines.Line2D at 0x7fd50c1a98b0>,\n",
       "  <matplotlib.lines.Line2D at 0x7fd50c1b5d30>,\n",
       "  <matplotlib.lines.Line2D at 0x7fd50c1c20d0>,\n",
       "  <matplotlib.lines.Line2D at 0x7fd50c22f550>,\n",
       "  <matplotlib.lines.Line2D at 0x7fd50c22f8b0>],\n",
       " 'boxes': [<matplotlib.lines.Line2D at 0x7fd50c198d00>,\n",
       "  <matplotlib.lines.Line2D at 0x7fd50c1b5310>,\n",
       "  <matplotlib.lines.Line2D at 0x7fd50c1c2af0>],\n",
       " 'medians': [<matplotlib.lines.Line2D at 0x7fd50c1a9c10>,\n",
       "  <matplotlib.lines.Line2D at 0x7fd50c1c2430>,\n",
       "  <matplotlib.lines.Line2D at 0x7fd50c22fc10>],\n",
       " 'fliers': [<matplotlib.lines.Line2D at 0x7fd50c1a9f70>,\n",
       "  <matplotlib.lines.Line2D at 0x7fd50c1c2790>,\n",
       "  <matplotlib.lines.Line2D at 0x7fd50c22ff70>],\n",
       " 'means': []}"
      ]
     },
     "execution_count": 22,
     "metadata": {},
     "output_type": "execute_result"
    },
    {
     "data": {
      "image/png": "[encoded data removed]",
      "text/plain": [
       "<Figure size 720x720 with 1 Axes>"
      ]
     },
     "metadata": {},
     "output_type": "display_data"
    }
   ],
   "source": [
    "fig, ax = plt.subplots()\n",
    "\n",
    "ax.boxplot([jeju_data['거리(km)'], jeonnam_data['거리(km)'], chungnam_data['거리(km)']])"
   ]
  },
  {
   "cell_type": "code",
   "execution_count": 23,
   "id": "1a3eec2b",
   "metadata": {},
   "outputs": [],
   "source": [
    "all_data = pd.read_csv('../[0]data/0-10_충남_전남_사고다발지역_응급실현황_관계분석(결과).csv')"
   ]
  },
  {
   "cell_type": "code",
   "execution_count": 24,
   "id": "03f12a48",
   "metadata": {
    "scrolled": true
   },
   "outputs": [
    {
     "data": {
      "text/html": [
       "<div>\n",
       "<style scoped>\n",
       "    .dataframe tbody tr th:only-of-type {\n",
       "        vertical-align: middle;\n",
       "    }\n",
       "\n",
       "    .dataframe tbody tr th {\n",
       "        vertical-align: top;\n",
       "    }\n",
       "\n",
       "    .dataframe thead th {\n",
       "        text-align: right;\n",
       "    }\n",
       "</style>\n",
       "<table border=\"1\" class=\"dataframe\">\n",
       "  <thead>\n",
       "    <tr style=\"text-align: right;\">\n",
       "      <th></th>\n",
       "      <th>사망자다발지역</th>\n",
       "      <th>병원</th>\n",
       "      <th>거리(km)</th>\n",
       "      <th>시간(분)</th>\n",
       "    </tr>\n",
       "  </thead>\n",
       "  <tbody>\n",
       "    <tr>\n",
       "      <th>0</th>\n",
       "      <td>충청남도 천안시 서북구 쌍용동(신구빌딩 부근)</td>\n",
       "      <td>순천향대학교병원</td>\n",
       "      <td>1600</td>\n",
       "      <td>6</td>\n",
       "    </tr>\n",
       "    <tr>\n",
       "      <th>1</th>\n",
       "      <td>충청남도 천안시 동남구 영성동(중앙교 부근)</td>\n",
       "      <td>순천향대학교병원</td>\n",
       "      <td>2400</td>\n",
       "      <td>9</td>\n",
       "    </tr>\n",
       "    <tr>\n",
       "      <th>2</th>\n",
       "      <td>충청남도 서산시 고운로 147</td>\n",
       "      <td>충청남도서산의료원</td>\n",
       "      <td>1700</td>\n",
       "      <td>6</td>\n",
       "    </tr>\n",
       "    <tr>\n",
       "      <th>3</th>\n",
       "      <td>충청남도 태안군 태안읍 중앙로 91</td>\n",
       "      <td>충청남도서산의료원</td>\n",
       "      <td>1500</td>\n",
       "      <td>25</td>\n",
       "    </tr>\n",
       "    <tr>\n",
       "      <th>4</th>\n",
       "      <td>충청남도 서산시 동문동(아시아마트 부근)</td>\n",
       "      <td>충청남도서산의료원</td>\n",
       "      <td>17900</td>\n",
       "      <td>5</td>\n",
       "    </tr>\n",
       "    <tr>\n",
       "      <th>5</th>\n",
       "      <td>충청남도 부여군 부여읍(코롱얼음 부근)</td>\n",
       "      <td>논산백제병원</td>\n",
       "      <td>10000</td>\n",
       "      <td>24</td>\n",
       "    </tr>\n",
       "    <tr>\n",
       "      <th>6</th>\n",
       "      <td>충청남도 논산시 화지동(대화로51 부근)</td>\n",
       "      <td>논산백제병원</td>\n",
       "      <td>24100</td>\n",
       "      <td>7</td>\n",
       "    </tr>\n",
       "    <tr>\n",
       "      <th>7</th>\n",
       "      <td>충청남도 서천군 서천읍(서천읍군사리68011 부근)</td>\n",
       "      <td>논산백제병원</td>\n",
       "      <td>2200</td>\n",
       "      <td>49</td>\n",
       "    </tr>\n",
       "    <tr>\n",
       "      <th>8</th>\n",
       "      <td>충청남도 서천군 서천읍(정금당입구 부근)</td>\n",
       "      <td>논산백제병원</td>\n",
       "      <td>57700</td>\n",
       "      <td>50</td>\n",
       "    </tr>\n",
       "    <tr>\n",
       "      <th>9</th>\n",
       "      <td>충청남도 당진시 읍내리(당진분식입구 부근)</td>\n",
       "      <td>당진종합병원</td>\n",
       "      <td>57700</td>\n",
       "      <td>10</td>\n",
       "    </tr>\n",
       "    <tr>\n",
       "      <th>10</th>\n",
       "      <td>충청남도 예산군 예산읍(민속떡집 부근)</td>\n",
       "      <td>충청남도홍성의료원</td>\n",
       "      <td>6500</td>\n",
       "      <td>26</td>\n",
       "    </tr>\n",
       "    <tr>\n",
       "      <th>11</th>\n",
       "      <td>충청남도 홍성군 홍성읍(장군상오거리 부근)</td>\n",
       "      <td>충청남도홍성의료원</td>\n",
       "      <td>22100</td>\n",
       "      <td>1</td>\n",
       "    </tr>\n",
       "    <tr>\n",
       "      <th>12</th>\n",
       "      <td>충청남도 예산군 광시면(예당로169 부근)</td>\n",
       "      <td>충청남도홍성의료원</td>\n",
       "      <td>371</td>\n",
       "      <td>16</td>\n",
       "    </tr>\n",
       "    <tr>\n",
       "      <th>13</th>\n",
       "      <td>충청남도 천안시 동남구 대흥동(서울꽃화원 부근)</td>\n",
       "      <td>충청남도천안의료원</td>\n",
       "      <td>14300</td>\n",
       "      <td>14</td>\n",
       "    </tr>\n",
       "    <tr>\n",
       "      <th>14</th>\n",
       "      <td>충청남도 천안시 서북구 성정동(맨하탄 부근)</td>\n",
       "      <td>충청남도천안의료원</td>\n",
       "      <td>5400</td>\n",
       "      <td>20</td>\n",
       "    </tr>\n",
       "    <tr>\n",
       "      <th>15</th>\n",
       "      <td>충청남도 부여군 부여읍(코롱얼음 부근)</td>\n",
       "      <td>충청남도공주의료원</td>\n",
       "      <td>9900</td>\n",
       "      <td>30</td>\n",
       "    </tr>\n",
       "    <tr>\n",
       "      <th>16</th>\n",
       "      <td>충청남도 청양군 청양읍(제비다방 부근)</td>\n",
       "      <td>보령아산병원</td>\n",
       "      <td>32300</td>\n",
       "      <td>21</td>\n",
       "    </tr>\n",
       "    <tr>\n",
       "      <th>17</th>\n",
       "      <td>충청남도 보령시 대천동(경남사거리 부근)</td>\n",
       "      <td>보령아산병원</td>\n",
       "      <td>23100</td>\n",
       "      <td>11</td>\n",
       "    </tr>\n",
       "    <tr>\n",
       "      <th>18</th>\n",
       "      <td>충청남도 보령시 동대동(녹십초키토산 부근)</td>\n",
       "      <td>보령아산병원</td>\n",
       "      <td>5000</td>\n",
       "      <td>10</td>\n",
       "    </tr>\n",
       "    <tr>\n",
       "      <th>19</th>\n",
       "      <td>전라남도 화순군 화순읍(새마을금고입구 부근)</td>\n",
       "      <td>화순전남대학교병원</td>\n",
       "      <td>1800</td>\n",
       "      <td>7</td>\n",
       "    </tr>\n",
       "    <tr>\n",
       "      <th>20</th>\n",
       "      <td>전라남도 화순군 화순읍(정자입구 부근)</td>\n",
       "      <td>화순전남대학교병원</td>\n",
       "      <td>1200</td>\n",
       "      <td>4</td>\n",
       "    </tr>\n",
       "    <tr>\n",
       "      <th>21</th>\n",
       "      <td>전라남도 영암군 시종면(마한로1276 부근)</td>\n",
       "      <td>의료법인목포구암의료재단 목포중앙병원</td>\n",
       "      <td>34600</td>\n",
       "      <td>35</td>\n",
       "    </tr>\n",
       "    <tr>\n",
       "      <th>22</th>\n",
       "      <td>전라남도 구례군 구례읍(구례읍봉북리854 부근)</td>\n",
       "      <td>근로복지공단 순천병원</td>\n",
       "      <td>33600</td>\n",
       "      <td>33</td>\n",
       "    </tr>\n",
       "    <tr>\n",
       "      <th>23</th>\n",
       "      <td>전라남도 순천시 조곡동(순천역앞역전거리 부근)</td>\n",
       "      <td>근로복지공단 순천병원</td>\n",
       "      <td>4600</td>\n",
       "      <td>15</td>\n",
       "    </tr>\n",
       "    <tr>\n",
       "      <th>24</th>\n",
       "      <td>전라남도 보성군 벌교읍(역전삼거리 부근)</td>\n",
       "      <td>근로복지공단 순천병원</td>\n",
       "      <td>26600</td>\n",
       "      <td>40</td>\n",
       "    </tr>\n",
       "    <tr>\n",
       "      <th>25</th>\n",
       "      <td>전라남도 나주시 이창동(이창1길1 부근)</td>\n",
       "      <td>나주종합병원</td>\n",
       "      <td>7200</td>\n",
       "      <td>9</td>\n",
       "    </tr>\n",
       "    <tr>\n",
       "      <th>26</th>\n",
       "      <td>전라남도 함평군 함평읍(KT함평지점입구 부근)</td>\n",
       "      <td>대송의료재단무안병원</td>\n",
       "      <td>11100</td>\n",
       "      <td>13</td>\n",
       "    </tr>\n",
       "    <tr>\n",
       "      <th>27</th>\n",
       "      <td>전라남도 목포시 용당동(연동파출소앞 부근)</td>\n",
       "      <td>목포시의료원</td>\n",
       "      <td>3100</td>\n",
       "      <td>8</td>\n",
       "    </tr>\n",
       "    <tr>\n",
       "      <th>28</th>\n",
       "      <td>전라남도 목포시 산정동(산정로1201 부근)</td>\n",
       "      <td>목포시의료원</td>\n",
       "      <td>2200</td>\n",
       "      <td>5</td>\n",
       "    </tr>\n",
       "    <tr>\n",
       "      <th>29</th>\n",
       "      <td>전라남도 목포시 대성동(청호로571 부근)</td>\n",
       "      <td>목포시의료원</td>\n",
       "      <td>3000</td>\n",
       "      <td>7</td>\n",
       "    </tr>\n",
       "    <tr>\n",
       "      <th>30</th>\n",
       "      <td>전라남도 목포시 명륜동(김양순내과의원 부근)</td>\n",
       "      <td>목포시의료원</td>\n",
       "      <td>3100</td>\n",
       "      <td>8</td>\n",
       "    </tr>\n",
       "    <tr>\n",
       "      <th>31</th>\n",
       "      <td>전라남도 목포시 호남동(남새싹2길남새싹5길 부근)</td>\n",
       "      <td>목포시의료원</td>\n",
       "      <td>3500</td>\n",
       "      <td>8</td>\n",
       "    </tr>\n",
       "    <tr>\n",
       "      <th>32</th>\n",
       "      <td>전라남도 신안군 압해읍(압해로887 부근)</td>\n",
       "      <td>목포시의료원</td>\n",
       "      <td>12800</td>\n",
       "      <td>21</td>\n",
       "    </tr>\n",
       "    <tr>\n",
       "      <th>33</th>\n",
       "      <td>전라남도 여수시 충무동(한재사거리 부근)</td>\n",
       "      <td>여수전남병원</td>\n",
       "      <td>4400</td>\n",
       "      <td>7</td>\n",
       "    </tr>\n",
       "    <tr>\n",
       "      <th>34</th>\n",
       "      <td>전라남도 여수시 서교동(중앙로17 부근)</td>\n",
       "      <td>여수전남병원</td>\n",
       "      <td>1000</td>\n",
       "      <td>4</td>\n",
       "    </tr>\n",
       "    <tr>\n",
       "      <th>35</th>\n",
       "      <td>전라남도 여수시 공화동(공화동사거리 부근)</td>\n",
       "      <td>여수전남병원</td>\n",
       "      <td>4700</td>\n",
       "      <td>8</td>\n",
       "    </tr>\n",
       "    <tr>\n",
       "      <th>36</th>\n",
       "      <td>전라남도 영광군 영광읍(영광종합터미널사거리 부근)</td>\n",
       "      <td>영광종합병원</td>\n",
       "      <td>1200</td>\n",
       "      <td>3</td>\n",
       "    </tr>\n",
       "    <tr>\n",
       "      <th>37</th>\n",
       "      <td>전라남도 진도군 진도읍(진도읍남동리7322 부근)</td>\n",
       "      <td>의료법인행촌의료재단 해남종합병원</td>\n",
       "      <td>47800</td>\n",
       "      <td>41</td>\n",
       "    </tr>\n",
       "    <tr>\n",
       "      <th>38</th>\n",
       "      <td>전라남도 해남군 해남읍(해남군수협 부근)</td>\n",
       "      <td>의료법인행촌의료재단 해남종합병원</td>\n",
       "      <td>2200</td>\n",
       "      <td>5</td>\n",
       "    </tr>\n",
       "  </tbody>\n",
       "</table>\n",
       "</div>"
      ],
      "text/plain": [
       "                         사망자다발지역                   병원  거리(km)  시간(분)\n",
       "0      충청남도 천안시 서북구 쌍용동(신구빌딩 부근)             순천향대학교병원    1600      6\n",
       "1       충청남도 천안시 동남구 영성동(중앙교 부근)             순천향대학교병원    2400      9\n",
       "2               충청남도 서산시 고운로 147            충청남도서산의료원    1700      6\n",
       "3            충청남도 태안군 태안읍 중앙로 91            충청남도서산의료원    1500     25\n",
       "4         충청남도 서산시 동문동(아시아마트 부근)            충청남도서산의료원   17900      5\n",
       "5          충청남도 부여군 부여읍(코롱얼음 부근)               논산백제병원   10000     24\n",
       "6         충청남도 논산시 화지동(대화로51 부근)               논산백제병원   24100      7\n",
       "7   충청남도 서천군 서천읍(서천읍군사리68011 부근)               논산백제병원    2200     49\n",
       "8         충청남도 서천군 서천읍(정금당입구 부근)               논산백제병원   57700     50\n",
       "9        충청남도 당진시 읍내리(당진분식입구 부근)               당진종합병원   57700     10\n",
       "10         충청남도 예산군 예산읍(민속떡집 부근)            충청남도홍성의료원    6500     26\n",
       "11       충청남도 홍성군 홍성읍(장군상오거리 부근)            충청남도홍성의료원   22100      1\n",
       "12       충청남도 예산군 광시면(예당로169 부근)            충청남도홍성의료원     371     16\n",
       "13    충청남도 천안시 동남구 대흥동(서울꽃화원 부근)            충청남도천안의료원   14300     14\n",
       "14      충청남도 천안시 서북구 성정동(맨하탄 부근)            충청남도천안의료원    5400     20\n",
       "15         충청남도 부여군 부여읍(코롱얼음 부근)            충청남도공주의료원    9900     30\n",
       "16         충청남도 청양군 청양읍(제비다방 부근)               보령아산병원   32300     21\n",
       "17        충청남도 보령시 대천동(경남사거리 부근)               보령아산병원   23100     11\n",
       "18       충청남도 보령시 동대동(녹십초키토산 부근)               보령아산병원    5000     10\n",
       "19      전라남도 화순군 화순읍(새마을금고입구 부근)            화순전남대학교병원    1800      7\n",
       "20         전라남도 화순군 화순읍(정자입구 부근)            화순전남대학교병원    1200      4\n",
       "21      전라남도 영암군 시종면(마한로1276 부근)  의료법인목포구암의료재단 목포중앙병원   34600     35\n",
       "22    전라남도 구례군 구례읍(구례읍봉북리854 부근)          근로복지공단 순천병원   33600     33\n",
       "23     전라남도 순천시 조곡동(순천역앞역전거리 부근)          근로복지공단 순천병원    4600     15\n",
       "24        전라남도 보성군 벌교읍(역전삼거리 부근)          근로복지공단 순천병원   26600     40\n",
       "25        전라남도 나주시 이창동(이창1길1 부근)               나주종합병원    7200      9\n",
       "26     전라남도 함평군 함평읍(KT함평지점입구 부근)           대송의료재단무안병원   11100     13\n",
       "27       전라남도 목포시 용당동(연동파출소앞 부근)               목포시의료원    3100      8\n",
       "28      전라남도 목포시 산정동(산정로1201 부근)               목포시의료원    2200      5\n",
       "29       전라남도 목포시 대성동(청호로571 부근)               목포시의료원    3000      7\n",
       "30      전라남도 목포시 명륜동(김양순내과의원 부근)               목포시의료원    3100      8\n",
       "31   전라남도 목포시 호남동(남새싹2길남새싹5길 부근)               목포시의료원    3500      8\n",
       "32       전라남도 신안군 압해읍(압해로887 부근)               목포시의료원   12800     21\n",
       "33        전라남도 여수시 충무동(한재사거리 부근)               여수전남병원    4400      7\n",
       "34        전라남도 여수시 서교동(중앙로17 부근)               여수전남병원    1000      4\n",
       "35       전라남도 여수시 공화동(공화동사거리 부근)               여수전남병원    4700      8\n",
       "36   전라남도 영광군 영광읍(영광종합터미널사거리 부근)               영광종합병원    1200      3\n",
       "37   전라남도 진도군 진도읍(진도읍남동리7322 부근)    의료법인행촌의료재단 해남종합병원   47800     41\n",
       "38        전라남도 해남군 해남읍(해남군수협 부근)    의료법인행촌의료재단 해남종합병원    2200      5"
      ]
     },
     "execution_count": 24,
     "metadata": {},
     "output_type": "execute_result"
    }
   ],
   "source": [
    "all_data"
   ]
  },
  {
   "cell_type": "code",
   "execution_count": 46,
   "id": "8660108a",
   "metadata": {
    "scrolled": false
   },
   "outputs": [
    {
     "data": {
      "text/plain": [
       "[<matplotlib.axis.XTick at 0x7fd4d8f23f40>,\n",
       " <matplotlib.axis.XTick at 0x7fd4d8f23f70>,\n",
       " <matplotlib.axis.XTick at 0x7fd4e9c83880>,\n",
       " <matplotlib.axis.XTick at 0x7fd50d5fc460>]"
      ]
     },
     "execution_count": 46,
     "metadata": {},
     "output_type": "execute_result"
    },
    {
     "data": {
      "text/plain": [
       "[Text(0, 0, '제주'), Text(1, 0, '전남'), Text(2, 0, '충남'), Text(3, 0, '전남+충남')]"
      ]
     },
     "execution_count": 46,
     "metadata": {},
     "output_type": "execute_result"
    },
    {
     "name": "stderr",
     "output_type": "stream",
     "text": [
      "<ipython-input-46-7acbf1264598>:14: UserWarning: FixedFormatter should only be used together with FixedLocator\n",
      "  total_top3_data.set_yticklabels(['0','0km','10km','20km','30km','40km','50km','60km'], fontsize='small')\n"
     ]
    },
    {
     "data": {
      "text/plain": [
       "[Text(0, -10000.0, '0'),\n",
       " Text(0, 0.0, '0km'),\n",
       " Text(0, 10000.0, '10km'),\n",
       " Text(0, 20000.0, '20km'),\n",
       " Text(0, 30000.0, '30km'),\n",
       " Text(0, 40000.0, '40km'),\n",
       " Text(0, 50000.0, '50km'),\n",
       " Text(0, 60000.0, '60km'),\n",
       " Text(0, 70000.0, '')]"
      ]
     },
     "execution_count": 46,
     "metadata": {},
     "output_type": "execute_result"
    },
    {
     "data": {
      "image/png": "[encoded data removed]",
      "text/plain": [
       "<Figure size 720x720 with 1 Axes>"
      ]
     },
     "metadata": {},
     "output_type": "display_data"
    }
   ],
   "source": [
    "sns.set(font=\"AppleGothic\",\n",
    "        rc={\"axes.unicode_minus\":False},\n",
    "        style='darkgrid')\n",
    "plt.rcParams[\"figure.figsize\"] = (10, 10)\n",
    "\n",
    "total_top3_data = sns.boxplot(data = [jeju_data['거리(km)'], \n",
    "                                      jeonnam_data['거리(km)'], \n",
    "                                      chungnam_data['거리(km)'],\n",
    "                                      all_data['거리(km)']])\n",
    "\n",
    "total_top3_data.set_xticks(range(0,4))\n",
    "total_top3_data.set_xticklabels(['제주','전남','충남','전남+충남'])\n",
    "# total_top3_data.set_yticks([10000,20000,30000,40000,50000,60000])\n",
    "total_top3_data.set_yticklabels(['0','0km','10km','20km','30km','40km','50km','60km'], fontsize='small')\n",
    "plt.savefig('../[0]data/1-10-1_시각화_사고다발지역_응급실현황_박스플롯(결과).png')\n",
    "plt.show()"
   ]
  },
  {
   "cell_type": "code",
   "execution_count": null,
   "id": "84e7e71d",
   "metadata": {},
   "outputs": [],
   "source": []
  },
  {
   "cell_type": "code",
   "execution_count": 73,
   "id": "18c0c5db",
   "metadata": {},
   "outputs": [
    {
     "data": {
      "text/plain": [
       "[<matplotlib.axis.XTick at 0x7fd4d8fa81f0>,\n",
       " <matplotlib.axis.XTick at 0x7fd4d8fa81c0>,\n",
       " <matplotlib.axis.XTick at 0x7fd4d8f835e0>,\n",
       " <matplotlib.axis.XTick at 0x7fd4d8fedf70>]"
      ]
     },
     "execution_count": 73,
     "metadata": {},
     "output_type": "execute_result"
    },
    {
     "data": {
      "text/plain": [
       "[Text(0, 0, '제주'), Text(1, 0, '전남'), Text(2, 0, '충남'), Text(3, 0, '전남+충남')]"
      ]
     },
     "execution_count": 73,
     "metadata": {},
     "output_type": "execute_result"
    },
    {
     "name": "stderr",
     "output_type": "stream",
     "text": [
      "<ipython-input-73-8d339a6b76a6>:18: UserWarning: FixedFormatter should only be used together with FixedLocator\n",
      "  total_top3_data.set_yticklabels(['0','0km','10km','20km','30km','40km','50km','60km'], fontsize='small')\n"
     ]
    },
    {
     "data": {
      "text/plain": [
       "[Text(0, -10000.0, '0'),\n",
       " Text(0, 0.0, '0km'),\n",
       " Text(0, 10000.0, '10km'),\n",
       " Text(0, 20000.0, '20km'),\n",
       " Text(0, 30000.0, '30km'),\n",
       " Text(0, 40000.0, '40km'),\n",
       " Text(0, 50000.0, '50km'),\n",
       " Text(0, 60000.0, '60km'),\n",
       " Text(0, 70000.0, '')]"
      ]
     },
     "execution_count": 73,
     "metadata": {},
     "output_type": "execute_result"
    },
    {
     "data": {
      "image/png": "[encoded data removed]",
      "text/plain": [
       "<Figure size 720x720 with 1 Axes>"
      ]
     },
     "metadata": {},
     "output_type": "display_data"
    }
   ],
   "source": [
    "sns.set(font=\"AppleGothic\",\n",
    "        rc={\"axes.unicode_minus\":False},\n",
    "        style='darkgrid')\n",
    "plt.rcParams[\"figure.figsize\"] = (10, 10)\n",
    "\n",
    "total_top3_data = sns.boxplot(data = [jeju_data['거리(km)'], \n",
    "                                      jeonnam_data['거리(km)'], \n",
    "                                      chungnam_data['거리(km)'],\n",
    "                                      all_data['거리(km)']])\n",
    "ax=sns.swarmplot(\n",
    "                 data = [jeju_data['거리(km)'], \n",
    "                                      jeonnam_data['거리(km)'], \n",
    "                                      chungnam_data['거리(km)'],\n",
    "                                      all_data['거리(km)']],color=\"black\")\n",
    "total_top3_data.set_xticks(range(0,4))\n",
    "total_top3_data.set_xticklabels(['제주','전남','충남','전남+충남'])\n",
    "# total_top3_data.set_yticks([10000,20000,30000,40000,50000,60000])\n",
    "total_top3_data.set_yticklabels(['0','0km','10km','20km','30km','40km','50km','60km'], fontsize='small')\n",
    "\n",
    "plt.show()\n"
   ]
  },
  {
   "cell_type": "code",
   "execution_count": 57,
   "id": "4403af2c",
   "metadata": {},
   "outputs": [],
   "source": [
    "mean_ch = chungnam_data['거리(km)'].astype('int').mean()\n",
    "mean_jn = jeonnam_data['거리(km)'].astype('int').mean()\n",
    "mean_jj = jeju_data['거리(km)'].astype('int').mean()"
   ]
  },
  {
   "cell_type": "code",
   "execution_count": 59,
   "id": "00d34718",
   "metadata": {},
   "outputs": [
    {
     "data": {
      "text/plain": [
       "[15566.894736842105, 10485.0, 1620.0]"
      ]
     },
     "execution_count": 59,
     "metadata": {},
     "output_type": "execute_result"
    }
   ],
   "source": [
    "Means = [mean_ch,mean_jn,mean_jj]\n",
    "Means"
   ]
  },
  {
   "cell_type": "code",
   "execution_count": 72,
   "id": "03d30460",
   "metadata": {},
   "outputs": [
    {
     "data": {
      "text/plain": [
       "[<matplotlib.axis.XTick at 0x7fd4d8e42670>,\n",
       " <matplotlib.axis.XTick at 0x7fd4d8e424f0>,\n",
       " <matplotlib.axis.XTick at 0x7fd4d8e11f40>,\n",
       " <matplotlib.axis.XTick at 0x7fd4d8f5e970>]"
      ]
     },
     "execution_count": 72,
     "metadata": {},
     "output_type": "execute_result"
    },
    {
     "data": {
      "text/plain": [
       "[Text(0, 0, '제주'), Text(1, 0, '전남'), Text(2, 0, '충남'), Text(3, 0, '전남+충남')]"
      ]
     },
     "execution_count": 72,
     "metadata": {},
     "output_type": "execute_result"
    },
    {
     "name": "stderr",
     "output_type": "stream",
     "text": [
      "<ipython-input-72-ced0515ce6e4>:16: UserWarning: FixedFormatter should only be used together with FixedLocator\n",
      "  total_top3_data.set_yticklabels(['0','0km','10km','20km','30km','40km','50km','60km'], fontsize='small')\n"
     ]
    },
    {
     "data": {
      "text/plain": [
       "[Text(0, -10000.0, '0'),\n",
       " Text(0, 0.0, '0km'),\n",
       " Text(0, 10000.0, '10km'),\n",
       " Text(0, 20000.0, '20km'),\n",
       " Text(0, 30000.0, '30km'),\n",
       " Text(0, 40000.0, '40km'),\n",
       " Text(0, 50000.0, '50km'),\n",
       " Text(0, 60000.0, '60km'),\n",
       " Text(0, 70000.0, '')]"
      ]
     },
     "execution_count": 72,
     "metadata": {},
     "output_type": "execute_result"
    },
    {
     "data": {
      "image/png": "[encoded data removed]",
      "text/plain": [
       "<Figure size 720x720 with 1 Axes>"
      ]
     },
     "metadata": {},
     "output_type": "display_data"
    }
   ],
   "source": [
    "sns.set(font=\"AppleGothic\",\n",
    "        rc={\"axes.unicode_minus\":False},\n",
    "        style='darkgrid')\n",
    "plt.rcParams[\"figure.figsize\"] = (10, 10)\n",
    "\n",
    "total_top3_data = sns.boxplot(data = [jeju_data['거리(km)'], \n",
    "                                      jeonnam_data['거리(km)'], \n",
    "                                      chungnam_data['거리(km)'],\n",
    "                                      all_data['거리(km)']],\n",
    "                             showmeans=True,\n",
    "                             meanprops={'marker':'o','markerfacecolor':'black','markersize':10})\n",
    "\n",
    "total_top3_data.set_xticks(range(0,4))\n",
    "total_top3_data.set_xticklabels(['제주','전남','충남','전남+충남'])\n",
    "# total_top3_data.set_yticks([10000,20000,30000,40000,50000,60000])\n",
    "total_top3_data.set_yticklabels(['0','0km','10km','20km','30km','40km','50km','60km'], fontsize='small')\n",
    "\n",
    "plt.show()"
   ]
  }
 ],
 "metadata": {
  "kernelspec": {
   "display_name": "Python 3",
   "language": "python",
   "name": "python3"
  },
  "language_info": {
   "codemirror_mode": {
    "name": "ipython",
    "version": 3
   },
   "file_extension": ".py",
   "mimetype": "text/x-python",
   "name": "python",
   "nbconvert_exporter": "python",
   "pygments_lexer": "ipython3",
   "version": "3.8.8"
  }
 },
 "nbformat": 4,
 "nbformat_minor": 5
}
